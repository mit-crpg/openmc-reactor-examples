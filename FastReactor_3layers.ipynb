{
 "cells": [
  {
   "cell_type": "code",
   "execution_count": null,
   "metadata": {
    "colab": {
     "base_uri": "https://localhost:8080/"
    },
    "id": "q9Vo6HOQUQbS",
    "outputId": "020190f0-fec4-4a85-a716-2a98b03b3340"
   },
   "outputs": [],
   "source": [
    "#Add google drive\n",
    "from google.colab import drive\n",
    "drive.mount('/gdrive')"
   ]
  },
  {
   "cell_type": "code",
   "execution_count": null,
   "metadata": {
    "colab": {
     "base_uri": "https://localhost:8080/"
    },
    "id": "Gxe4BVR2U8E8",
    "outputId": "40f9669b-dded-4035-8315-6e87af3b0190"
   },
   "outputs": [],
   "source": [
    "#Add link to shared cross section library\n",
    "#shared library was added as a shortcut to My Drive from the web interface\n",
    "%env OPENMC_CROSS_SECTIONS = /gdrive/My Drive/data/endfb71_hdf5/cross_sections.xml"
   ]
  },
  {
   "cell_type": "code",
   "execution_count": null,
   "metadata": {
    "colab": {
     "base_uri": "https://localhost:8080/"
    },
    "id": "vurNcsJ6VMEb",
    "outputId": "577e37b1-2f6d-40c8-9f39-9e54e4f4c7f3"
   },
   "outputs": [],
   "source": [
    "#Download miniconda and install\n",
    "! wget https://repo.anaconda.com/miniconda/Miniconda3-py37_4.8.2-Linux-x86_64.sh\n",
    "! chmod +x Miniconda3-py37_4.8.2-Linux-x86_64.sh\n",
    "! bash ./Miniconda3-py37_4.8.2-Linux-x86_64.sh -b -f -p /usr/local\n",
    "import sys\n",
    "sys.path.append('/usr/local/lib/python3.7/site-packages/')"
   ]
  },
  {
   "cell_type": "code",
   "execution_count": null,
   "metadata": {
    "colab": {
     "base_uri": "https://localhost:8080/"
    },
    "id": "0Wbv_s-7VPnw",
    "outputId": "89e69506-6126-4422-bee0-3f3a364bd2fc",
    "scrolled": false
   },
   "outputs": [],
   "source": [
    "# Install OpenMC\n",
    "!conda config --add channels conda-forge\n",
    "!conda install openmc -y"
   ]
  },
  {
   "cell_type": "code",
   "execution_count": 1,
   "metadata": {
    "id": "EChOeJ7qVUB7"
   },
   "outputs": [],
   "source": [
    "import openmc"
   ]
  },
  {
   "cell_type": "code",
   "execution_count": 2,
   "metadata": {
    "id": "nqP7RMlnz8wL"
   },
   "outputs": [],
   "source": [
    "%matplotlib inline"
   ]
  },
  {
   "cell_type": "markdown",
   "metadata": {
    "id": "Hw95DPQPUe3s"
   },
   "source": [
    "Define the materials"
   ]
  },
  {
   "cell_type": "code",
   "execution_count": 3,
   "metadata": {
    "id": "jlu98MGXV9MP"
   },
   "outputs": [],
   "source": [
    "#inner_fuel_zone_per = {'U235': 0.0019, 'U238': 0.7509, 'Pu238': 0.0046, 'Pu239': 0.0612, 'Pu240': 0.0383, 'Pu241': 0.0106, 'Pu242': 0.0134, 'Am241': 0.001, 'O16': 0.1181}\n",
    "#outer_fuel_zone_per = {'U235': 0.0018, 'U238': 0.73, 'Pu238': 0.0053, 'Pu239': 0.0711, 'Pu240': 0.0445, 'Pu241': 0.0124, 'Pu242': 0.0156, 'Am241': 0.0017, 'O16': 0.1175}\n",
    "#reflector_fuel_zone_per = {'Na23':0.5, 'F19':0.5}\n",
    "#input density#####10g/cc for most cases; .96g/cc for liquid sodium \n",
    "\n",
    "# inner\n",
    "u235 = openmc.Material(name='U235')\n",
    "u235.set_density('g/cm3', 10.0)\n",
    "u235.add_nuclide('U235', 1.0)\n",
    "\n",
    "u238 = openmc.Material(name='U238')\n",
    "u238.set_density('g/cm3', 10.0)\n",
    "u238.add_nuclide('U238', 1.0)\n",
    "\n",
    "pu238 = openmc.Material(name='Pu238')\n",
    "pu238.set_density('g/cm3', 10.0)\n",
    "pu238.add_nuclide('U238', 1.0)\n",
    "\n",
    "pu239 = openmc.Material(name='U235')\n",
    "pu239.add_nuclide('Pu239', 1.0)\n",
    "pu239.set_density('g/cm3', 10.0)\n",
    "\n",
    "pu240 = openmc.Material(name = 'pu240')\n",
    "pu240.add_nuclide('Pu240', 1.0)\n",
    "pu240.set_density('g/cm3', 10.0)\n",
    "\n",
    "pu241 = openmc.Material(name = 'pu241')\n",
    "pu241.add_nuclide('Pu241', 1.0)\n",
    "pu241.set_density('g/cm3', 10.0)\n",
    "\n",
    "pu242 = openmc.Material(name = 'pu242')\n",
    "pu242.add_nuclide('Pu242', 1.0)\n",
    "pu242.set_density('g/cm3', 10.0)\n",
    "\n",
    "am241 = openmc.Material(name = 'am241')\n",
    "am241.add_nuclide('Am241', 1.0)\n",
    "am241.set_density('g/cm3', 10.0)\n",
    "\n",
    "o16 = openmc.Material(name = 'o16')\n",
    "o16.add_nuclide('O16', 1.0)\n",
    "o16.set_density('g/cm3', 10.0)\n",
    "\n",
    "#gap (liquid sodium?) Sodium gap width inter assembly\t0.45 cm\n",
    "sodium = openmc.Material(name='sodium')\n",
    "sodium.set_density('g/cm3', 0.96)\n",
    "sodium.add_nuclide('Na23', 1.0)\n",
    "\n",
    "#clad (ODS steel); 99.7 wt% (99.3 vol%) Cu, 0.3 wt% (0.7 vol%) Al2O3\n",
    "\n",
    "cu63 = openmc.Material(name= 'cu63')\n",
    "cu63.set_density('g/cm3', 10.0)\n",
    "cu63.add_nuclide('Cu63', 1.0)\n",
    "\n",
    "Al2O3 = openmc.Material(name='Al2O3')\n",
    "Al2O3.set_density('g/cm3', 10.0)\n",
    "Al2O3.add_element('O', 3.0)\n",
    "Al2O3.add_element('Al', 2.0)\n",
    "\n",
    "#moderator, liquid sodium?"
   ]
  },
  {
   "cell_type": "markdown",
   "metadata": {},
   "source": [
    "Use the materials defined above to make material mixtures."
   ]
  },
  {
   "cell_type": "code",
   "execution_count": 4,
   "metadata": {
    "id": "_ltK5VzGZ8kk"
   },
   "outputs": [],
   "source": [
    "inner = openmc.Material.mix_materials([u235, u238, pu238, pu239, pu240, pu241, pu242, am241, o16],[0.0019, 0.7509, 0.0046, 0.0612, 0.0383, 0.0106, 0.0134, 0.001, 0.1181],'wo')\n",
    "outer = openmc.Material.mix_materials([u235, u238, pu238, pu239, pu240, pu241, pu242, am241, o16],[0.0018, 0.73, 0.0053, 0.0711, 0.0445, 0.0124, 0.0156, 0.0017, 0.1176],'wo')\n",
    "clad = openmc.Material.mix_materials([cu63,Al2O3],[0.997,0.003],'wo')"
   ]
  },
  {
   "cell_type": "code",
   "execution_count": 5,
   "metadata": {
    "id": "A2kNKaErZ7JR"
   },
   "outputs": [],
   "source": [
    "materials_file = openmc.Materials([inner, outer, sodium, clad])\n",
    "materials_file.export_to_xml()\n",
    "#!cat materials.xml"
   ]
  },
  {
   "cell_type": "markdown",
   "metadata": {},
   "source": [
    "Now, we being to define the geometry. First, we will make a few general geometry features that will be used many times: the fuel cylinder, the top & bottom of the geometry, etc. "
   ]
  },
  {
   "cell_type": "code",
   "execution_count": 6,
   "metadata": {
    "id": "OrML6oju4spK"
   },
   "outputs": [],
   "source": [
    "fuel_or = openmc.ZCylinder(surface_id=1, r=0.943/2) \n",
    "clad_ir = openmc.ZCylinder(surface_id=2, r=0.973/2) \n",
    "clad_or = openmc.ZCylinder(surface_id=3, r=1.073/2) \n",
    "\n",
    "# Active height 100cm\n",
    "top    = openmc.ZPlane(surface_id=4, z0=+50, boundary_type='vacuum')\n",
    "bottom = openmc.ZPlane(surface_id=5, z0=-50, boundary_type='vacuum') \n",
    "\n",
    "fuel_region = -fuel_or & -top & +bottom\n",
    "gap_region  = +fuel_or & -clad_ir  & -top & +bottom\n",
    "clad_region = +clad_ir & -clad_or  & -top & +bottom\n",
    "moderator_region = +clad_or & -top & +bottom\n",
    " \n",
    "gap_cell    = openmc.Cell(cell_id=1, fill=inner,  region=gap_region)\n",
    "clad_cell   = openmc.Cell(cell_id=2, fill=clad,   region=clad_region)\n",
    "sodium_cell = openmc.Cell(cell_id=3, fill=sodium, region=moderator_region)"
   ]
  },
  {
   "cell_type": "markdown",
   "metadata": {},
   "source": [
    "Now let's begin with the fuel universe for the inner core. This fuel universe has the \"inner\" fuel material which is a unique fuel mixture."
   ]
  },
  {
   "cell_type": "code",
   "execution_count": 7,
   "metadata": {
    "id": "8L0zqqhZfxKh"
   },
   "outputs": [],
   "source": [
    "inner_fuel_cell = openmc.Cell(cell_id=4, fill=inner, region=fuel_region)\n",
    "inner_u = openmc.Universe(universe_id=1, cells=(inner_fuel_cell, gap_cell, clad_cell, sodium_cell))"
   ]
  },
  {
   "cell_type": "code",
   "execution_count": 8,
   "metadata": {
    "colab": {
     "base_uri": "https://localhost:8080/",
     "height": 287
    },
    "id": "D5h1F_7EhnNO",
    "outputId": "521daa80-7be2-4fc5-a322-a2c3edb18b0c"
   },
   "outputs": [
    {
     "data": {
      "text/plain": [
       "<matplotlib.image.AxesImage at 0x1257c89d0>"
      ]
     },
     "execution_count": 8,
     "metadata": {},
     "output_type": "execute_result"
    },
    {
     "data": {
      "image/png": "[encoded data removed]",
      "text/plain": [
       "<Figure size 432x288 with 1 Axes>"
      ]
     },
     "metadata": {
      "needs_background": "light"
     },
     "output_type": "display_data"
    }
   ],
   "source": [
    "inner_u.plot(pixels=(500, 500), width = (3,3))"
   ]
  },
  {
   "cell_type": "markdown",
   "metadata": {},
   "source": [
    "Now let's follow up with the fuel universe for the outer core. This fuel universe has the \"outer\" fuel material which is a unique fuel mixture."
   ]
  },
  {
   "cell_type": "code",
   "execution_count": 9,
   "metadata": {
    "id": "iAHLhKZYh6y5"
   },
   "outputs": [],
   "source": [
    "outer_fuel_cell = openmc.Cell(cell_id=5, fill=outer, region=fuel_region)\n",
    "outer_u = openmc.Universe(universe_id=2, cells=(outer_fuel_cell, gap_cell, clad_cell, sodium_cell))"
   ]
  },
  {
   "cell_type": "code",
   "execution_count": 10,
   "metadata": {
    "colab": {
     "base_uri": "https://localhost:8080/",
     "height": 287
    },
    "id": "_2WoQimYiF6h",
    "outputId": "5c15287f-dc40-47ff-d035-21093cc595ac"
   },
   "outputs": [
    {
     "data": {
      "text/plain": [
       "<matplotlib.image.AxesImage at 0x1258a4a00>"
      ]
     },
     "execution_count": 10,
     "metadata": {},
     "output_type": "execute_result"
    },
    {
     "data": {
      "image/png": "[encoded data removed]",
      "text/plain": [
       "<Figure size 432x288 with 1 Axes>"
      ]
     },
     "metadata": {
      "needs_background": "light"
     },
     "output_type": "display_data"
    }
   ],
   "source": [
    "outer_u.plot(pixels=(500, 500), width=(3,3))"
   ]
  },
  {
   "cell_type": "markdown",
   "metadata": {},
   "source": [
    "We have inner fuel and outer fuel universes defined, so now we can create assemblies that are filled with either one. "
   ]
  },
  {
   "cell_type": "code",
   "execution_count": 11,
   "metadata": {
    "id": "cWTxCkwKRwYj"
   },
   "outputs": [
    {
     "name": "stderr",
     "output_type": "stream",
     "text": [
      "/Users/miriamrathbun/codes/openmc-mak/openmc/mixin.py:68: IDWarning: Another Lattice instance already exists with id=1.\n",
      "  warn(msg, IDWarning)\n"
     ]
    }
   ],
   "source": [
    "# Creating a filling that will surround any emtpy space in the core\n",
    "sodium_mod_cell = openmc.Cell(cell_id=6, fill=sodium)\n",
    "sodium_mod_u = openmc.Universe(universe_id=3, cells=(sodium_mod_cell,))\n",
    "\n",
    "# Define a lattice\n",
    "in_lat = openmc.HexLattice(lattice_id=1, name='inner assembly')\n",
    "in_lat.center = (0., 0.)\n",
    "in_lat.pitch = (21.08/17,) #in cm, 21.08 is pitch of assembly filled into full core\n",
    "in_lat.orientation = 'x'\n",
    "in_lat.outer = sodium_mod_u\n",
    "#print(lat.show_indices(9))\n",
    "\n",
    "# Create rings of fuel universes that will fill the lattice\n",
    "inone = [inner_u]*48\n",
    "intwo = [inner_u]*42\n",
    "inthree = [inner_u]*36\n",
    "infour = [inner_u]*30\n",
    "infive = [inner_u]*24\n",
    "insix = [inner_u]*18\n",
    "inseven = [inner_u]*12\n",
    "ineight = [inner_u]*6\n",
    "innine = [inner_u]*1\n",
    "in_lat.universes = [inone,intwo,inthree,infour,infive,insix,inseven,ineight,innine]\n",
    "\n",
    "# Create the prism that will contain the lattice\n",
    "outer_in_surface = openmc.model.hexagonal_prism(edge_length=12.1705, orientation='x')\n",
    "\n",
    "# Fill a cell with the lattice. This cell is filled with the lattice and contained within the prism.\n",
    "main_in_assembly = openmc.Cell(cell_id=7, fill=in_lat, region=outer_in_surface & -top & +bottom)\n",
    "\n",
    "# Fill a cell with a material that will surround the lattice\n",
    "out_in_assembly  = openmc.Cell(cell_id=8, fill=sodium, region=~outer_in_surface & -top & +bottom)\n",
    "\n",
    "# Create a universe that contains both \n",
    "main_in_u = openmc.Universe(universe_id=4, cells=[main_in_assembly, out_in_assembly])"
   ]
  },
  {
   "cell_type": "code",
   "execution_count": 12,
   "metadata": {},
   "outputs": [
    {
     "data": {
      "text/plain": [
       "<matplotlib.image.AxesImage at 0x12591a190>"
      ]
     },
     "execution_count": 12,
     "metadata": {},
     "output_type": "execute_result"
    },
    {
     "data": {
      "image/png": "[encoded data removed]",
      "text/plain": [
       "<Figure size 432x288 with 1 Axes>"
      ]
     },
     "metadata": {
      "needs_background": "light"
     },
     "output_type": "display_data"
    }
   ],
   "source": [
    "main_in_u.plot(origin = (0,0,0), pixels=(500, 500), width = (30.,30.), color_by = 'material')"
   ]
  },
  {
   "cell_type": "markdown",
   "metadata": {},
   "source": [
    "Let's do the exact same thing again, this time the assembly lattice will be full of outer fuel universes."
   ]
  },
  {
   "cell_type": "code",
   "execution_count": 13,
   "metadata": {
    "id": "1SIgRmjLTuPJ"
   },
   "outputs": [
    {
     "name": "stderr",
     "output_type": "stream",
     "text": [
      "/Users/miriamrathbun/codes/openmc-mak/openmc/mixin.py:68: IDWarning: Another Lattice instance already exists with id=2.\n",
      "  warn(msg, IDWarning)\n"
     ]
    }
   ],
   "source": [
    "# Define a lattice\n",
    "out_lat = openmc.HexLattice(lattice_id=2, name='outer assembly')\n",
    "out_lat.center = (0., 0.)\n",
    "out_lat.pitch = (21.08/17,) #in cm, 21.08 is pitch of assembly filled into full core\n",
    "out_lat.orientation = 'x'\n",
    "out_lat.outer = sodium_mod_u\n",
    "#print(lat.show_indices(9))\n",
    "\n",
    "# Create rings of fuel universes that will fill the lattice\n",
    "outone = [outer_u]*48\n",
    "outtwo = [outer_u]*42\n",
    "outthree = [outer_u]*36\n",
    "outfour = [outer_u]*30\n",
    "outfive = [outer_u]*24\n",
    "outsix = [outer_u]*18\n",
    "outseven = [outer_u]*12\n",
    "outeight = [outer_u]*6\n",
    "outnine = [outer_u]*1\n",
    "out_lat.universes = [outone,outtwo,outthree,outfour,outfive,outsix,outseven,outeight,outnine]\n",
    "\n",
    "# Create the prism that will contain the lattice\n",
    "outer_out_surface = openmc.model.hexagonal_prism(edge_length=12.1705)\n",
    "\n",
    "# Fill a cell with the lattice. This cell is filled with the lattice and contained within the prism.\n",
    "main_out_assembly = openmc.Cell(cell_id=9,  fill=out_lat, region=outer_out_surface & -top & +bottom)\n",
    "\n",
    "# Fill a cell with a material that will surround the lattice\n",
    "out_out_assembly  = openmc.Cell(cell_id=10, fill=sodium,  region=~outer_out_surface & -top & +bottom)\n",
    "\n",
    "# Create a universe that contains both \n",
    "main_out_u = openmc.Universe(universe_id=5, cells=[main_out_assembly, out_out_assembly])"
   ]
  },
  {
   "cell_type": "code",
   "execution_count": 14,
   "metadata": {},
   "outputs": [
    {
     "data": {
      "text/plain": [
       "<matplotlib.image.AxesImage at 0x125969dc0>"
      ]
     },
     "execution_count": 14,
     "metadata": {},
     "output_type": "execute_result"
    },
    {
     "data": {
      "image/png": "[encoded data removed]",
      "text/plain": [
       "<Figure size 432x288 with 1 Axes>"
      ]
     },
     "metadata": {
      "needs_background": "light"
     },
     "output_type": "display_data"
    }
   ],
   "source": [
    "main_out_u.plot(origin = (0,0,0), pixels=(500, 500), width = (30.,30.), color_by = 'material')"
   ]
  },
  {
   "cell_type": "markdown",
   "metadata": {},
   "source": [
    "The last type of assembly we need it a reflector assembly. This is really just a cell that's 100% full of reflector material. So there is no need to make a lattice. We just have a prism that is full of sodium."
   ]
  },
  {
   "cell_type": "code",
   "execution_count": 15,
   "metadata": {
    "colab": {
     "base_uri": "https://localhost:8080/",
     "height": 283
    },
    "id": "pDf5K0t-eYRM",
    "outputId": "97396467-3a79-41bb-e9bd-8d4ff43369cf"
   },
   "outputs": [],
   "source": [
    "reflector_assembly = openmc.model.hexagonal_prism(edge_length=12.1705, orientation='x')\n",
    "ref_cell = openmc.Cell(cell_id=11, fill=sodium, region=reflector_assembly & -top & +bottom)\n",
    "out_ref_cell  = openmc.Cell(cell_id=12, fill=sodium, region=~reflector_assembly & -top & +bottom)\n",
    "ref_u = openmc.Universe(universe_id=6, cells=[ref_cell, out_ref_cell])"
   ]
  },
  {
   "cell_type": "code",
   "execution_count": 16,
   "metadata": {
    "id": "itS3otSmcNHd"
   },
   "outputs": [
    {
     "data": {
      "text/plain": [
       "<matplotlib.image.AxesImage at 0x1259c0910>"
      ]
     },
     "execution_count": 16,
     "metadata": {},
     "output_type": "execute_result"
    },
    {
     "data": {
      "image/png": "[encoded data removed]",
      "text/plain": [
       "<Figure size 432x288 with 1 Axes>"
      ]
     },
     "metadata": {
      "needs_background": "light"
     },
     "output_type": "display_data"
    }
   ],
   "source": [
    "ref_u.plot(origin = (0,0,0), width = (50.,50.), color_by = 'material')"
   ]
  },
  {
   "cell_type": "markdown",
   "metadata": {},
   "source": [
    "We now have 3 types of assemblies created! We can now make the entire reactor core by creating a lattice that is filled with the assemblies. "
   ]
  },
  {
   "cell_type": "code",
   "execution_count": 17,
   "metadata": {
    "id": "6lDqg4lLWD7v"
   },
   "outputs": [
    {
     "name": "stderr",
     "output_type": "stream",
     "text": [
      "/Users/miriamrathbun/codes/openmc-mak/openmc/mixin.py:68: IDWarning: Another Lattice instance already exists with id=3.\n",
      "  warn(msg, IDWarning)\n"
     ]
    }
   ],
   "source": [
    "# Define the lattice\n",
    "core_lat = openmc.HexLattice(lattice_id=3, name='core')\n",
    "core_lat.center = (0., 0.)\n",
    "core_lat.pitch = (21.08,) #in cm, 21.08 is pitch of assembly filled into full core\n",
    "core_lat.outer = sodium_mod_u\n",
    "#print(lat.show_indices(17))"
   ]
  },
  {
   "cell_type": "code",
   "execution_count": 18,
   "metadata": {
    "id": "M1FcPGAbjH3J"
   },
   "outputs": [],
   "source": [
    "# Create rings of fuel universes that will fill the lattice\n",
    "ref_one = [ref_u] * 96\n",
    "ref_two = [ref_u] * 90\n",
    "ref_three = [ref_u] * 84\n",
    "ref_four = ([ref_u] * 5 + [main_out_u] * 4 + [ref_u] * 4) * 6\n",
    "ref_five = ([ref_u] + [main_out_u] * 11) * 6\n",
    "out_one = [main_out_u]*66\n",
    "out_two = [main_out_u]*60\n",
    "out_three = ([main_out_u]*2 + [main_in_u]*6 + [main_out_u] * 1)*6\n",
    "in_one = [main_in_u]*48\n",
    "in_two = [main_in_u]*42\n",
    "in_three = [main_in_u]*36\n",
    "in_four = [main_in_u]*30\n",
    "in_five = [main_in_u]*24\n",
    "in_six = [main_in_u]*18\n",
    "in_seven = [main_in_u]*12\n",
    "in_eight = [main_in_u]*6\n",
    "in_nine = [main_in_u]*1\n",
    "core_lat.universes = [ref_one,ref_two,ref_three,ref_four,ref_five,out_one,out_two,out_three,in_one,in_two,in_three,in_four,in_five,in_six,in_seven,in_eight,in_nine]"
   ]
  },
  {
   "cell_type": "code",
   "execution_count": 19,
   "metadata": {
    "colab": {
     "base_uri": "https://localhost:8080/",
     "height": 283
    },
    "id": "nzVEvJgpjyY2",
    "outputId": "3f678f02-4a6c-4768-dc46-419ad37019a0",
    "scrolled": true
   },
   "outputs": [],
   "source": [
    "# Create the prism that will contain the lattice\n",
    "outer_core_surface = openmc.model.hexagonal_prism(edge_length=347.82, boundary_type='vacuum')\n",
    "\n",
    "# Fill a cell with the lattice. This cell is filled with the lattice and contained within the prism.\n",
    "core = openmc.Cell(cell_id=13, fill=core_lat, region=outer_core_surface & -top & +bottom)\n",
    "\n",
    "# Fill a cell with a material that will surround the lattice\n",
    "out_core = openmc.Cell(cell_id=14, fill=outer, region=~outer_core_surface & -top & +bottom)\n",
    "\n",
    "# Create a universe that contains both \n",
    "main_u = openmc.Universe(universe_id=7, cells=[core, out_core]) "
   ]
  },
  {
   "cell_type": "code",
   "execution_count": 20,
   "metadata": {},
   "outputs": [
    {
     "data": {
      "text/plain": [
       "<matplotlib.image.AxesImage at 0x125a17e50>"
      ]
     },
     "execution_count": 20,
     "metadata": {},
     "output_type": "execute_result"
    },
    {
     "data": {
      "image/png": "[encoded data removed]",
      "text/plain": [
       "<Figure size 432x288 with 1 Axes>"
      ]
     },
     "metadata": {
      "needs_background": "light"
     },
     "output_type": "display_data"
    }
   ],
   "source": [
    "main_u.plot(origin = (0,0,0), pixels=(1000, 1000), width = (660.,660.), color_by = 'material')"
   ]
  },
  {
   "cell_type": "markdown",
   "metadata": {},
   "source": [
    "We now have an entire reactor core defined! We can export the geometry and run the code. "
   ]
  },
  {
   "cell_type": "code",
   "execution_count": 21,
   "metadata": {},
   "outputs": [],
   "source": [
    "geom = openmc.Geometry(main_u)\n",
    "geom.export_to_xml()"
   ]
  },
  {
   "cell_type": "code",
   "execution_count": 22,
   "metadata": {
    "colab": {
     "base_uri": "https://localhost:8080/"
    },
    "id": "5mPhUg7QWVw4",
    "outputId": "f110f4ab-94b5-477b-8c55-cab8ed7c3116"
   },
   "outputs": [],
   "source": [
    "lower_left = [-300, -300, -50]\n",
    "upper_right = [300, 300, 50]\n",
    "uniform_dist = openmc.stats.Box(lower_left, upper_right, only_fissionable=True)\n",
    "src = openmc.Source(space=uniform_dist)\n",
    "\n",
    "settings = openmc.Settings()\n",
    "settings.source = src\n",
    "settings.batches = 100\n",
    "settings.inactive = 10\n",
    "settings.particles = 1000\n",
    "\n",
    "settings.export_to_xml()\n",
    "# !cat settings.xml"
   ]
  },
  {
   "cell_type": "code",
   "execution_count": 23,
   "metadata": {
    "colab": {
     "base_uri": "https://localhost:8080/",
     "height": 1000
    },
    "id": "A_f292ebWZFM",
    "outputId": "d6710d6c-aea6-43c9-e63c-b2e62ea7ea08"
   },
   "outputs": [
    {
     "name": "stdout",
     "output_type": "stream",
     "text": [
      "                                %%%%%%%%%%%%%%%\n",
      "                           %%%%%%%%%%%%%%%%%%%%%%%%\n",
      "                        %%%%%%%%%%%%%%%%%%%%%%%%%%%%%%\n",
      "                      %%%%%%%%%%%%%%%%%%%%%%%%%%%%%%%%%%\n",
      "                    %%%%%%%%%%%%%%%%%%%%%%%%%%%%%%%%%%%%%%\n",
      "                   %%%%%%%%%%%%%%%%%%%%%%%%%%%%%%%%%%%%%%%%\n",
      "                                    %%%%%%%%%%%%%%%%%%%%%%%%\n",
      "                                     %%%%%%%%%%%%%%%%%%%%%%%%\n",
      "                 ###############      %%%%%%%%%%%%%%%%%%%%%%%%\n",
      "                ##################     %%%%%%%%%%%%%%%%%%%%%%%\n",
      "                ###################     %%%%%%%%%%%%%%%%%%%%%%%\n",
      "                ####################     %%%%%%%%%%%%%%%%%%%%%%\n",
      "                #####################     %%%%%%%%%%%%%%%%%%%%%\n",
      "                ######################     %%%%%%%%%%%%%%%%%%%%\n",
      "                #######################     %%%%%%%%%%%%%%%%%%\n",
      "                 #######################     %%%%%%%%%%%%%%%%%\n",
      "                 ######################     %%%%%%%%%%%%%%%%%\n",
      "                  ####################     %%%%%%%%%%%%%%%%%\n",
      "                    #################     %%%%%%%%%%%%%%%%%\n",
      "                     ###############     %%%%%%%%%%%%%%%%\n",
      "                       ############     %%%%%%%%%%%%%%%\n",
      "                          ########     %%%%%%%%%%%%%%\n",
      "                                      %%%%%%%%%%%\n",
      "\n",
      "                   | The OpenMC Monte Carlo Code\n",
      "         Copyright | 2011-2020 MIT and OpenMC contributors\n",
      "           License | https://docs.openmc.org/en/latest/license.html\n",
      "           Version | 0.12.1-dev\n",
      "          Git SHA1 | 0228ddba1d6399e654a295e51539590f076b2a3c\n",
      "         Date/Time | 2021-02-22 22:22:08\n",
      "    OpenMP Threads | 8\n",
      "\n",
      " Reading settings XML file...\n",
      " Reading cross sections XML file...\n",
      " Reading materials XML file...\n",
      " Reading geometry XML file...\n",
      " Reading Na23 from\n",
      " /Users/miriamrathbun/codes/openmc/nucleardata/endfb71_hdf5/Na23.h5\n",
      " Reading U235 from\n",
      " /Users/miriamrathbun/codes/openmc/nucleardata/endfb71_hdf5/U235.h5\n",
      " Reading U238 from\n",
      " /Users/miriamrathbun/codes/openmc/nucleardata/endfb71_hdf5/U238.h5\n",
      " Reading Pu239 from\n",
      " /Users/miriamrathbun/codes/openmc/nucleardata/endfb71_hdf5/Pu239.h5\n",
      " Reading Pu240 from\n",
      " /Users/miriamrathbun/codes/openmc/nucleardata/endfb71_hdf5/Pu240.h5\n",
      " Reading Pu241 from\n",
      " /Users/miriamrathbun/codes/openmc/nucleardata/endfb71_hdf5/Pu241.h5\n",
      " Reading Pu242 from\n",
      " /Users/miriamrathbun/codes/openmc/nucleardata/endfb71_hdf5/Pu242.h5\n",
      " Reading Am241 from\n",
      " /Users/miriamrathbun/codes/openmc/nucleardata/endfb71_hdf5/Am241.h5\n",
      " Reading O16 from\n",
      " /Users/miriamrathbun/codes/openmc/nucleardata/endfb71_hdf5/O16.h5\n",
      " Reading Cu63 from\n",
      " /Users/miriamrathbun/codes/openmc/nucleardata/endfb71_hdf5/Cu63.h5\n",
      " Reading O17 from\n",
      " /Users/miriamrathbun/codes/openmc/nucleardata/endfb71_hdf5/O17.h5\n",
      " Reading Al27 from\n",
      " /Users/miriamrathbun/codes/openmc/nucleardata/endfb71_hdf5/Al27.h5\n",
      " Minimum neutron data temperature: 294.0 K\n",
      " Maximum neutron data temperature: 294.0 K\n",
      " Preparing distributed cell instances...\n",
      " Writing summary.h5 file...\n",
      " Maximum neutron transport energy: 20000000.0 eV for Na23\n",
      " Initializing source particles...\n",
      "\n",
      " ====================>     K EIGENVALUE SIMULATION     <====================\n",
      "\n",
      "  Bat./Gen.      k            Average k\n",
      "  =========   ========   ====================\n",
      "        1/1    1.02481\n",
      "        2/1    1.12641\n",
      "        3/1    1.19114\n",
      "        4/1    1.14944\n",
      "        5/1    1.24417\n",
      "        6/1    1.18112\n",
      "        7/1    1.22681\n",
      "        8/1    1.25324\n",
      "        9/1    1.26160\n",
      "       10/1    1.24391\n",
      "       11/1    1.26299\n",
      "       12/1    1.22630    1.24465 +/- 0.01834\n",
      "       13/1    1.22617    1.23849 +/- 0.01225\n",
      "       14/1    1.17487    1.22258 +/- 0.01811\n",
      "       15/1    1.23711    1.22549 +/- 0.01433\n",
      "       16/1    1.25744    1.23081 +/- 0.01285\n",
      "       17/1    1.19600    1.22584 +/- 0.01195\n",
      "       18/1    1.22848    1.22617 +/- 0.01035\n",
      "       19/1    1.24147    1.22787 +/- 0.00929\n",
      "       20/1    1.23635    1.22872 +/- 0.00835\n",
      "       21/1    1.22312    1.22821 +/- 0.00757\n",
      "       22/1    1.22163    1.22766 +/- 0.00693\n",
      "       23/1    1.21767    1.22689 +/- 0.00642\n",
      "       24/1    1.16644    1.22257 +/- 0.00735\n",
      "       25/1    1.19885    1.22099 +/- 0.00702\n",
      "       26/1    1.21883    1.22086 +/- 0.00657\n",
      "       27/1    1.24819    1.22246 +/- 0.00638\n",
      "       28/1    1.26476    1.22481 +/- 0.00645\n",
      "       29/1    1.21935    1.22453 +/- 0.00611\n",
      "       30/1    1.23808    1.22520 +/- 0.00584\n",
      "       31/1    1.16740    1.22245 +/- 0.00620\n",
      "       32/1    1.21038    1.22190 +/- 0.00593\n",
      "       33/1    1.20477    1.22116 +/- 0.00572\n",
      "       34/1    1.26182    1.22285 +/- 0.00573\n",
      "       35/1    1.22385    1.22289 +/- 0.00550\n",
      "       36/1    1.30378    1.22600 +/- 0.00613\n",
      "       37/1    1.26827    1.22757 +/- 0.00610\n",
      "       38/1    1.27147    1.22914 +/- 0.00609\n",
      "       39/1    1.23282    1.22926 +/- 0.00587\n",
      "       40/1    1.25327    1.23006 +/- 0.00573\n",
      "       41/1    1.19087    1.22880 +/- 0.00569\n",
      "       42/1    1.28910    1.23068 +/- 0.00582\n",
      "       43/1    1.23440    1.23080 +/- 0.00564\n",
      "       44/1    1.22528    1.23063 +/- 0.00547\n",
      "       45/1    1.25779    1.23141 +/- 0.00537\n",
      "       46/1    1.26413    1.23232 +/- 0.00530\n",
      "       47/1    1.27685    1.23352 +/- 0.00529\n",
      "       48/1    1.27599    1.23464 +/- 0.00527\n",
      "       49/1    1.28307    1.23588 +/- 0.00528\n",
      "       50/1    1.26215    1.23654 +/- 0.00519\n",
      "       51/1    1.22880    1.23635 +/- 0.00507\n",
      "       52/1    1.22389    1.23605 +/- 0.00495\n",
      "       53/1    1.23361    1.23600 +/- 0.00484\n",
      "       54/1    1.22966    1.23585 +/- 0.00473\n",
      "       55/1    1.22266    1.23556 +/- 0.00463\n",
      "       56/1    1.25986    1.23609 +/- 0.00456\n",
      "       57/1    1.31764    1.23782 +/- 0.00479\n",
      "       58/1    1.29656    1.23905 +/- 0.00484\n",
      "       59/1    1.25418    1.23936 +/- 0.00475\n",
      "       60/1    1.21933    1.23896 +/- 0.00467\n",
      "       61/1    1.23886    1.23895 +/- 0.00458\n",
      "       62/1    1.22153    1.23862 +/- 0.00451\n",
      "       63/1    1.25440    1.23892 +/- 0.00443\n",
      "       64/1    1.23758    1.23889 +/- 0.00435\n",
      "       65/1    1.29599    1.23993 +/- 0.00439\n",
      "       66/1    1.25912    1.24027 +/- 0.00433\n",
      "       67/1    1.25699    1.24057 +/- 0.00426\n",
      "       68/1    1.21444    1.24011 +/- 0.00421\n",
      "       69/1    1.25080    1.24030 +/- 0.00414\n",
      "       70/1    1.30284    1.24134 +/- 0.00420\n",
      "       71/1    1.26208    1.24168 +/- 0.00415\n",
      "       72/1    1.25869    1.24195 +/- 0.00409\n",
      "       73/1    1.24739    1.24204 +/- 0.00403\n",
      "       74/1    1.25263    1.24220 +/- 0.00397\n",
      "       75/1    1.22410    1.24193 +/- 0.00391\n",
      "       76/1    1.29268    1.24269 +/- 0.00393\n",
      "       77/1    1.22569    1.24244 +/- 0.00388\n",
      "       78/1    1.28431    1.24306 +/- 0.00387\n",
      "       79/1    1.22645    1.24282 +/- 0.00382\n",
      "       80/1    1.24248    1.24281 +/- 0.00377\n",
      "       81/1    1.22740    1.24259 +/- 0.00372\n",
      "       82/1    1.29676    1.24335 +/- 0.00374\n",
      "       83/1    1.26406    1.24363 +/- 0.00370\n",
      "       84/1    1.18714    1.24287 +/- 0.00373\n",
      "       85/1    1.24634    1.24291 +/- 0.00368\n",
      "       86/1    1.25176    1.24303 +/- 0.00364\n",
      "       87/1    1.30837    1.24388 +/- 0.00369\n",
      "       88/1    1.24285    1.24386 +/- 0.00364\n",
      "       89/1    1.22941    1.24368 +/- 0.00360\n",
      "       90/1    1.18066    1.24289 +/- 0.00364\n",
      "       91/1    1.28586    1.24342 +/- 0.00363\n",
      "       92/1    1.26556    1.24369 +/- 0.00360\n",
      "       93/1    1.22569    1.24348 +/- 0.00356\n",
      "       94/1    1.20319    1.24300 +/- 0.00355\n",
      "       95/1    1.27998    1.24343 +/- 0.00354\n",
      "       96/1    1.20130    1.24294 +/- 0.00353\n",
      "       97/1    1.24200    1.24293 +/- 0.00349\n",
      "       98/1    1.27352    1.24328 +/- 0.00347\n",
      "       99/1    1.30545    1.24398 +/- 0.00350\n",
      "      100/1    1.31981    1.24482 +/- 0.00356\n",
      " Creating state point statepoint.100.h5...\n",
      "\n",
      " =======================>     TIMING STATISTICS     <=======================\n",
      "\n",
      " Total time for initialization     = 2.3018e+00 seconds\n",
      "   Reading cross sections          = 2.2651e+00 seconds\n",
      " Total time in simulation          = 1.0711e+00 seconds\n",
      "   Time in transport only          = 1.0512e+00 seconds\n",
      "   Time in inactive batches        = 9.2840e-02 seconds\n",
      "   Time in active batches          = 9.7826e-01 seconds\n",
      "   Time synchronizing fission bank = 4.0280e-03 seconds\n",
      "     Sampling source sites         = 3.3290e-03 seconds\n",
      "     SEND/RECV source sites        = 5.3600e-04 seconds\n",
      "   Time accumulating tallies       = 2.5000e-05 seconds\n",
      "   Time writing statepoints        = 8.3760e-03 seconds\n",
      " Total time for finalization       = 7.0000e-06 seconds\n",
      " Total time elapsed                = 3.3798e+00 seconds\n",
      " Calculation Rate (inactive)       = 107712.0 particles/second\n",
      " Calculation Rate (active)         = 92000.4 particles/second\n",
      "\n",
      " ============================>     RESULTS     <============================\n",
      "\n",
      " k-effective (Collision)     = 1.24514 +/- 0.00362\n",
      " k-effective (Track-length)  = 1.24482 +/- 0.00356\n",
      " k-effective (Absorption)    = 1.24692 +/- 0.00415\n",
      " Combined k-effective        = 1.24588 +/- 0.00254\n",
      " Leakage Fraction            = 0.11453 +/- 0.00147\n",
      "\n"
     ]
    }
   ],
   "source": [
    "openmc.run()"
   ]
  },
  {
   "cell_type": "code",
   "execution_count": null,
   "metadata": {
    "id": "o4C06HCFq8R3"
   },
   "outputs": [],
   "source": []
  }
 ],
 "metadata": {
  "colab": {
   "collapsed_sections": [],
   "name": "FastReactor_3layers.ipynb",
   "provenance": []
  },
  "kernelspec": {
   "display_name": "Python 3",
   "language": "python",
   "name": "python3"
  },
  "language_info": {
   "codemirror_mode": {
    "name": "ipython",
    "version": 3
   },
   "file_extension": ".py",
   "mimetype": "text/x-python",
   "name": "python",
   "nbconvert_exporter": "python",
   "pygments_lexer": "ipython3",
   "version": "3.9.0"
  }
 },
 "nbformat": 4,
 "nbformat_minor": 1
}
