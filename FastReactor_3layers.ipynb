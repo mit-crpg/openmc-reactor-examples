{
 "cells": [
  {
   "cell_type": "code",
   "execution_count": 1,
   "metadata": {
    "colab": {
     "base_uri": "https://localhost:8080/"
    },
    "id": "q9Vo6HOQUQbS",
    "outputId": "020190f0-fec4-4a85-a716-2a98b03b3340"
   },
   "outputs": [
    {
     "name": "stdout",
     "output_type": "stream",
     "text": [
      "Mounted at /gdrive\n"
     ]
    }
   ],
   "source": [
    "#Add google drive\n",
    "from google.colab import drive\n",
    "drive.mount('/gdrive')\n"
   ]
  },
  {
   "cell_type": "code",
   "execution_count": 2,
   "metadata": {
    "colab": {
     "base_uri": "https://localhost:8080/"
    },
    "id": "Gxe4BVR2U8E8",
    "outputId": "40f9669b-dded-4035-8315-6e87af3b0190"
   },
   "outputs": [
    {
     "name": "stdout",
     "output_type": "stream",
     "text": [
      "env: OPENMC_CROSS_SECTIONS=/gdrive/My Drive/data/endfb71_hdf5/cross_sections.xml\n"
     ]
    }
   ],
   "source": [
    "#Add link to shared cross section library\n",
    "#shared library was added as a shortcut to My Drive from the web interface\n",
    "%env OPENMC_CROSS_SECTIONS = /gdrive/My Drive/data/endfb71_hdf5/cross_sections.xml"
   ]
  },
  {
   "cell_type": "code",
   "execution_count": 3,
   "metadata": {
    "colab": {
     "base_uri": "https://localhost:8080/"
    },
    "id": "vurNcsJ6VMEb",
    "outputId": "577e37b1-2f6d-40c8-9f39-9e54e4f4c7f3"
   },
   "outputs": [
    {
     "name": "stdout",
     "output_type": "stream",
     "text": [
      "--2020-12-10 04:53:57--  https://repo.anaconda.com/miniconda/Miniconda3-py37_4.8.2-Linux-x86_64.sh\n",
      "Resolving repo.anaconda.com (repo.anaconda.com)... 104.16.131.3, 104.16.130.3, 2606:4700::6810:8303, ...\n",
      "Connecting to repo.anaconda.com (repo.anaconda.com)|104.16.131.3|:443... connected.\n",
      "HTTP request sent, awaiting response... 200 OK\n",
      "Length: 85055499 (81M) [application/x-sh]\n",
      "Saving to: ‘Miniconda3-py37_4.8.2-Linux-x86_64.sh’\n",
      "\n",
      "Miniconda3-py37_4.8 100%[===================>]  81.12M   164MB/s    in 0.5s    \n",
      "\n",
      "2020-12-10 04:53:58 (164 MB/s) - ‘Miniconda3-py37_4.8.2-Linux-x86_64.sh’ saved [85055499/85055499]\n",
      "\n",
      "PREFIX=/usr/local\n",
      "Unpacking payload ...\n",
      "Collecting package metadata (current_repodata.json): - \b\b\\ \b\b| \b\bdone\n",
      "Solving environment: - \b\b\\ \b\bdone\n",
      "\n",
      "## Package Plan ##\n",
      "\n",
      "  environment location: /usr/local\n",
      "\n",
      "  added / updated specs:\n",
      "    - _libgcc_mutex==0.1=main\n",
      "    - asn1crypto==1.3.0=py37_0\n",
      "    - ca-certificates==2020.1.1=0\n",
      "    - certifi==2019.11.28=py37_0\n",
      "    - cffi==1.14.0=py37h2e261b9_0\n",
      "    - chardet==3.0.4=py37_1003\n",
      "    - conda-package-handling==1.6.0=py37h7b6447c_0\n",
      "    - conda==4.8.2=py37_0\n",
      "    - cryptography==2.8=py37h1ba5d50_0\n",
      "    - idna==2.8=py37_0\n",
      "    - ld_impl_linux-64==2.33.1=h53a641e_7\n",
      "    - libedit==3.1.20181209=hc058e9b_0\n",
      "    - libffi==3.2.1=hd88cf55_4\n",
      "    - libgcc-ng==9.1.0=hdf63c60_0\n",
      "    - libstdcxx-ng==9.1.0=hdf63c60_0\n",
      "    - ncurses==6.2=he6710b0_0\n",
      "    - openssl==1.1.1d=h7b6447c_4\n",
      "    - pip==20.0.2=py37_1\n",
      "    - pycosat==0.6.3=py37h7b6447c_0\n",
      "    - pycparser==2.19=py37_0\n",
      "    - pyopenssl==19.1.0=py37_0\n",
      "    - pysocks==1.7.1=py37_0\n",
      "    - python==3.7.6=h0371630_2\n",
      "    - readline==7.0=h7b6447c_5\n",
      "    - requests==2.22.0=py37_1\n",
      "    - ruamel_yaml==0.15.87=py37h7b6447c_0\n",
      "    - setuptools==45.2.0=py37_0\n",
      "    - six==1.14.0=py37_0\n",
      "    - sqlite==3.31.1=h7b6447c_0\n",
      "    - tk==8.6.8=hbc83047_0\n",
      "    - tqdm==4.42.1=py_0\n",
      "    - urllib3==1.25.8=py37_0\n",
      "    - wheel==0.34.2=py37_0\n",
      "    - xz==5.2.4=h14c3975_4\n",
      "    - yaml==0.1.7=had09818_2\n",
      "    - zlib==1.2.11=h7b6447c_3\n",
      "\n",
      "\n",
      "The following NEW packages will be INSTALLED:\n",
      "\n",
      "  _libgcc_mutex      pkgs/main/linux-64::_libgcc_mutex-0.1-main\n",
      "  asn1crypto         pkgs/main/linux-64::asn1crypto-1.3.0-py37_0\n",
      "  ca-certificates    pkgs/main/linux-64::ca-certificates-2020.1.1-0\n",
      "  certifi            pkgs/main/linux-64::certifi-2019.11.28-py37_0\n",
      "  cffi               pkgs/main/linux-64::cffi-1.14.0-py37h2e261b9_0\n",
      "  chardet            pkgs/main/linux-64::chardet-3.0.4-py37_1003\n",
      "  conda              pkgs/main/linux-64::conda-4.8.2-py37_0\n",
      "  conda-package-han~ pkgs/main/linux-64::conda-package-handling-1.6.0-py37h7b6447c_0\n",
      "  cryptography       pkgs/main/linux-64::cryptography-2.8-py37h1ba5d50_0\n",
      "  idna               pkgs/main/linux-64::idna-2.8-py37_0\n",
      "  ld_impl_linux-64   pkgs/main/linux-64::ld_impl_linux-64-2.33.1-h53a641e_7\n",
      "  libedit            pkgs/main/linux-64::libedit-3.1.20181209-hc058e9b_0\n",
      "  libffi             pkgs/main/linux-64::libffi-3.2.1-hd88cf55_4\n",
      "  libgcc-ng          pkgs/main/linux-64::libgcc-ng-9.1.0-hdf63c60_0\n",
      "  libstdcxx-ng       pkgs/main/linux-64::libstdcxx-ng-9.1.0-hdf63c60_0\n",
      "  ncurses            pkgs/main/linux-64::ncurses-6.2-he6710b0_0\n",
      "  openssl            pkgs/main/linux-64::openssl-1.1.1d-h7b6447c_4\n",
      "  pip                pkgs/main/linux-64::pip-20.0.2-py37_1\n",
      "  pycosat            pkgs/main/linux-64::pycosat-0.6.3-py37h7b6447c_0\n",
      "  pycparser          pkgs/main/linux-64::pycparser-2.19-py37_0\n",
      "  pyopenssl          pkgs/main/linux-64::pyopenssl-19.1.0-py37_0\n",
      "  pysocks            pkgs/main/linux-64::pysocks-1.7.1-py37_0\n",
      "  python             pkgs/main/linux-64::python-3.7.6-h0371630_2\n",
      "  readline           pkgs/main/linux-64::readline-7.0-h7b6447c_5\n",
      "  requests           pkgs/main/linux-64::requests-2.22.0-py37_1\n",
      "  ruamel_yaml        pkgs/main/linux-64::ruamel_yaml-0.15.87-py37h7b6447c_0\n",
      "  setuptools         pkgs/main/linux-64::setuptools-45.2.0-py37_0\n",
      "  six                pkgs/main/linux-64::six-1.14.0-py37_0\n",
      "  sqlite             pkgs/main/linux-64::sqlite-3.31.1-h7b6447c_0\n",
      "  tk                 pkgs/main/linux-64::tk-8.6.8-hbc83047_0\n",
      "  tqdm               pkgs/main/noarch::tqdm-4.42.1-py_0\n",
      "  urllib3            pkgs/main/linux-64::urllib3-1.25.8-py37_0\n",
      "  wheel              pkgs/main/linux-64::wheel-0.34.2-py37_0\n",
      "  xz                 pkgs/main/linux-64::xz-5.2.4-h14c3975_4\n",
      "  yaml               pkgs/main/linux-64::yaml-0.1.7-had09818_2\n",
      "  zlib               pkgs/main/linux-64::zlib-1.2.11-h7b6447c_3\n",
      "\n",
      "\n",
      "Preparing transaction: / \b\b- \b\b\\ \b\b| \b\bdone\n",
      "Executing transaction: - \b\b\\ \b\b| \b\b/ \b\b- \b\b\\ \b\b| \b\b/ \b\b- \b\b\\ \b\b| \b\b/ \b\b- \b\b\\ \b\b| \b\b/ \b\b- \b\b\\ \b\b| \b\b/ \b\bdone\n",
      "installation finished.\n",
      "WARNING:\n",
      "    You currently have a PYTHONPATH environment variable set. This may cause\n",
      "    unexpected behavior when running the Python interpreter in Miniconda3.\n",
      "    For best results, please verify that your PYTHONPATH only points to\n",
      "    directories of packages that are compatible with the Python interpreter\n",
      "    in Miniconda3: /usr/local\n"
     ]
    }
   ],
   "source": [
    "#Download miniconda and install\n",
    "! wget https://repo.anaconda.com/miniconda/Miniconda3-py37_4.8.2-Linux-x86_64.sh\n",
    "! chmod +x Miniconda3-py37_4.8.2-Linux-x86_64.sh\n",
    "! bash ./Miniconda3-py37_4.8.2-Linux-x86_64.sh -b -f -p /usr/local\n",
    "import sys\n",
    "sys.path.append('/usr/local/lib/python3.7/site-packages/')"
   ]
  },
  {
   "cell_type": "code",
   "execution_count": 4,
   "metadata": {
    "colab": {
     "base_uri": "https://localhost:8080/"
    },
    "id": "0Wbv_s-7VPnw",
    "outputId": "89e69506-6126-4422-bee0-3f3a364bd2fc",
    "scrolled": false
   },
   "outputs": [
    {
     "name": "stdout",
     "output_type": "stream",
     "text": [
      "Collecting package metadata (current_repodata.json): - \b\b\\ \b\b| \b\b/ \b\b- \b\b\\ \b\b| \b\b/ \b\b- \b\b\\ \b\b| \b\b/ \b\b- \b\b\\ \b\b| \b\b/ \b\b- \b\b\\ \b\b| \b\b/ \b\b- \b\b\\ \b\b| \b\b/ \b\b- \b\b\\ \b\b| \b\b/ \b\b- \b\b\\ \b\b| \b\b/ \b\b- \b\b\\ \b\b| \b\b/ \b\b- \b\b\\ \b\b| \b\b/ \b\b- \b\b\\ \b\b| \b\b/ \b\b- \b\b\\ \b\b| \b\b/ \b\b- \b\b\\ \b\b| \b\b/ \b\b- \b\b\\ \b\b| \b\b/ \b\b- \b\b\\ \b\b| \b\b/ \b\b- \b\b\\ \b\b| \b\b/ \b\b- \b\b\\ \b\b| \b\b/ \b\b- \b\b\\ \b\b| \b\b/ \b\b- \b\b\\ \b\bdone\n",
      "Solving environment: / \b\b- \b\b\\ \b\b| \b\b/ \b\b- \b\b\\ \b\b| \b\b/ \b\b- \b\b\\ \b\b| \b\b/ \b\b- \b\b\\ \b\b| \b\b/ \b\b- \b\b\\ \b\b| \b\b/ \b\b- \b\b\\ \b\b| \b\b/ \b\b- \b\b\\ \b\b| \b\b/ \b\b- \b\b\\ \b\b| \b\b/ \b\b- \b\b\\ \b\b| \b\b/ \b\b- \b\b\\ \b\b| \b\b/ \b\b- \b\b\\ \b\b| \b\b/ \b\b- \b\b\\ \b\b| \b\b/ \b\b- \b\b\\ \b\b| \b\b/ \b\b- \b\b\\ \b\b| \b\b/ \b\bdone\n",
      "\n",
      "\n",
      "==> WARNING: A newer version of conda exists. <==\n",
      "  current version: 4.8.2\n",
      "  latest version: 4.9.2\n",
      "\n",
      "Please update conda by running\n",
      "\n",
      "    $ conda update -n base -c defaults conda\n",
      "\n",
      "\n",
      "\n",
      "## Package Plan ##\n",
      "\n",
      "  environment location: /usr/local\n",
      "\n",
      "  added / updated specs:\n",
      "    - openmc\n",
      "\n",
      "\n",
      "The following packages will be downloaded:\n",
      "\n",
      "    package                    |            build\n",
      "    ---------------------------|-----------------\n",
      "    ca-certificates-2020.12.5  |       ha878542_0         137 KB  conda-forge\n",
      "    cached-property-1.5.1      |             py_0          10 KB  conda-forge\n",
      "    certifi-2020.12.5          |   py37h89c1867_0         143 KB  conda-forge\n",
      "    conda-4.9.2                |   py37h89c1867_0         3.0 MB  conda-forge\n",
      "    cycler-0.10.0              |             py_2           9 KB  conda-forge\n",
      "    freetype-2.10.4            |       h7ca028e_0         912 KB  conda-forge\n",
      "    future-0.18.2              |   py37h89c1867_2         712 KB  conda-forge\n",
      "    h5py-3.1.0                 |nompi_py37h1e651dc_100         1.2 MB  conda-forge\n",
      "    hdf5-1.10.6                |nompi_h3c11f04_101         3.0 MB  conda-forge\n",
      "    icu-58.2                   |    hf484d3e_1000        22.6 MB  conda-forge\n",
      "    kiwisolver-1.3.1           |   py37hc928c03_0          86 KB  conda-forge\n",
      "    libblas-3.9.0              |       3_openblas          11 KB  conda-forge\n",
      "    libcblas-3.9.0             |       3_openblas          11 KB  conda-forge\n",
      "    libgfortran-ng-7.5.0       |      hae1eefd_17          22 KB  conda-forge\n",
      "    libgfortran4-7.5.0         |      hae1eefd_17         1.3 MB  conda-forge\n",
      "    liblapack-3.9.0            |       3_openblas          11 KB  conda-forge\n",
      "    libopenblas-0.3.12         |pthreads_hb3c22a3_1         8.2 MB  conda-forge\n",
      "    libpng-1.6.37              |       h21135ba_2         306 KB  conda-forge\n",
      "    libxml2-2.9.10             |       hb55368b_3         1.2 MB\n",
      "    libxslt-1.1.34             |       hc22bd24_0         432 KB\n",
      "    lxml-4.6.2                 |   py37h9120a33_0         1.2 MB\n",
      "    matplotlib-base-3.1.3      |   py37hef1b27d_0         5.0 MB\n",
      "    numpy-1.19.4               |   py37h7e9df27_1         5.2 MB  conda-forge\n",
      "    openmc-0.12.0              |   py37heda8c35_1         4.2 MB  conda-forge\n",
      "    openssl-1.1.1h             |       h516909a_0         2.1 MB  conda-forge\n",
      "    pandas-1.0.1               |   py37hb3f55d8_0        11.1 MB  conda-forge\n",
      "    pyparsing-2.4.7            |     pyh9f0ad1d_0          60 KB  conda-forge\n",
      "    python-dateutil-2.8.1      |             py_0         220 KB  conda-forge\n",
      "    python_abi-3.7             |          1_cp37m           4 KB  conda-forge\n",
      "    pytz-2020.4                |     pyhd8ed1ab_0         229 KB  conda-forge\n",
      "    scipy-1.5.3                |   py37h8911b10_0        18.5 MB  conda-forge\n",
      "    tornado-6.1                |   py37h4abf009_0         645 KB  conda-forge\n",
      "    uncertainties-3.1.5        |     pyhd8ed1ab_0          75 KB  conda-forge\n",
      "    xz-5.2.5                   |       h516909a_1         343 KB  conda-forge\n",
      "    ------------------------------------------------------------\n",
      "                                           Total:        92.0 MB\n",
      "\n",
      "The following NEW packages will be INSTALLED:\n",
      "\n",
      "  cached-property    conda-forge/noarch::cached-property-1.5.1-py_0\n",
      "  cycler             conda-forge/noarch::cycler-0.10.0-py_2\n",
      "  freetype           conda-forge/linux-64::freetype-2.10.4-h7ca028e_0\n",
      "  future             conda-forge/linux-64::future-0.18.2-py37h89c1867_2\n",
      "  h5py               conda-forge/linux-64::h5py-3.1.0-nompi_py37h1e651dc_100\n",
      "  hdf5               conda-forge/linux-64::hdf5-1.10.6-nompi_h3c11f04_101\n",
      "  icu                conda-forge/linux-64::icu-58.2-hf484d3e_1000\n",
      "  kiwisolver         conda-forge/linux-64::kiwisolver-1.3.1-py37hc928c03_0\n",
      "  libblas            conda-forge/linux-64::libblas-3.9.0-3_openblas\n",
      "  libcblas           conda-forge/linux-64::libcblas-3.9.0-3_openblas\n",
      "  libgfortran-ng     conda-forge/linux-64::libgfortran-ng-7.5.0-hae1eefd_17\n",
      "  libgfortran4       conda-forge/linux-64::libgfortran4-7.5.0-hae1eefd_17\n",
      "  liblapack          conda-forge/linux-64::liblapack-3.9.0-3_openblas\n",
      "  libopenblas        conda-forge/linux-64::libopenblas-0.3.12-pthreads_hb3c22a3_1\n",
      "  libpng             conda-forge/linux-64::libpng-1.6.37-h21135ba_2\n",
      "  libxml2            pkgs/main/linux-64::libxml2-2.9.10-hb55368b_3\n",
      "  libxslt            pkgs/main/linux-64::libxslt-1.1.34-hc22bd24_0\n",
      "  lxml               pkgs/main/linux-64::lxml-4.6.2-py37h9120a33_0\n",
      "  matplotlib-base    pkgs/main/linux-64::matplotlib-base-3.1.3-py37hef1b27d_0\n",
      "  numpy              conda-forge/linux-64::numpy-1.19.4-py37h7e9df27_1\n",
      "  openmc             conda-forge/linux-64::openmc-0.12.0-py37heda8c35_1\n",
      "  pandas             conda-forge/linux-64::pandas-1.0.1-py37hb3f55d8_0\n",
      "  pyparsing          conda-forge/noarch::pyparsing-2.4.7-pyh9f0ad1d_0\n",
      "  python-dateutil    conda-forge/noarch::python-dateutil-2.8.1-py_0\n",
      "  python_abi         conda-forge/linux-64::python_abi-3.7-1_cp37m\n",
      "  pytz               conda-forge/noarch::pytz-2020.4-pyhd8ed1ab_0\n",
      "  scipy              conda-forge/linux-64::scipy-1.5.3-py37h8911b10_0\n",
      "  tornado            conda-forge/linux-64::tornado-6.1-py37h4abf009_0\n",
      "  uncertainties      conda-forge/noarch::uncertainties-3.1.5-pyhd8ed1ab_0\n",
      "\n",
      "The following packages will be UPDATED:\n",
      "\n",
      "  ca-certificates     pkgs/main::ca-certificates-2020.1.1-0 --> conda-forge::ca-certificates-2020.12.5-ha878542_0\n",
      "  certifi              pkgs/main::certifi-2019.11.28-py37_0 --> conda-forge::certifi-2020.12.5-py37h89c1867_0\n",
      "  conda                       pkgs/main::conda-4.8.2-py37_0 --> conda-forge::conda-4.9.2-py37h89c1867_0\n",
      "  openssl              pkgs/main::openssl-1.1.1d-h7b6447c_4 --> conda-forge::openssl-1.1.1h-h516909a_0\n",
      "  xz                         pkgs/main::xz-5.2.4-h14c3975_4 --> conda-forge::xz-5.2.5-h516909a_1\n",
      "\n",
      "\n",
      "\n",
      "Downloading and Extracting Packages\n",
      "uncertainties-3.1.5  | 75 KB     | : 100% 1.0/1 [00:00<00:00,  5.93it/s]                \n",
      "xz-5.2.5             | 343 KB    | : 100% 1.0/1 [00:00<00:00,  7.26it/s]\n",
      "cycler-0.10.0        | 9 KB      | : 100% 1.0/1 [00:00<00:00, 22.14it/s]\n",
      "cached-property-1.5. | 10 KB     | : 100% 1.0/1 [00:00<00:00, 18.09it/s]\n",
      "h5py-3.1.0           | 1.2 MB    | : 100% 1.0/1 [00:00<00:00,  2.80it/s]\n",
      "liblapack-3.9.0      | 11 KB     | : 100% 1.0/1 [00:00<00:00, 22.81it/s]\n",
      "libblas-3.9.0        | 11 KB     | : 100% 1.0/1 [00:00<00:00, 24.12it/s]\n",
      "pandas-1.0.1         | 11.1 MB   | : 100% 1.0/1 [00:02<00:00,  1.61s/it]                \n",
      "python-dateutil-2.8. | 220 KB    | : 100% 1.0/1 [00:00<00:00, 13.45it/s]\n",
      "matplotlib-base-3.1. | 5.0 MB    | : 100% 1.0/1 [00:00<00:00,  3.02s/it]                \n",
      "certifi-2020.12.5    | 143 KB    | : 100% 1.0/1 [00:00<00:00, 13.50it/s]\n",
      "openmc-0.12.0        | 4.2 MB    | : 100% 1.0/1 [00:01<00:00, 19.53s/it]                  \n",
      "libcblas-3.9.0       | 11 KB     | : 100% 1.0/1 [00:00<00:00, 22.36it/s]\n",
      "pyparsing-2.4.7      | 60 KB     | : 100% 1.0/1 [00:00<00:00, 18.82it/s]\n",
      "libopenblas-0.3.12   | 8.2 MB    | : 100% 1.0/1 [00:01<00:00,  1.00it/s]               \n",
      "conda-4.9.2          | 3.0 MB    | : 100% 1.0/1 [00:00<00:00,  1.32it/s]\n",
      "openssl-1.1.1h       | 2.1 MB    | : 100% 1.0/1 [00:00<00:00,  2.39it/s]\n",
      "libgfortran-ng-7.5.0 | 22 KB     | : 100% 1.0/1 [00:00<00:00, 23.83it/s]\n",
      "numpy-1.19.4         | 5.2 MB    | : 100% 1.0/1 [00:01<00:00,  1.32s/it]\n",
      "icu-58.2             | 22.6 MB   | : 100% 1.0/1 [00:04<00:00,  4.19s/it]              \n",
      "pytz-2020.4          | 229 KB    | : 100% 1.0/1 [00:00<00:00,  7.28it/s]\n",
      "freetype-2.10.4      | 912 KB    | : 100% 1.0/1 [00:00<00:00,  4.32it/s]\n",
      "libgfortran4-7.5.0   | 1.3 MB    | : 100% 1.0/1 [00:00<00:00,  3.18it/s]\n",
      "kiwisolver-1.3.1     | 86 KB     | : 100% 1.0/1 [00:00<00:00, 16.02it/s]\n",
      "future-0.18.2        | 712 KB    | : 100% 1.0/1 [00:00<00:00,  3.36it/s]\n",
      "libpng-1.6.37        | 306 KB    | : 100% 1.0/1 [00:00<00:00,  9.52it/s]\n",
      "ca-certificates-2020 | 137 KB    | : 100% 1.0/1 [00:00<00:00, 14.43it/s]\n",
      "lxml-4.6.2           | 1.2 MB    | : 100% 1.0/1 [00:00<00:00,  9.13it/s]\n",
      "libxslt-1.1.34       | 432 KB    | : 100% 1.0/1 [00:00<00:00, 10.30it/s]\n",
      "scipy-1.5.3          | 18.5 MB   | : 100% 1.0/1 [00:03<00:00,  3.74s/it]              \n",
      "tornado-6.1          | 645 KB    | : 100% 1.0/1 [00:00<00:00,  4.56it/s]\n",
      "libxml2-2.9.10       | 1.2 MB    | : 100% 1.0/1 [00:00<00:00,  6.94it/s]\n",
      "python_abi-3.7       | 4 KB      | : 100% 1.0/1 [00:00<00:00, 21.63it/s]\n",
      "hdf5-1.10.6          | 3.0 MB    | : 100% 1.0/1 [00:00<00:00,  1.51it/s]\n",
      "Preparing transaction: \\ \b\b| \b\b/ \b\b- \b\bdone\n",
      "Verifying transaction: | \b\b/ \b\b- \b\b\\ \b\b| \b\b/ \b\b- \b\b\\ \b\b| \b\b/ \b\b- \b\bdone\n",
      "Executing transaction: | \b\b/ \b\b- \b\b\\ \b\b| \b\b/ \b\b- \b\b\\ \b\b| \b\b/ \b\b- \b\b\\ \b\b| \b\b/ \b\bdone\n"
     ]
    }
   ],
   "source": [
    "# Install OpenMC\n",
    "!conda config --add channels conda-forge\n",
    "!conda install openmc -y"
   ]
  },
  {
   "cell_type": "code",
   "execution_count": 5,
   "metadata": {
    "id": "EChOeJ7qVUB7"
   },
   "outputs": [],
   "source": [
    "import openmc"
   ]
  },
  {
   "cell_type": "code",
   "execution_count": 6,
   "metadata": {
    "id": "nqP7RMlnz8wL"
   },
   "outputs": [],
   "source": [
    "%matplotlib inline"
   ]
  },
  {
   "cell_type": "markdown",
   "metadata": {
    "id": "Hw95DPQPUe3s"
   },
   "source": [
    "Define Fuel"
   ]
  },
  {
   "cell_type": "code",
   "execution_count": 7,
   "metadata": {
    "id": "jlu98MGXV9MP"
   },
   "outputs": [],
   "source": [
    "#inner_fuel_zone_per = {'U235': 0.0019, 'U238': 0.7509, 'Pu238': 0.0046, 'Pu239': 0.0612, 'Pu240': 0.0383, 'Pu241': 0.0106, 'Pu242': 0.0134, 'Am241': 0.001, 'O16': 0.1181}\n",
    "#outer_fuel_zone_per = {'U235': 0.0018, 'U238': 0.73, 'Pu238': 0.0053, 'Pu239': 0.0711, 'Pu240': 0.0445, 'Pu241': 0.0124, 'Pu242': 0.0156, 'Am241': 0.0017, 'O16': 0.1175}\n",
    "#reflector_fuel_zone_per = {'Na23':0.5, 'F19':0.5}\n",
    "\n",
    "#input density#####10g/cc for most cases; .96g/cc for liquid sodium \n",
    "\n",
    "# inner\n",
    "u235 = openmc.Material(name='U235')\n",
    "u235.set_density('g/cm3', 10.0)\n",
    "u235.add_nuclide('U235', 1.0)\n",
    "\n",
    "u238 = openmc.Material(name='U238')\n",
    "u238.set_density('g/cm3', 10.0)\n",
    "u238.add_nuclide('U238', 1.0)\n",
    "\n",
    "pu238 = openmc.Material(name='Pu238')\n",
    "pu238.set_density('g/cm3', 10.0)\n",
    "pu238.add_nuclide('U238', 1.0)\n",
    "\n",
    "\n",
    "pu239 = openmc.Material(name='U235')\n",
    "pu239.add_nuclide('Pu239', 1.0)\n",
    "pu239.set_density('g/cm3', 10.0)\n",
    "\n",
    "pu240 = openmc.Material(name = 'pu240')\n",
    "pu240.add_nuclide('Pu240', 1.0)\n",
    "pu240.set_density('g/cm3', 10.0)\n",
    "\n",
    "pu241 = openmc.Material(name = 'pu241')\n",
    "pu241.add_nuclide('Pu241', 1.0)\n",
    "pu241.set_density('g/cm3', 10.0)\n",
    "\n",
    "\n",
    "pu242 = openmc.Material(name = 'pu242')\n",
    "pu242.add_nuclide('Pu242', 1.0)\n",
    "pu242.set_density('g/cm3', 10.0)\n",
    "\n",
    "am241 = openmc.Material(name = 'am241')\n",
    "am241.add_nuclide('Am241', 1.0)\n",
    "am241.set_density('g/cm3', 10.0)\n",
    "\n",
    "o16 = openmc.Material(name = 'o16')\n",
    "o16.add_nuclide('O16', 1.0)\n",
    "o16.set_density('g/cm3', 10.0)\n",
    "\n",
    "#gap (liquid sodium?) Sodium gap width inter assembly\t0.45 cm\n",
    "sodium = openmc.Material(name='sodium')\n",
    "sodium.set_density('g/cm3', 0.96)\n",
    "sodium.add_nuclide('Na23', 1.0)\n",
    "\n",
    "#clad (ODS steel); 99.7 wt% (99.3 vol%) Cu, 0.3 wt% (0.7 vol%) Al2O3\n",
    "\n",
    "cu63 = openmc.Material(name= 'cu63')\n",
    "cu63.set_density('g/cm3', 10.0)\n",
    "cu63.add_nuclide('Cu63', 1.0)\n",
    "\n",
    "Al2O3 = openmc.Material(name='Al2O3')\n",
    "Al2O3.set_density('g/cm3', 10.0)\n",
    "Al2O3.add_element('O', 3.0)\n",
    "Al2O3.add_element('Al', 2.0)\n",
    "\n",
    "\n",
    "\n",
    "#moderator, liquid sodium?\n",
    "\n",
    "\n",
    "\n",
    "\n"
   ]
  },
  {
   "cell_type": "code",
   "execution_count": 8,
   "metadata": {
    "id": "_ltK5VzGZ8kk"
   },
   "outputs": [],
   "source": [
    "#mixture\n",
    "inner = openmc.Material.mix_materials([u235, u238, pu238, pu239, pu240, pu241, pu242, am241, o16],[0.0019, 0.7509, 0.0046, 0.0612, 0.0383, 0.0106, 0.0134, 0.001, 0.1181],'wo')\n",
    "outer = openmc.Material.mix_materials([u235, u238, pu238, pu239, pu240, pu241, pu242, am241, o16],[0.0018, 0.73, 0.0053, 0.0711, 0.0445, 0.0124, 0.0156, 0.0017, 0.1176],'wo')\n",
    "clad = openmc.Material.mix_materials([cu63,Al2O3],[0.997,0.003],'wo')\n"
   ]
  },
  {
   "cell_type": "code",
   "execution_count": 30,
   "metadata": {
    "id": "A2kNKaErZ7JR"
   },
   "outputs": [],
   "source": [
    "\n",
    "# Instantiate a Materials collection\n",
    "materials_file = openmc.Materials([inner, outer, sodium, clad])\n",
    "\n",
    "# Export to \"materials.xml\"\n",
    "materials_file.export_to_xml()\n",
    "\n",
    "#!cat materials.xml\n"
   ]
  },
  {
   "cell_type": "code",
   "execution_count": 10,
   "metadata": {
    "id": "OrML6oju4spK"
   },
   "outputs": [],
   "source": [
    "#diameter --> radius\n",
    "#change (1)\n",
    "fuel_or = openmc.ZCylinder (r = 0.943/2) \n",
    "clad_ir = openmc.ZCylinder (r = 0.973/2) \n",
    "clad_or = openmc.ZCylinder (r = 1.073/2) \n",
    "\n",
    "#put plane top and bottom so it doesn't go infi; active height 100cm.\n",
    "top = openmc.ZPlane (z0 = +50, boundary_type = 'vacuum')\n",
    "bottom = openmc.ZPlane (z0 = -50, boundary_type = 'vacuum') \n",
    " \n",
    "#mod_hexgonal = openmc.hexagonal_prism(edge_length = 1.34, orientation = 'y', boundary_type = 'reflective') #did not use this time, change(2)\n",
    "\n",
    "fuel_region = -fuel_or & -top & +bottom #below is minus, above is plus; \n",
    "gap_region = +fuel_or & -clad_ir  & -top & +bottom\n",
    "clad_region = +clad_ir & -clad_or  & -top & +bottom\n",
    "#change(2)\n",
    "moderator_region = +clad_or & -top & +bottom \n",
    " \n",
    "gap_cell = openmc.Cell(fill=inner ,region=gap_region)\n",
    "clad_cell = openmc.Cell (fill = clad, region = clad_region)\n",
    "sodium_cell = openmc.Cell(fill=sodium, region = moderator_region)\n",
    "\n",
    "\n"
   ]
  },
  {
   "cell_type": "code",
   "execution_count": 11,
   "metadata": {
    "id": "8L0zqqhZfxKh"
   },
   "outputs": [],
   "source": [
    "#geo of inner\n",
    "inner_fuel_cell = openmc.Cell(fill = inner, region = fuel_region)\n",
    "inner_u = openmc.Universe(cells = (inner_fuel_cell, gap_cell, clad_cell, sodium_cell))\n",
    "\n",
    "geom = openmc.Geometry(inner_u)\n",
    "geom.export_to_xml()\n",
    "\n"
   ]
  },
  {
   "cell_type": "code",
   "execution_count": 12,
   "metadata": {
    "colab": {
     "base_uri": "https://localhost:8080/",
     "height": 287
    },
    "id": "D5h1F_7EhnNO",
    "outputId": "521daa80-7be2-4fc5-a322-a2c3edb18b0c"
   },
   "outputs": [
    {
     "data": {
      "text/plain": [
       "<matplotlib.image.AxesImage at 0x7f706fc3d780>"
      ]
     },
     "execution_count": 12,
     "metadata": {
      "tags": []
     },
     "output_type": "execute_result"
    },
    {
     "data": {
      "image/png": "[encoded data removed]",
      "text/plain": [
       "<Figure size 432x288 with 1 Axes>"
      ]
     },
     "metadata": {
      "needs_background": "light",
      "tags": []
     },
     "output_type": "display_data"
    }
   ],
   "source": [
    "inner_u.plot(pixels=(500, 500), width = (3,3))"
   ]
  },
  {
   "cell_type": "code",
   "execution_count": 13,
   "metadata": {
    "colab": {
     "base_uri": "https://localhost:8080/"
    },
    "id": "7rhsraZ-npev",
    "outputId": "a8d3c986-fd26-4fe8-bf06-1b5552d78bbd"
   },
   "outputs": [
    {
     "name": "stdout",
     "output_type": "stream",
     "text": [
      "<?xml version='1.0' encoding='utf-8'?>\n",
      "<settings>\n",
      "  <run_mode>eigenvalue</run_mode>\n",
      "  <particles>1000</particles>\n",
      "  <batches>100</batches>\n",
      "  <inactive>10</inactive>\n",
      "  <source strength=\"1.0\">\n",
      "    <space type=\"fission\">\n",
      "      <parameters>-0.63 -0.63 -182.88 0.63 0.63 182.88</parameters>\n",
      "    </space>\n",
      "  </source>\n",
      "</settings>\n"
     ]
    }
   ],
   "source": [
    "lower_left = [-0.63, -0.63, -182.88]\n",
    "upper_right = [0.63, 0.63, 182.88]\n",
    "uniform_dist = openmc.stats.Box(lower_left, upper_right, only_fissionable=True)\n",
    "src = openmc.Source(space=uniform_dist)\n",
    "\n",
    "settings = openmc.Settings()\n",
    "settings.source = src\n",
    "settings.batches = 100\n",
    "settings.inactive = 10\n",
    "settings.particles = 1000\n",
    "\n",
    "settings.export_to_xml()\n",
    "!cat settings.xml"
   ]
  },
  {
   "cell_type": "code",
   "execution_count": 14,
   "metadata": {
    "colab": {
     "base_uri": "https://localhost:8080/"
    },
    "id": "pO0G4MWnnq4B",
    "outputId": "43284778-a7c0-4041-91ea-0b093033e0de"
   },
   "outputs": [
    {
     "name": "stdout",
     "output_type": "stream",
     "text": [
      "                                %%%%%%%%%%%%%%%\n",
      "                           %%%%%%%%%%%%%%%%%%%%%%%%\n",
      "                        %%%%%%%%%%%%%%%%%%%%%%%%%%%%%%\n",
      "                      %%%%%%%%%%%%%%%%%%%%%%%%%%%%%%%%%%\n",
      "                    %%%%%%%%%%%%%%%%%%%%%%%%%%%%%%%%%%%%%%\n",
      "                   %%%%%%%%%%%%%%%%%%%%%%%%%%%%%%%%%%%%%%%%\n",
      "                                    %%%%%%%%%%%%%%%%%%%%%%%%\n",
      "                                     %%%%%%%%%%%%%%%%%%%%%%%%\n",
      "                 ###############      %%%%%%%%%%%%%%%%%%%%%%%%\n",
      "                ##################     %%%%%%%%%%%%%%%%%%%%%%%\n",
      "                ###################     %%%%%%%%%%%%%%%%%%%%%%%\n",
      "                ####################     %%%%%%%%%%%%%%%%%%%%%%\n",
      "                #####################     %%%%%%%%%%%%%%%%%%%%%\n",
      "                ######################     %%%%%%%%%%%%%%%%%%%%\n",
      "                #######################     %%%%%%%%%%%%%%%%%%\n",
      "                 #######################     %%%%%%%%%%%%%%%%%\n",
      "                 ######################     %%%%%%%%%%%%%%%%%\n",
      "                  ####################     %%%%%%%%%%%%%%%%%\n",
      "                    #################     %%%%%%%%%%%%%%%%%\n",
      "                     ###############     %%%%%%%%%%%%%%%%\n",
      "                       ############     %%%%%%%%%%%%%%%\n",
      "                          ########     %%%%%%%%%%%%%%\n",
      "                                      %%%%%%%%%%%\n",
      "\n",
      "                   | The OpenMC Monte Carlo Code\n",
      "         Copyright | 2011-2020 MIT and OpenMC contributors\n",
      "           License | https://docs.openmc.org/en/latest/license.html\n",
      "           Version | 0.12.0\n",
      "          Git SHA1 | 599a722a542ede426c3f1390a88ddb4e4e0045d3\n",
      "         Date/Time | 2020-12-10 04:55:15\n",
      "    OpenMP Threads | 2\n",
      "\n",
      " Reading settings XML file...\n",
      " Reading cross sections XML file...\n",
      " Reading materials XML file...\n",
      " Reading geometry XML file...\n",
      " Reading Na23 from /gdrive/My Drive/data/endfb71_hdf5/Na23.h5\n",
      " Reading U235 from /gdrive/My Drive/data/endfb71_hdf5/U235.h5\n",
      " Reading U238 from /gdrive/My Drive/data/endfb71_hdf5/U238.h5\n",
      " Reading Pu239 from /gdrive/My Drive/data/endfb71_hdf5/Pu239.h5\n",
      " Reading Pu240 from /gdrive/My Drive/data/endfb71_hdf5/Pu240.h5\n",
      " Reading Pu241 from /gdrive/My Drive/data/endfb71_hdf5/Pu241.h5\n",
      " Reading Pu242 from /gdrive/My Drive/data/endfb71_hdf5/Pu242.h5\n",
      " Reading Am241 from /gdrive/My Drive/data/endfb71_hdf5/Am241.h5\n",
      " Reading O16 from /gdrive/My Drive/data/endfb71_hdf5/O16.h5\n",
      " Reading Cu63 from /gdrive/My Drive/data/endfb71_hdf5/Cu63.h5\n",
      " Reading O17 from /gdrive/My Drive/data/endfb71_hdf5/O17.h5\n",
      " Reading Al27 from /gdrive/My Drive/data/endfb71_hdf5/Al27.h5\n",
      " Minimum neutron data temperature: 294.000000 K\n",
      " Maximum neutron data temperature: 294.000000 K\n",
      " Preparing distributed cell instances...\n",
      " Writing summary.h5 file...\n",
      " Maximum neutron transport energy: 20000000.000000 eV for Na23\n",
      " Initializing source particles...\n",
      "\n",
      " ====================>     K EIGENVALUE SIMULATION     <====================\n",
      "\n",
      "  Bat./Gen.      k            Average k\n",
      "  =========   ========   ====================\n",
      "        1/1    0.02068\n",
      "        2/1    0.01914\n",
      "        3/1    0.02168\n",
      "        4/1    0.02318\n",
      "        5/1    0.02095\n",
      "        6/1    0.02064\n",
      "        7/1    0.02060\n",
      "        8/1    0.02295\n",
      "        9/1    0.02028\n",
      "       10/1    0.02123\n",
      "       11/1    0.02151\n",
      "       12/1    0.02084    0.02117 +/- 0.00034\n",
      "       13/1    0.02083    0.02106 +/- 0.00023\n",
      "       14/1    0.02039    0.02089 +/- 0.00023\n",
      "       15/1    0.02114    0.02094 +/- 0.00019\n",
      "       16/1    0.02152    0.02104 +/- 0.00018\n",
      "       17/1    0.02123    0.02106 +/- 0.00015\n",
      "       18/1    0.02168    0.02114 +/- 0.00015\n",
      "       19/1    0.02121    0.02115 +/- 0.00014\n",
      "       20/1    0.02118    0.02115 +/- 0.00012\n",
      "       21/1    0.02095    0.02113 +/- 0.00011\n",
      "       22/1    0.01960    0.02101 +/- 0.00016\n",
      "       23/1    0.02246    0.02112 +/- 0.00019\n",
      "       24/1    0.02362    0.02130 +/- 0.00025\n",
      "       25/1    0.02064    0.02125 +/- 0.00024\n",
      "       26/1    0.01973    0.02116 +/- 0.00024\n",
      "       27/1    0.02193    0.02120 +/- 0.00023\n",
      "       28/1    0.02356    0.02133 +/- 0.00025\n",
      "       29/1    0.02057    0.02129 +/- 0.00024\n",
      "       30/1    0.02128    0.02129 +/- 0.00023\n",
      "       31/1    0.02152    0.02130 +/- 0.00022\n",
      "       32/1    0.02194    0.02133 +/- 0.00021\n",
      "       33/1    0.02294    0.02140 +/- 0.00021\n",
      "       34/1    0.02289    0.02146 +/- 0.00021\n",
      "       35/1    0.01993    0.02140 +/- 0.00021\n",
      "       36/1    0.02383    0.02150 +/- 0.00023\n",
      "       37/1    0.02119    0.02148 +/- 0.00022\n",
      "       38/1    0.02020    0.02144 +/- 0.00021\n",
      "       39/1    0.02051    0.02141 +/- 0.00021\n",
      "       40/1    0.02274    0.02145 +/- 0.00021\n",
      "       41/1    0.02103    0.02144 +/- 0.00020\n",
      "       42/1    0.02119    0.02143 +/- 0.00019\n",
      "       43/1    0.02078    0.02141 +/- 0.00019\n",
      "       44/1    0.02119    0.02140 +/- 0.00018\n",
      "       45/1    0.02116    0.02140 +/- 0.00018\n",
      "       46/1    0.02171    0.02141 +/- 0.00017\n",
      "       47/1    0.02017    0.02137 +/- 0.00017\n",
      "       48/1    0.02261    0.02140 +/- 0.00017\n",
      "       49/1    0.02069    0.02139 +/- 0.00017\n",
      "       50/1    0.02326    0.02143 +/- 0.00017\n",
      "       51/1    0.01969    0.02139 +/- 0.00017\n",
      "       52/1    0.02351    0.02144 +/- 0.00017\n",
      "       53/1    0.02138    0.02144 +/- 0.00017\n",
      "       54/1    0.02348    0.02149 +/- 0.00017\n",
      "       55/1    0.02232    0.02150 +/- 0.00017\n",
      "       56/1    0.02170    0.02151 +/- 0.00017\n",
      "       57/1    0.02182    0.02152 +/- 0.00016\n",
      "       58/1    0.02185    0.02152 +/- 0.00016\n",
      "       59/1    0.02068    0.02151 +/- 0.00016\n",
      "       60/1    0.02146    0.02150 +/- 0.00015\n",
      "       61/1    0.02060    0.02149 +/- 0.00015\n",
      "       62/1    0.01966    0.02145 +/- 0.00015\n",
      "       63/1    0.02000    0.02142 +/- 0.00015\n",
      "       64/1    0.01923    0.02138 +/- 0.00016\n",
      "       65/1    0.02117    0.02138 +/- 0.00015\n",
      "       66/1    0.02167    0.02138 +/- 0.00015\n",
      "       67/1    0.02101    0.02138 +/- 0.00015\n",
      "       68/1    0.02224    0.02139 +/- 0.00015\n",
      "       69/1    0.02174    0.02140 +/- 0.00014\n",
      "       70/1    0.02077    0.02139 +/- 0.00014\n",
      "       71/1    0.02140    0.02139 +/- 0.00014\n",
      "       72/1    0.02232    0.02140 +/- 0.00014\n",
      "       73/1    0.02029    0.02139 +/- 0.00014\n",
      "       74/1    0.02020    0.02137 +/- 0.00014\n",
      "       75/1    0.02160    0.02137 +/- 0.00013\n",
      "       76/1    0.02154    0.02137 +/- 0.00013\n",
      "       77/1    0.02092    0.02137 +/- 0.00013\n",
      "       78/1    0.02240    0.02138 +/- 0.00013\n",
      "       79/1    0.02188    0.02139 +/- 0.00013\n",
      "       80/1    0.02229    0.02140 +/- 0.00013\n",
      "       81/1    0.02288    0.02142 +/- 0.00013\n",
      "       82/1    0.02232    0.02144 +/- 0.00012\n",
      "       83/1    0.02097    0.02143 +/- 0.00012\n",
      "       84/1    0.02068    0.02142 +/- 0.00012\n",
      "       85/1    0.02133    0.02142 +/- 0.00012\n",
      "       86/1    0.02141    0.02142 +/- 0.00012\n",
      "       87/1    0.02100    0.02141 +/- 0.00012\n",
      "       88/1    0.02120    0.02141 +/- 0.00012\n",
      "       89/1    0.02190    0.02142 +/- 0.00011\n",
      "       90/1    0.02179    0.02142 +/- 0.00011\n",
      "       91/1    0.02071    0.02141 +/- 0.00011\n",
      "       92/1    0.02096    0.02141 +/- 0.00011\n",
      "       93/1    0.02043    0.02139 +/- 0.00011\n",
      "       94/1    0.02143    0.02139 +/- 0.00011\n",
      "       95/1    0.02219    0.02140 +/- 0.00011\n",
      "       96/1    0.02047    0.02139 +/- 0.00011\n",
      "       97/1    0.02269    0.02141 +/- 0.00011\n",
      "       98/1    0.02153    0.02141 +/- 0.00011\n",
      "       99/1    0.02283    0.02143 +/- 0.00011\n",
      "      100/1    0.02078    0.02142 +/- 0.00010\n",
      " Creating state point statepoint.100.h5...\n",
      "\n",
      " =======================>     TIMING STATISTICS     <=======================\n",
      "\n",
      " Total time for initialization     = 1.1073e+01 seconds\n",
      "   Reading cross sections          = 6.9239e+00 seconds\n",
      " Total time in simulation          = 1.9724e+00 seconds\n",
      "   Time in transport only          = 1.9139e+00 seconds\n",
      "   Time in inactive batches        = 1.5769e-01 seconds\n",
      "   Time in active batches          = 1.8147e+00 seconds\n",
      "   Time synchronizing fission bank = 9.6394e-03 seconds\n",
      "     Sampling source sites         = 8.4433e-03 seconds\n",
      "     SEND/RECV source sites        = 1.0259e-03 seconds\n",
      "   Time accumulating tallies       = 1.1996e-04 seconds\n",
      " Total time for finalization       = 9.5800e-07 seconds\n",
      " Total time elapsed                = 1.3080e+01 seconds\n",
      " Calculation Rate (inactive)       = 63417.0 particles/second\n",
      " Calculation Rate (active)         = 49594.0 particles/second\n",
      "\n",
      " ============================>     RESULTS     <============================\n",
      "\n",
      " k-effective (Collision)     = 0.02160 +/- 0.00019\n",
      " k-effective (Track-length)  = 0.02142 +/- 0.00010\n",
      " k-effective (Absorption)    = 0.02151 +/- 0.00069\n",
      " Combined k-effective        = 0.02143 +/- 0.00010\n",
      " Leakage Fraction            = 0.96482 +/- 0.00067\n",
      "\n"
     ]
    }
   ],
   "source": [
    "openmc.run()"
   ]
  },
  {
   "cell_type": "code",
   "execution_count": 15,
   "metadata": {
    "id": "iAHLhKZYh6y5"
   },
   "outputs": [],
   "source": [
    "#geo of outer\n",
    "outer_fuel_cell = openmc.Cell(fill = outer, region = fuel_region)\n",
    "outer_u = openmc.Universe(cells = (outer_fuel_cell, gap_cell, clad_cell, sodium_cell))\n",
    "\n",
    "geom = openmc.Geometry(inner_u)\n",
    "geom.export_to_xml()"
   ]
  },
  {
   "cell_type": "code",
   "execution_count": 16,
   "metadata": {
    "colab": {
     "base_uri": "https://localhost:8080/",
     "height": 287
    },
    "id": "_2WoQimYiF6h",
    "outputId": "5c15287f-dc40-47ff-d035-21093cc595ac"
   },
   "outputs": [
    {
     "data": {
      "text/plain": [
       "<matplotlib.image.AxesImage at 0x7f7072d33198>"
      ]
     },
     "execution_count": 16,
     "metadata": {
      "tags": []
     },
     "output_type": "execute_result"
    },
    {
     "data": {
      "image/png": "[encoded data removed]",
      "text/plain": [
       "<Figure size 432x288 with 1 Axes>"
      ]
     },
     "metadata": {
      "needs_background": "light",
      "tags": []
     },
     "output_type": "display_data"
    }
   ],
   "source": [
    "outer_u.plot(pixels=(500, 500), width=(3,3))"
   ]
  },
  {
   "cell_type": "code",
   "execution_count": 17,
   "metadata": {
    "id": "oSsC9ihd7C1_"
   },
   "outputs": [],
   "source": [
    "#geo of reflector\n",
    "\n",
    "#sodium_cell = openmc.Cell(fill=sodium, region = moderator_region)\n",
    "#ref_u = openmc.Universe(cells = (sodium_cell, gap_cell, clad_cell, sodium_cell))\n",
    "\n",
    "#geom = openmc.Geometry(ref_u)\n",
    "#geom.export_to_xml()"
   ]
  },
  {
   "cell_type": "code",
   "execution_count": 18,
   "metadata": {
    "id": "MJZWJKSr_Iw4"
   },
   "outputs": [],
   "source": [
    "#ref_u.plot(pixels=(500, 500), width=(3,3))"
   ]
  },
  {
   "cell_type": "code",
   "execution_count": 19,
   "metadata": {
    "colab": {
     "base_uri": "https://localhost:8080/"
    },
    "id": "WGCdx0gcBXnZ",
    "outputId": "ec884ba9-f1e5-4692-c98b-c5593c5f15f1"
   },
   "outputs": [
    {
     "name": "stdout",
     "output_type": "stream",
     "text": [
      "<?xml version='1.0' encoding='utf-8'?>\n",
      "<settings>\n",
      "  <run_mode>eigenvalue</run_mode>\n",
      "  <particles>10</particles>\n",
      "  <batches>100</batches>\n",
      "  <inactive>10</inactive>\n",
      "  <source strength=\"1.0\">\n",
      "    <space type=\"fission\">\n",
      "      <parameters>-0.63 -0.63 -182.88 0.63 0.63 182.88</parameters>\n",
      "    </space>\n",
      "  </source>\n",
      "</settings>\n"
     ]
    }
   ],
   "source": [
    "lower_left = [-0.63, -0.63, -182.88]\n",
    "upper_right = [0.63, 0.63, 182.88]\n",
    "uniform_dist = openmc.stats.Box(lower_left, upper_right, only_fissionable=True)\n",
    "src = openmc.Source(space=uniform_dist)\n",
    "\n",
    "settings = openmc.Settings()\n",
    "settings.source = src\n",
    "settings.batches = 100\n",
    "settings.inactive = 10\n",
    "settings.particles = 10\n",
    "\n",
    "settings.export_to_xml()\n",
    "!cat settings.xml"
   ]
  },
  {
   "cell_type": "code",
   "execution_count": 20,
   "metadata": {
    "id": "vixnZvtBBZ28"
   },
   "outputs": [],
   "source": [
    "#openmc.run()"
   ]
  },
  {
   "cell_type": "code",
   "execution_count": 21,
   "metadata": {
    "id": "cWTxCkwKRwYj"
   },
   "outputs": [],
   "source": [
    "#inner cell assembly\n",
    "#lattices \n",
    "#name all lattice id\n",
    "in_lat = openmc.HexLattice(name = 'inner assembly')\n",
    "\n",
    "in_lat.center = (0., 0.)\n",
    "in_lat.pitch = (21.08/17,) #in cm, 21.08 is pitch of assembly filled into full core\n",
    "in_lat.orientation = 'x'\n",
    "\n",
    "#print(lat.show_indices(9))\n",
    "\n",
    "#\n",
    "\n",
    "#in_cell rings\n",
    "\n",
    "inone = [inner_u]*48\n",
    "intwo = [inner_u]*42\n",
    "inthree = [inner_u]*36\n",
    "infour = [inner_u]*30\n",
    "infive = [inner_u]*24\n",
    "insix = [inner_u]*18\n",
    "inseven = [inner_u]*12\n",
    "ineight = [inner_u]*6\n",
    "innine = [inner_u]*1\n",
    "in_lat.universes = [inone,intwo,inthree,infour,infive,insix,inseven,ineight,innine]\n",
    "\n",
    "#\n",
    "outer_in_surface = openmc.model.hexagonal_prism(edge_length=12.1705) #change(3), diff edge_length\n",
    "#21.08 for 12 rings\n",
    "\n",
    "main_in_assembly = openmc.Cell(fill = in_lat, region = outer_in_surface & -top & +bottom)\n",
    "out_in_assembly = openmc.Cell(fill = sodium, region = ~outer_in_surface  & -top & +bottom)\n",
    "\n",
    "\n",
    "main_in_u = openmc.Universe (cells = [main_in_assembly]) # out_assembly\n",
    "\n",
    "geom = openmc.Geometry (main_in_u)\n",
    "geom.export_to_xml()\n",
    "\n",
    "#main_in_u.plot(origin = (0,0,0), pixels=(500, 500), width = (30.,30.), color_by = 'material')"
   ]
  },
  {
   "cell_type": "code",
   "execution_count": 22,
   "metadata": {
    "id": "1SIgRmjLTuPJ"
   },
   "outputs": [],
   "source": [
    "#outer cell assembly\n",
    "#lattices \n",
    "\n",
    "out_lat = openmc.HexLattice(name = 'outer assembly')\n",
    "\n",
    "out_lat.center = (0., 0.)\n",
    "out_lat.pitch = (21.08/17,) #in cm, 21.08 is pitch of assembly filled into full core\n",
    "out_lat.orientation = 'x'\n",
    "\n",
    "#print(lat.show_indices(9))\n",
    "\n",
    "#\n",
    "\n",
    "#in_cell rings\n",
    "\n",
    "outone = [outer_u]*48\n",
    "outtwo = [outer_u]*42\n",
    "outthree = [outer_u]*36\n",
    "outfour = [outer_u]*30\n",
    "outfive = [outer_u]*24\n",
    "outsix = [outer_u]*18\n",
    "outseven = [outer_u]*12\n",
    "outeight = [outer_u]*6\n",
    "outnine = [outer_u]*1\n",
    "out_lat.universes = [outone,outtwo,outthree,outfour,outfive,outsix,outseven,outeight,outnine]\n",
    "\n",
    "#\n",
    "outer_out_surface = openmc.model.hexagonal_prism(edge_length=12.1705) #change(3), diff edge_length\n",
    "#21.08 for 12 rings\n",
    "\n",
    "main_out_assembly = openmc.Cell(fill = out_lat, region = outer_out_surface  & -top & +bottom )\n",
    "out_out_assembly = openmc.Cell(fill = sodium, region = ~outer_out_surface)\n",
    "\n",
    "\n",
    "main_out_u = openmc.Universe (cells = [main_out_assembly]) # out_assembly\n",
    "\n",
    "geom = openmc.Geometry (main_out_u)\n",
    "geom.export_to_xml()\n",
    "\n",
    "#main_out_u.plot(origin = (0,0,0), pixels=(500, 500), width = (30.,30.), color_by = 'material')"
   ]
  },
  {
   "cell_type": "code",
   "execution_count": 23,
   "metadata": {
    "colab": {
     "base_uri": "https://localhost:8080/",
     "height": 283
    },
    "id": "pDf5K0t-eYRM",
    "outputId": "97396467-3a79-41bb-e9bd-8d4ff43369cf"
   },
   "outputs": [
    {
     "data": {
      "text/plain": [
       "<matplotlib.image.AxesImage at 0x7f7072d683c8>"
      ]
     },
     "execution_count": 23,
     "metadata": {
      "tags": []
     },
     "output_type": "execute_result"
    },
    {
     "data": {
      "image/png": "[encoded data removed]",
      "text/plain": [
       "<Figure size 432x288 with 1 Axes>"
      ]
     },
     "metadata": {
      "needs_background": "light",
      "tags": []
     },
     "output_type": "display_data"
    }
   ],
   "source": [
    "#reflector assembly\n",
    "reflector_assembly = openmc.model.hexagonal_prism(edge_length=12.1705, orientation='x')\n",
    "\n",
    "ref_cell = openmc.Cell(fill = sodium, region = reflector_assembly)\n",
    "\n",
    "ref_u = openmc.Universe (cells = [ref_cell])\n",
    "geom = openmc.Geometry (ref_u)\n",
    "geom.export_to_xml()\n",
    "\n",
    "ref_u.plot(origin = (0,0,0), pixels=(500, 500), width = (50.,50.), color_by = 'material')\n"
   ]
  },
  {
   "cell_type": "code",
   "execution_count": 24,
   "metadata": {
    "id": "itS3otSmcNHd"
   },
   "outputs": [],
   "source": [
    "# big core lattice"
   ]
  },
  {
   "cell_type": "code",
   "execution_count": 25,
   "metadata": {
    "id": "6lDqg4lLWD7v"
   },
   "outputs": [],
   "source": [
    "#lattices \n",
    "\n",
    "lat = openmc.HexLattice(name = 'core')\n",
    "\n",
    "lat.center = (0., 0.)\n",
    "lat.pitch = (21.08,) #in cm, 21.08 is pitch of assembly filled into full core\n",
    "\n",
    "\n",
    "#print(lat.show_indices(17))"
   ]
  },
  {
   "cell_type": "code",
   "execution_count": 26,
   "metadata": {
    "id": "M1FcPGAbjH3J"
   },
   "outputs": [],
   "source": [
    "#rings\n",
    "ref_one = [ref_u] * 96\n",
    "ref_two = [ref_u] * 90\n",
    "ref_three = [ref_u] * 84\n",
    "ref_four = ([ref_u] * 5 + [main_out_u] * 4 + [ref_u] * 4) * 6\n",
    "ref_five = ([ref_u] + [main_out_u] * 11) * 6\n",
    "out_one = [main_out_u]*66\n",
    "out_two = [main_out_u]*60\n",
    "out_three = ([main_out_u]*2 + [main_in_u]*6 + [main_out_u] * 1)*6\n",
    "in_one = [main_in_u]*48\n",
    "in_two = [main_in_u]*42\n",
    "in_three = [main_in_u]*36\n",
    "in_four = [main_in_u]*30\n",
    "in_five = [main_in_u]*24\n",
    "in_six = [main_in_u]*18\n",
    "in_seven = [main_in_u]*12\n",
    "in_eight = [main_in_u]*6\n",
    "in_nine = [main_in_u]*1\n",
    "lat.universes = [ref_one, ref_two, ref_three, ref_four, ref_five,out_one,out_two,out_three,in_one,in_two,in_three,in_four,in_five,in_six,in_seven,in_eight,in_nine]"
   ]
  },
  {
   "cell_type": "code",
   "execution_count": 27,
   "metadata": {
    "colab": {
     "base_uri": "https://localhost:8080/",
     "height": 283
    },
    "id": "nzVEvJgpjyY2",
    "outputId": "3f678f02-4a6c-4768-dc46-419ad37019a0",
    "scrolled": true
   },
   "outputs": [
    {
     "data": {
      "text/plain": [
       "<matplotlib.image.AxesImage at 0x7f707303f240>"
      ]
     },
     "execution_count": 27,
     "metadata": {
      "tags": []
     },
     "output_type": "execute_result"
    },
    {
     "data": {
      "image/png": "[encoded data removed]",
      "text/plain": [
       "<Figure size 432x288 with 1 Axes>"
      ]
     },
     "metadata": {
      "needs_background": "light",
      "tags": []
     },
     "output_type": "display_data"
    }
   ],
   "source": [
    "outer_surface = openmc.model.hexagonal_prism(edge_length=347.82, boundary_type = 'vacuum') #change(3), diff edge_length\n",
    "#21.08 for 12 rings #edge = 347.82\n",
    "\n",
    "core = openmc.Cell(fill = lat, region = outer_surface)\n",
    "#out_assembly = openmc.Cell(fill = outer, region = ~outer_surface)\n",
    "\n",
    "\n",
    "main_u = openmc.Universe (cells = [core]) # out_assembly\n",
    "\n",
    "geom = openmc.Geometry (main_u)\n",
    "geom.export_to_xml()\n",
    "\n",
    "main_u.plot(origin = (0,0,0), pixels=(1000, 1000), width = (660.,660.), color_by = 'material')"
   ]
  },
  {
   "cell_type": "code",
   "execution_count": 28,
   "metadata": {
    "colab": {
     "base_uri": "https://localhost:8080/"
    },
    "id": "5mPhUg7QWVw4",
    "outputId": "f110f4ab-94b5-477b-8c55-cab8ed7c3116"
   },
   "outputs": [
    {
     "name": "stdout",
     "output_type": "stream",
     "text": [
      "<?xml version='1.0' encoding='utf-8'?>\n",
      "<settings>\n",
      "  <run_mode>eigenvalue</run_mode>\n",
      "  <particles>1000</particles>\n",
      "  <batches>100</batches>\n",
      "  <inactive>10</inactive>\n",
      "  <source strength=\"1.0\">\n",
      "    <space type=\"fission\">\n",
      "      <parameters>-0.63 -0.63 -182.88 0.63 0.63 182.88</parameters>\n",
      "    </space>\n",
      "  </source>\n",
      "</settings>\n"
     ]
    }
   ],
   "source": [
    "lower_left = [-0.63, -0.63, -182.88]\n",
    "upper_right = [0.63, 0.63, 182.88]\n",
    "uniform_dist = openmc.stats.Box(lower_left, upper_right, only_fissionable=True)\n",
    "src = openmc.Source(space=uniform_dist)\n",
    "\n",
    "settings = openmc.Settings()\n",
    "settings.source = src\n",
    "settings.batches = 100\n",
    "settings.inactive = 10\n",
    "settings.particles = 1000\n",
    "\n",
    "settings.export_to_xml()\n",
    "!cat settings.xml"
   ]
  },
  {
   "cell_type": "code",
   "execution_count": 29,
   "metadata": {
    "colab": {
     "base_uri": "https://localhost:8080/",
     "height": 1000
    },
    "id": "A_f292ebWZFM",
    "outputId": "d6710d6c-aea6-43c9-e63c-b2e62ea7ea08"
   },
   "outputs": [
    {
     "name": "stdout",
     "output_type": "stream",
     "text": [
      "                                %%%%%%%%%%%%%%%\n",
      "                           %%%%%%%%%%%%%%%%%%%%%%%%\n",
      "                        %%%%%%%%%%%%%%%%%%%%%%%%%%%%%%\n",
      "                      %%%%%%%%%%%%%%%%%%%%%%%%%%%%%%%%%%\n",
      "                    %%%%%%%%%%%%%%%%%%%%%%%%%%%%%%%%%%%%%%\n",
      "                   %%%%%%%%%%%%%%%%%%%%%%%%%%%%%%%%%%%%%%%%\n",
      "                                    %%%%%%%%%%%%%%%%%%%%%%%%\n",
      "                                     %%%%%%%%%%%%%%%%%%%%%%%%\n",
      "                 ###############      %%%%%%%%%%%%%%%%%%%%%%%%\n",
      "                ##################     %%%%%%%%%%%%%%%%%%%%%%%\n",
      "                ###################     %%%%%%%%%%%%%%%%%%%%%%%\n",
      "                ####################     %%%%%%%%%%%%%%%%%%%%%%\n",
      "                #####################     %%%%%%%%%%%%%%%%%%%%%\n",
      "                ######################     %%%%%%%%%%%%%%%%%%%%\n",
      "                #######################     %%%%%%%%%%%%%%%%%%\n",
      "                 #######################     %%%%%%%%%%%%%%%%%\n",
      "                 ######################     %%%%%%%%%%%%%%%%%\n",
      "                  ####################     %%%%%%%%%%%%%%%%%\n",
      "                    #################     %%%%%%%%%%%%%%%%%\n",
      "                     ###############     %%%%%%%%%%%%%%%%\n",
      "                       ############     %%%%%%%%%%%%%%%\n",
      "                          ########     %%%%%%%%%%%%%%\n",
      "                                      %%%%%%%%%%%\n",
      "\n",
      "                   | The OpenMC Monte Carlo Code\n",
      "         Copyright | 2011-2020 MIT and OpenMC contributors\n",
      "           License | https://docs.openmc.org/en/latest/license.html\n",
      "           Version | 0.12.0\n",
      "          Git SHA1 | 599a722a542ede426c3f1390a88ddb4e4e0045d3\n",
      "         Date/Time | 2020-12-10 04:57:06\n",
      "    OpenMP Threads | 2\n",
      "\n",
      " Reading settings XML file...\n",
      " Reading cross sections XML file...\n",
      " Reading materials XML file...\n",
      " Reading geometry XML file...\n",
      " Reading Na23 from /gdrive/My Drive/data/endfb71_hdf5/Na23.h5\n",
      " Reading U235 from /gdrive/My Drive/data/endfb71_hdf5/U235.h5\n",
      " Reading U238 from /gdrive/My Drive/data/endfb71_hdf5/U238.h5\n",
      " Reading Pu239 from /gdrive/My Drive/data/endfb71_hdf5/Pu239.h5\n",
      " Reading Pu240 from /gdrive/My Drive/data/endfb71_hdf5/Pu240.h5\n",
      " Reading Pu241 from /gdrive/My Drive/data/endfb71_hdf5/Pu241.h5\n",
      " Reading Pu242 from /gdrive/My Drive/data/endfb71_hdf5/Pu242.h5\n",
      " Reading Am241 from /gdrive/My Drive/data/endfb71_hdf5/Am241.h5\n",
      " Reading O16 from /gdrive/My Drive/data/endfb71_hdf5/O16.h5\n",
      " Reading Cu63 from /gdrive/My Drive/data/endfb71_hdf5/Cu63.h5\n",
      " Reading O17 from /gdrive/My Drive/data/endfb71_hdf5/O17.h5\n",
      " Reading Al27 from /gdrive/My Drive/data/endfb71_hdf5/Al27.h5\n",
      " Minimum neutron data temperature: 294.000000 K\n",
      " Maximum neutron data temperature: 294.000000 K\n",
      " Preparing distributed cell instances...\n",
      " Writing summary.h5 file...\n",
      " Maximum neutron transport energy: 20000000.000000 eV for Na23\n",
      " Initializing source particles...\n",
      "\n",
      " ====================>     K EIGENVALUE SIMULATION     <====================\n",
      "\n",
      "  Bat./Gen.      k            Average k\n",
      "  =========   ========   ====================\n",
      " WARNING: Particle 1 is outside lattice 3 but the lattice has no defined outer\n",
      "          universe.\n",
      " WARNING: Could not locate particle 1 after crossing a lattice boundary\n",
      " WARNING: Particle 501 is outside lattice 3 but the lattice has no defined outer\n",
      "    WARNING: Particle 2 is outside lattice 3 but the lattice has no defined outer\n",
      "          universe.\n",
      " WARNING: Could not locate particle 2 after crossing a lattice boundary\n",
      "       universe.\n",
      " WARNING: Could not locate particle 501 after crossing a lattice boundary\n",
      " WARNING: Particle 4 is outside lattice 3 but the lattice has no defined outer\n",
      "          universe.\n",
      " WARNING: Could not locate particle 4 after crossing a lattice boundary\n",
      " WARNING: Particle 502 is outside lattice 3 but the lattice has no defined outer\n",
      "          universe.\n",
      " WARNING: Could not locate particle 502 after crossing a lattice boundary\n",
      " WARNING: Particle 5 is outside lattice 3 but the lattice has no defined outer\n",
      "          universe.\n",
      " WARNING: Could not locate particle 5 after crossing a lattice boundary\n",
      " WARNING: Particle 503 is outside lattice 3 but the lattice has no defined outer\n",
      "          universe.\n",
      " WARNING: Could not locate particle 503 after crossing a lattice boundary\n",
      " WARNING: Particle 6 is outside lattice 3 but the lattice has no defined outer\n",
      "          universe.\n",
      " WARNING: Could not locate particle 6 after crossing a lattice boundary\n",
      " WARNING: Particle 504 is outside lattice 3 but the lattice has no defined outer\n",
      "          universe.\n",
      " WARNING: Could not locate particle 504 after crossing a lattice boundary\n",
      " WARNING: Particle 7 is outside lattice 3 but the lattice has no defined outer\n",
      "          universe.\n",
      " WARNING: Could not locate particle 7 after crossing a lattice boundary\n",
      " WARNING: Particle 505 is outside lattice 3 but the lattice has no defined outer\n",
      "          universe.\n",
      " WARNING: Could not locate particle 505 after crossing a lattice boundary\n",
      " ERROR: Maximum number of lost particles has been reached.\n",
      " ERROR: Maximum number of lost particles has been reached.\n"
     ]
    },
    {
     "ename": "CalledProcessError",
     "evalue": "ignored",
     "output_type": "error",
     "traceback": [
      "\u001b[0;31m---------------------------------------------------------------------------\u001b[0m",
      "\u001b[0;31mCalledProcessError\u001b[0m                        Traceback (most recent call last)",
      "\u001b[0;32m<ipython-input-29-b3992cdbc7fa>\u001b[0m in \u001b[0;36m<module>\u001b[0;34m()\u001b[0m\n\u001b[0;32m----> 1\u001b[0;31m \u001b[0mopenmc\u001b[0m\u001b[0;34m.\u001b[0m\u001b[0mrun\u001b[0m\u001b[0;34m(\u001b[0m\u001b[0;34m)\u001b[0m\u001b[0;34m\u001b[0m\u001b[0;34m\u001b[0m\u001b[0m\n\u001b[0m",
      "\u001b[0;32m/usr/local/lib/python3.7/site-packages/openmc/executor.py\u001b[0m in \u001b[0;36mrun\u001b[0;34m(particles, threads, geometry_debug, restart_file, tracks, output, cwd, openmc_exec, mpi_args, event_based)\u001b[0m\n\u001b[1;32m    216\u001b[0m         \u001b[0margs\u001b[0m \u001b[0;34m=\u001b[0m \u001b[0mmpi_args\u001b[0m \u001b[0;34m+\u001b[0m \u001b[0margs\u001b[0m\u001b[0;34m\u001b[0m\u001b[0;34m\u001b[0m\u001b[0m\n\u001b[1;32m    217\u001b[0m \u001b[0;34m\u001b[0m\u001b[0m\n\u001b[0;32m--> 218\u001b[0;31m     \u001b[0m_run\u001b[0m\u001b[0;34m(\u001b[0m\u001b[0margs\u001b[0m\u001b[0;34m,\u001b[0m \u001b[0moutput\u001b[0m\u001b[0;34m,\u001b[0m \u001b[0mcwd\u001b[0m\u001b[0;34m)\u001b[0m\u001b[0;34m\u001b[0m\u001b[0;34m\u001b[0m\u001b[0m\n\u001b[0m",
      "\u001b[0;32m/usr/local/lib/python3.7/site-packages/openmc/executor.py\u001b[0m in \u001b[0;36m_run\u001b[0;34m(args, output, cwd)\u001b[0m\n\u001b[1;32m     27\u001b[0m     \u001b[0;32mif\u001b[0m \u001b[0mp\u001b[0m\u001b[0;34m.\u001b[0m\u001b[0mreturncode\u001b[0m \u001b[0;34m!=\u001b[0m \u001b[0;36m0\u001b[0m\u001b[0;34m:\u001b[0m\u001b[0;34m\u001b[0m\u001b[0;34m\u001b[0m\u001b[0m\n\u001b[1;32m     28\u001b[0m         raise subprocess.CalledProcessError(p.returncode, ' '.join(args),\n\u001b[0;32m---> 29\u001b[0;31m                                             ''.join(lines))\n\u001b[0m\u001b[1;32m     30\u001b[0m \u001b[0;34m\u001b[0m\u001b[0m\n\u001b[1;32m     31\u001b[0m \u001b[0;34m\u001b[0m\u001b[0m\n",
      "\u001b[0;31mCalledProcessError\u001b[0m: Command 'openmc' returned non-zero exit status 255."
     ]
    }
   ],
   "source": [
    "openmc.run()"
   ]
  },
  {
   "cell_type": "code",
   "execution_count": null,
   "metadata": {
    "id": "o4C06HCFq8R3"
   },
   "outputs": [],
   "source": []
  }
 ],
 "metadata": {
  "colab": {
   "collapsed_sections": [],
   "name": "FastReactor_3layers.ipynb",
   "provenance": []
  },
  "kernelspec": {
   "display_name": "Python 3",
   "language": "python",
   "name": "python3"
  },
  "language_info": {
   "codemirror_mode": {
    "name": "ipython",
    "version": 3
   },
   "file_extension": ".py",
   "mimetype": "text/x-python",
   "name": "python",
   "nbconvert_exporter": "python",
   "pygments_lexer": "ipython3",
   "version": "3.9.0"
  }
 },
 "nbformat": 4,
 "nbformat_minor": 1
}
