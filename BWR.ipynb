{
 "cells": [
  {
   "cell_type": "markdown",
   "metadata": {},
   "source": [
    "# A BWR geometry \n",
    "This notebook can be used as a template for modeling BWR reactors."
   ]
  },
  {
   "cell_type": "code",
   "execution_count": 1,
   "metadata": {
    "id": "EChOeJ7qVUB7"
   },
   "outputs": [],
   "source": [
    "%matplotlib inline\n",
    "import openmc"
   ]
  },
  {
   "cell_type": "code",
   "execution_count": 4,
   "metadata": {
    "id": "-0xO897aWbft"
   },
   "outputs": [],
   "source": [
    "# Materials definitions\n",
    "\n",
    "uo2 = openmc.Material(name='UO2')\n",
    "uo2.add_element('U', 1.0, enrichment=1.5)\n",
    "uo2.add_element('O', 2.0)\n",
    "uo2.set_density('g/cc', 10.0)\n",
    "\n",
    "zircaloy = openmc.Material(name='Zircaloy')\n",
    "zircaloy.set_density('g/cm3', 6.55)\n",
    "zircaloy.add_nuclide('Zr90', 7.2758e-3)\n",
    "\n",
    "steel = openmc.Material(name='Stainless Steel')\n",
    "steel.set_density('g/cm3', 8.00)\n",
    "steel.add_element('C', 0.08, percent_type='wo')\n",
    "steel.add_element('Si', 1.00, percent_type='wo')\n",
    "steel.add_element('Mn', 2.00, percent_type='wo')\n",
    "steel.add_element('P', 0.045, percent_type='wo')\n",
    "steel.add_element('S', 0.030, percent_type='wo')\n",
    "steel.add_element('Cr', 20.0, percent_type='wo')\n",
    "steel.add_element('Ni', 11.0, percent_type='wo')\n",
    "steel.add_element('Fe', 65.845, percent_type='wo')\n",
    "\n",
    "water = openmc.Material(name='Water')\n",
    "water.set_density('g/cm3', 0.76)\n",
    "water.add_element('H', 2)\n",
    "water.add_element('O', 1)\n",
    "\n",
    "b4c = openmc.Material(name='B4C')\n",
    "b4c.set_density('g/cm3', 0.7*2.52)\n",
    "b4c.add_element('B', 4)\n",
    "b4c.add_element('C', 1)\n",
    "\n",
    "graphite = openmc.Material(name='Graphite')\n",
    "graphite.set_density('g/cm3', 1.1995)\n",
    "graphite.add_element('C', 1.0)\n",
    "\n",
    "# Instantiate a Materials collection and export to xml\n",
    "materials_file = openmc.Materials([uo2, water, zircaloy, steel, b4c, graphite])\n",
    "materials_file.export_to_xml()"
   ]
  },
  {
   "cell_type": "code",
   "execution_count": 5,
   "metadata": {},
   "outputs": [],
   "source": [
    "# Geometry definitions"
   ]
  },
  {
   "cell_type": "code",
   "execution_count": 6,
   "metadata": {
    "id": "YHtFoaVZpFfw"
   },
   "outputs": [],
   "source": [
    "A = 0.2032\n",
    "B = 13.40612\n",
    "C = 0.9652\n",
    "D = 0.08128\n",
    "E = 1.22682\n",
    "F = 1.06426\n",
    "G = 1.0414\n",
    "H = 1.50114\n",
    "I = 1.34874\n",
    "J = 04.0132\n",
    "K = 12.3825\n",
    "L = 0.6604\n",
    "M = 1.6256\n",
    "N = 0.39878\n",
    "O = 0.40132\n",
    "P = 0.26162\n",
    "Q = 0.71374\n",
    "R = 0.71374\n",
    "S = 30.48\n",
    "T = 2.8575"
   ]
  },
  {
   "cell_type": "code",
   "execution_count": 7,
   "metadata": {
    "id": "J90KA6zdol04"
   },
   "outputs": [],
   "source": [
    "bottom = openmc.ZPlane(z0 = -1.0, boundary_type = 'reflective')\n",
    "top = openmc.ZPlane(z0 = 1.0, boundary_type = 'reflective')"
   ]
  },
  {
   "cell_type": "code",
   "execution_count": 8,
   "metadata": {
    "id": "7UFi6yivaxDS"
   },
   "outputs": [],
   "source": [
    "pitch = M\n",
    "pin_cell_box = openmc.rectangular_prism(width=pitch, height=pitch)"
   ]
  },
  {
   "cell_type": "code",
   "execution_count": 14,
   "metadata": {},
   "outputs": [],
   "source": [
    "# Geometry definitions for the fuel rod\n",
    "\n",
    "fuel_or  = openmc.ZCylinder(r=1.0414/2, name='Fuel OR')\n",
    "fclad_ir = openmc.ZCylinder(r=1.06426/2, name='Clad IR')\n",
    "fclad_or = openmc.ZCylinder(r=1.22682/2, name='Clad OR')\n",
    "\n",
    "fuel_region = -fuel_or \n",
    "gap_region  = +fuel_or & -fclad_ir\n",
    "fclad_region  = +fclad_ir & -fclad_or\n",
    "fwater_region = pin_cell_box & +fclad_or\n",
    "\n",
    "fuel_cell = openmc.Cell(name='fuel')\n",
    "fuel_cell.fill = uo2\n",
    "fuel_cell.region = fuel_region \n",
    "\n",
    "gap_cell = openmc.Cell(name='air gap')\n",
    "gap_cell.region = gap_region\n",
    "\n",
    "clad_cell = openmc.Cell(name='clad')\n",
    "clad_cell.fill = zircaloy\n",
    "clad_cell.region = fclad_region\n",
    "\n",
    "fwater_cell = openmc.Cell(name='fwater')\n",
    "fwater_cell.fill = water\n",
    "fwater_cell.region = fwater_region\n",
    "\n",
    "fuel_pin_universe = openmc.Universe(cells=[fuel_cell, gap_cell, clad_cell, fwater_cell])"
   ]
  },
  {
   "cell_type": "code",
   "execution_count": 12,
   "metadata": {},
   "outputs": [
    {
     "data": {
      "text/plain": [
       "<matplotlib.image.AxesImage at 0x12b885370>"
      ]
     },
     "execution_count": 12,
     "metadata": {},
     "output_type": "execute_result"
    },
    {
     "data": {
      "image/png": "[encoded data removed]",
      "text/plain": [
       "<Figure size 432x288 with 1 Axes>"
      ]
     },
     "metadata": {
      "needs_background": "light"
     },
     "output_type": "display_data"
    }
   ],
   "source": [
    "fuel_pin_universe.plot(width=(2.5, 2.5), colors = {fuel_cell: 'orange', gap_cell: 'white', clad_cell: 'grey', fwater_cell: 'blue'})"
   ]
  },
  {
   "cell_type": "code",
   "execution_count": 15,
   "metadata": {},
   "outputs": [],
   "source": [
    "# Geometry definitions for the water rod\n",
    "\n",
    "water_or = openmc.ZCylinder(r=1.34874/2)\n",
    "wclad_or = openmc.ZCylinder(r=1.50114/2)\n",
    "\n",
    "wwater_inner_region = -water_or\n",
    "wclad_region = -wclad_or & +water_or \n",
    "wwater_outer_region = pin_cell_box & +wclad_or\n",
    "\n",
    "wwater_inner_cell = openmc.Cell(name='wwater_inner')\n",
    "wwater_inner_cell.region = wwater_inner_region\n",
    "wwater_inner_cell.fill = water\n",
    "\n",
    "wclad_cell = openmc.Cell(name='wclad')\n",
    "wclad_cell.fill = zircaloy\n",
    "wclad_cell.region = wclad_region \n",
    "\n",
    "wwater_outer_cell = openmc.Cell(name='wwater_outer')\n",
    "wwater_outer_cell.fill = water\n",
    "wwater_outer_cell.region = wwater_outer_region\n",
    "\n",
    "water_pin_universe = openmc.Universe(cells=[wwater_inner_cell, wclad_cell, wwater_outer_cell])"
   ]
  },
  {
   "cell_type": "code",
   "execution_count": 16,
   "metadata": {
    "colab": {
     "base_uri": "https://localhost:8080/",
     "height": 282
    },
    "id": "FklxPQ-1xvNs",
    "outputId": "9e4cb490-0ba5-4838-9f47-0442493b9f6d"
   },
   "outputs": [],
   "source": [
    "# Geometry definitions for the corner rod\n",
    "\n",
    "corner_fuel_or = openmc.ZCylinder(r=1.0414/2, name = 'Corner Cell: Fuel OR')\n",
    "corner_clad_ir = openmc.ZCylinder(r=1.06426/2, name = 'Corner Cell: Clad IR')\n",
    "corner_clad_or = openmc.ZCylinder(r=1.22682/2, name = 'Corner Cell: Clad OR')\n",
    "\n",
    "corner_fuel_cell = openmc.Cell(name='fuel')\n",
    "corner_fuel_cell.fill = uo2\n",
    "corner_fuel_cell.region = -corner_fuel_or \n",
    "\n",
    "corner_gap_cell = openmc.Cell(name='air gap')\n",
    "corner_gap_cell.region = -corner_clad_ir & +corner_fuel_or\n",
    "\n",
    "corner_clad_cell = openmc.Cell(name='clad')\n",
    "corner_clad_cell.fill = zircaloy\n",
    "corner_clad_cell.region = +corner_clad_ir & -corner_clad_or"
   ]
  },
  {
   "cell_type": "code",
   "execution_count": 17,
   "metadata": {},
   "outputs": [],
   "source": [
    "# Defining an Assembly"
   ]
  },
  {
   "cell_type": "code",
   "execution_count": 18,
   "metadata": {},
   "outputs": [],
   "source": [
    "margin = 1e-8\n",
    "sleave_thickness = 0.2032\n",
    "sleave_inner_radius = 0.9652 + margin"
   ]
  },
  {
   "cell_type": "code",
   "execution_count": 19,
   "metadata": {
    "colab": {
     "base_uri": "https://localhost:8080/",
     "height": 282
    },
    "id": "FklxPQ-1xvNs",
    "outputId": "9e4cb490-0ba5-4838-9f47-0442493b9f6d"
   },
   "outputs": [],
   "source": [
    "ur_corner_fuel_or = openmc.ZCylinder(r=1.0414/2, name='ur Corner Cell: Fuel OR')\n",
    "ur_corner_clad_ir = openmc.ZCylinder(r=1.06426/2, name='ur Corner Cell: Clad IR')\n",
    "ur_corner_clad_or = openmc.ZCylinder(r=1.22682/2, name='ur Corner Cell: Clad OR')\n",
    "\n",
    "ur_corner_fuel_cell = openmc.Cell(name='ur fuel')\n",
    "ur_corner_fuel_cell.fill = uo2\n",
    "ur_corner_fuel_cell.region = -ur_corner_fuel_or \n",
    "\n",
    "ur_corner_gap_cell = openmc.Cell(name='ul air gap')\n",
    "ur_corner_gap_cell.region = -ur_corner_clad_ir & +ur_corner_fuel_or\n",
    "\n",
    "ur_corner_clad_cell = openmc.Cell(name='ul clad')\n",
    "ur_corner_clad_cell.fill = zircaloy\n",
    "ur_corner_clad_cell.region = +ur_corner_clad_ir & -ur_corner_clad_or\n",
    "\n",
    "ur_sleave_ir = openmc.ZCylinder(x0=pitch/2 - sleave_inner_radius - margin, y0=pitch/2 - sleave_inner_radius + margin, r=sleave_inner_radius)\n",
    "ur_sleave_or = openmc.ZCylinder(x0=pitch/2 - sleave_inner_radius - margin, y0=pitch/2 - sleave_inner_radius + margin, r=sleave_inner_radius + sleave_thickness)\n",
    "\n",
    "ur_sleave_hor_bound = openmc.XPlane(x0=pitch/2 - sleave_inner_radius - margin)\n",
    "ur_sleave_ver_bound = openmc.YPlane(y0=pitch/2 - sleave_inner_radius + margin)\n",
    "\n",
    "ur_sleave_cell = openmc.Cell(name='ur sleave cell')\n",
    "ur_sleave_cell.region = -ur_sleave_or & +ur_sleave_ir & +ur_sleave_hor_bound & +ur_sleave_ver_bound & pin_cell_box\n",
    "ur_sleave_cell.fill = zircaloy\n",
    "\n",
    "ur_sleave_water_cell = openmc.Cell(name = 'ur sleave water')\n",
    "ur_sleave_water_cell.region = pin_cell_box & +ur_sleave_hor_bound & +ur_sleave_ver_bound & +ur_sleave_or\n",
    "ur_sleave_water_cell.fill = water\n",
    "\n",
    "ur_sleave_ver_water_cell = openmc.Cell(name='ur vertically-equivalent sleave water')\n",
    "ur_sleave_ver_water_cell.region = pin_cell_box & -ur_sleave_hor_bound & +ur_sleave_ver_bound & +ur_sleave_ir\n",
    "ur_sleave_ver_water_cell.fill = water \n",
    "\n",
    "ur_opposite_water_cell = openmc.Cell(name='ur opposite water')\n",
    "ur_opposite_water_cell.region = pin_cell_box & -ur_sleave_hor_bound & -ur_sleave_ver_bound & +ur_sleave_ir\n",
    "ur_opposite_water_cell.fill = water \n",
    "\n",
    "ur_sleave_hor_water_cell = openmc.Cell(name='ur horizontally-equivalent sleave water')\n",
    "ur_sleave_hor_water_cell.region = pin_cell_box & +ur_sleave_hor_bound & -ur_sleave_ver_bound & +ur_sleave_ir\n",
    "ur_sleave_hor_water_cell.fill = water \n",
    "\n",
    "ur_inner_water_cell = openmc.Cell(name='ur inner water cell')\n",
    "ur_inner_water_cell.region = pin_cell_box & -ur_sleave_ir & +ur_corner_clad_or\n",
    "ur_inner_water_cell.fill = water\n",
    "\n",
    "ur_corner_pin_universe = openmc.Universe(cells=[ur_corner_fuel_cell, ur_corner_gap_cell, ur_corner_clad_cell, ur_sleave_cell, ur_inner_water_cell, ur_sleave_water_cell, ur_sleave_ver_water_cell, ur_opposite_water_cell, ur_sleave_hor_water_cell])"
   ]
  },
  {
   "cell_type": "code",
   "execution_count": 20,
   "metadata": {},
   "outputs": [
    {
     "data": {
      "text/plain": [
       "<matplotlib.image.AxesImage at 0x12b99d280>"
      ]
     },
     "execution_count": 20,
     "metadata": {},
     "output_type": "execute_result"
    },
    {
     "data": {
      "image/png": "[encoded data removed]",
      "text/plain": [
       "<Figure size 432x288 with 1 Axes>"
      ]
     },
     "metadata": {
      "needs_background": "light"
     },
     "output_type": "display_data"
    }
   ],
   "source": [
    "ur_corner_pin_universe.plot(width=(2.5, 2.5), basis = 'xy', colors = {ur_corner_fuel_cell: 'orange', ur_corner_gap_cell: 'white', ur_corner_clad_cell: 'grey', ur_sleave_cell:'brown', ur_inner_water_cell: 'blue', ur_sleave_water_cell: 'blue', ur_sleave_ver_water_cell: 'blue', ur_opposite_water_cell: 'blue', ur_sleave_hor_water_cell: 'blue'})"
   ]
  },
  {
   "cell_type": "code",
   "execution_count": 26,
   "metadata": {
    "scrolled": true
   },
   "outputs": [],
   "source": [
    "ul_corner_fuel_or = openmc.ZCylinder(r=(1.0414/2), name = 'ul Corner Cell: Fuel OR')\n",
    "ul_corner_clad_ir = openmc.ZCylinder(r=(1.06426/2), name = 'ul Corner Cell: Clad IR')\n",
    "ul_corner_clad_or = openmc.ZCylinder(r=(1.22682/2), name = 'ul Corner Cell: Clad OR')\n",
    "\n",
    "ul_corner_fuel_cell = openmc.Cell(name = 'ul fuel')\n",
    "ul_corner_fuel_cell.fill = uo2\n",
    "ul_corner_fuel_cell.region = -ul_corner_fuel_or \n",
    "\n",
    "ul_corner_gap_cell = openmc.Cell(name = 'ul air gap')\n",
    "ul_corner_gap_cell.region = -ul_corner_clad_ir & +ul_corner_fuel_or\n",
    "\n",
    "ul_corner_clad_cell = openmc.Cell(name = 'ul clad')\n",
    "ul_corner_clad_cell.fill = zircaloy\n",
    "ul_corner_clad_cell.region = +ul_corner_clad_ir & -ul_corner_clad_or\n",
    "\n",
    "ul_sleave_ir = openmc.ZCylinder(x0 = -pitch/2 + sleave_inner_radius + margin, y0 = pitch/2 - sleave_inner_radius + margin, r = sleave_inner_radius) #Shouldn't have margin\n",
    "ul_sleave_or = openmc.ZCylinder(x0 = -pitch/2 + sleave_inner_radius + margin, y0 = pitch/2 - sleave_inner_radius + margin, r = sleave_inner_radius + sleave_thickness)\n",
    "\n",
    "ul_sleave_hor_bound = openmc.XPlane(x0 = -pitch/2 + sleave_inner_radius + margin)\n",
    "ul_sleave_ver_bound = openmc.YPlane(y0 = pitch/2 - sleave_inner_radius + margin)\n",
    "\n",
    "ul_sleave_cell = openmc.Cell(name = 'ul sleave cell')\n",
    "ul_sleave_cell.region = -ul_sleave_or & +ul_sleave_ir & -ul_sleave_hor_bound & +ul_sleave_ver_bound & pin_cell_box\n",
    "ul_sleave_cell.fill = zircaloy\n",
    "\n",
    "ul_sleave_water_cell = openmc.Cell(name = 'ul sleave water')\n",
    "ul_sleave_water_cell.region = pin_cell_box & -ul_sleave_hor_bound & +ul_sleave_ver_bound & +ul_sleave_or\n",
    "ul_sleave_water_cell.fill = water\n",
    "\n",
    "ul_sleave_ver_water_cell = openmc.Cell(name = 'ul vertically-equivalent sleave water')\n",
    "ul_sleave_ver_water_cell.region = pin_cell_box & +ul_sleave_hor_bound & +ul_sleave_ver_bound & +ul_sleave_ir\n",
    "ul_sleave_ver_water_cell.fill = water \n",
    "\n",
    "ul_opposite_water_cell = openmc.Cell(name = 'ul opposite water')\n",
    "ul_opposite_water_cell.region = pin_cell_box & +ul_sleave_hor_bound & -ul_sleave_ver_bound & +ul_sleave_ir\n",
    "ul_opposite_water_cell.fill = water \n",
    "\n",
    "ul_sleave_hor_water_cell = openmc.Cell(name = 'ul horizontally-equivalent sleave water')\n",
    "ul_sleave_hor_water_cell.region = pin_cell_box & -ul_sleave_hor_bound & -ul_sleave_ver_bound & +ul_sleave_ir\n",
    "ul_sleave_hor_water_cell.fill = water \n",
    "\n",
    "ul_inner_water_cell = openmc.Cell(name = 'ul inner water cell')\n",
    "ul_inner_water_cell.region = pin_cell_box & -ul_sleave_ir & +ul_corner_clad_or\n",
    "ul_inner_water_cell.fill = water\n",
    "\n",
    "ul_corner_pin_universe = openmc.Universe(cells=[ul_corner_fuel_cell, ul_corner_gap_cell, ul_corner_clad_cell, ul_sleave_cell, ul_inner_water_cell, ul_sleave_water_cell, ul_sleave_ver_water_cell, ul_opposite_water_cell, ul_sleave_hor_water_cell])"
   ]
  },
  {
   "cell_type": "code",
   "execution_count": 27,
   "metadata": {},
   "outputs": [
    {
     "data": {
      "text/plain": [
       "<matplotlib.image.AxesImage at 0x12b84f790>"
      ]
     },
     "execution_count": 27,
     "metadata": {},
     "output_type": "execute_result"
    },
    {
     "data": {
      "image/png": "[encoded data removed]",
      "text/plain": [
       "<Figure size 432x288 with 1 Axes>"
      ]
     },
     "metadata": {
      "needs_background": "light"
     },
     "output_type": "display_data"
    }
   ],
   "source": [
    "ul_corner_pin_universe.plot(width=(2.5, 2.5), basis = 'xy', colors = {ul_corner_fuel_cell: 'orange', ul_corner_gap_cell: 'white', ul_corner_clad_cell: 'grey', ul_sleave_cell:'brown', ul_inner_water_cell: 'blue', ul_sleave_water_cell: 'blue', ul_sleave_ver_water_cell: 'blue', ul_opposite_water_cell: 'blue', ul_sleave_hor_water_cell: 'blue'})"
   ]
  },
  {
   "cell_type": "code",
   "execution_count": 21,
   "metadata": {},
   "outputs": [],
   "source": [
    "ll_corner_fuel_or = openmc.ZCylinder(r=1.0414/2, name='ll Corner Cell: Fuel OR')\n",
    "ll_corner_clad_ir = openmc.ZCylinder(r=1.06426/2, name='ll Corner Cell: Clad IR')\n",
    "ll_corner_clad_or = openmc.ZCylinder(r=1.22682/2, name='ll Corner Cell: Clad OR')\n",
    "\n",
    "ll_corner_fuel_cell = openmc.Cell(name='ll fuel')\n",
    "ll_corner_fuel_cell.fill = uo2\n",
    "ll_corner_fuel_cell.region = -ll_corner_fuel_or \n",
    "\n",
    "ll_corner_gap_cell = openmc.Cell(name='ll air gap')\n",
    "ll_corner_gap_cell.region = -ll_corner_clad_ir & +ll_corner_fuel_or\n",
    "\n",
    "ll_corner_clad_cell = openmc.Cell(name='ll clad')\n",
    "ll_corner_clad_cell.fill = zircaloy\n",
    "ll_corner_clad_cell.region = +ll_corner_clad_ir & -ll_corner_clad_or\n",
    "\n",
    "ll_sleave_ir = openmc.ZCylinder(x0=-pitch/2 + sleave_inner_radius + margin, y0=-pitch/2 + sleave_inner_radius - margin, r=sleave_inner_radius)\n",
    "ll_sleave_or = openmc.ZCylinder(x0=-pitch/2 + sleave_inner_radius + margin, y0=-pitch/2 + sleave_inner_radius - margin, r=sleave_inner_radius + sleave_thickness)\n",
    "\n",
    "ll_sleave_hor_bound = openmc.XPlane(x0=-pitch/2 + sleave_inner_radius + margin)\n",
    "ll_sleave_ver_bound = openmc.YPlane(y0=-pitch/2 + sleave_inner_radius - margin)\n",
    "\n",
    "ll_sleave_cell = openmc.Cell(name='ul sleave cell')\n",
    "ll_sleave_cell.region = -ll_sleave_or & +ll_sleave_ir & -ll_sleave_hor_bound & -ll_sleave_ver_bound & pin_cell_box\n",
    "ll_sleave_cell.fill = zircaloy\n",
    "\n",
    "ll_sleave_water_cell = openmc.Cell(name='ul sleave water')\n",
    "ll_sleave_water_cell.region = pin_cell_box & -ll_sleave_hor_bound & -ll_sleave_ver_bound & +ll_sleave_or\n",
    "ll_sleave_water_cell.fill = water\n",
    "\n",
    "ll_sleave_ver_water_cell = openmc.Cell(name='ul vertically-equivalent sleave water')\n",
    "ll_sleave_ver_water_cell.region = pin_cell_box & +ll_sleave_hor_bound & -ll_sleave_ver_bound & +ll_sleave_ir\n",
    "ll_sleave_ver_water_cell.fill = water \n",
    "\n",
    "ll_opposite_water_cell = openmc.Cell(name='ul opposite water')\n",
    "ll_opposite_water_cell.region = pin_cell_box & +ll_sleave_hor_bound & +ll_sleave_ver_bound & +ll_sleave_ir\n",
    "ll_opposite_water_cell.fill = water \n",
    "\n",
    "ll_sleave_hor_water_cell = openmc.Cell(name='ul horizontally-equivalent sleave water')\n",
    "ll_sleave_hor_water_cell.region = pin_cell_box & -ll_sleave_hor_bound & +ll_sleave_ver_bound & +ll_sleave_ir\n",
    "ll_sleave_hor_water_cell.fill = water \n",
    "\n",
    "ll_inner_water_cell = openmc.Cell(name='ul inner water cell')\n",
    "ll_inner_water_cell.region = pin_cell_box & -ll_sleave_ir & +ll_corner_clad_or\n",
    "ll_inner_water_cell.fill = water\n",
    "\n",
    "ll_corner_pin_universe = openmc.Universe(cells=[ll_corner_fuel_cell, ll_corner_gap_cell, ll_corner_clad_cell, ll_sleave_cell, ll_inner_water_cell, ll_sleave_water_cell, ll_sleave_ver_water_cell, ll_opposite_water_cell, ll_sleave_hor_water_cell])"
   ]
  },
  {
   "cell_type": "code",
   "execution_count": 22,
   "metadata": {},
   "outputs": [
    {
     "data": {
      "text/plain": [
       "<matplotlib.image.AxesImage at 0x12b9f72b0>"
      ]
     },
     "execution_count": 22,
     "metadata": {},
     "output_type": "execute_result"
    },
    {
     "data": {
      "image/png": "[encoded data removed]",
      "text/plain": [
       "<Figure size 432x288 with 1 Axes>"
      ]
     },
     "metadata": {
      "needs_background": "light"
     },
     "output_type": "display_data"
    }
   ],
   "source": [
    "ll_corner_pin_universe.plot(width=(2.5, 2.5), basis = 'xy', colors = {ll_corner_fuel_cell: 'orange', ll_corner_gap_cell: 'white', ll_corner_clad_cell: 'grey', ll_sleave_cell:'brown', ll_inner_water_cell: 'blue', ll_sleave_water_cell: 'blue', ll_sleave_ver_water_cell: 'blue', ll_opposite_water_cell: 'blue', ll_sleave_hor_water_cell: 'blue'})"
   ]
  },
  {
   "cell_type": "code",
   "execution_count": 23,
   "metadata": {},
   "outputs": [],
   "source": [
    "lr_corner_fuel_or = openmc.ZCylinder(r=1.0414/2, name='lr Corner Cell: Fuel OR')\n",
    "lr_corner_clad_ir = openmc.ZCylinder(r=1.06426/2, name='lr Corner Cell: Clad IR')\n",
    "lr_corner_clad_or = openmc.ZCylinder(r=1.22682/2, name='lr Corner Cell: Clad OR')\n",
    "\n",
    "lr_corner_fuel_cell = openmc.Cell(name='lr fuel')\n",
    "lr_corner_fuel_cell.fill = uo2\n",
    "lr_corner_fuel_cell.region = -lr_corner_fuel_or \n",
    "\n",
    "lr_corner_gap_cell = openmc.Cell(name='lr air gap')\n",
    "lr_corner_gap_cell.region = -lr_corner_clad_ir & +lr_corner_fuel_or\n",
    "\n",
    "lr_corner_clad_cell = openmc.Cell(name='lr clad')\n",
    "lr_corner_clad_cell.fill = zircaloy\n",
    "lr_corner_clad_cell.region = +lr_corner_clad_ir & -lr_corner_clad_or\n",
    "\n",
    "lr_sleave_ir = openmc.ZCylinder(x0=pitch/2 - sleave_inner_radius - margin, y0=-pitch/2 + sleave_inner_radius - margin, r=sleave_inner_radius)\n",
    "lr_sleave_or = openmc.ZCylinder(x0=pitch/2 - sleave_inner_radius - margin, y0=-pitch/2 + sleave_inner_radius - margin, r=sleave_inner_radius + sleave_thickness)\n",
    "\n",
    "lr_sleave_hor_bound = openmc.XPlane(x0=pitch/2 - sleave_inner_radius - margin)\n",
    "lr_sleave_ver_bound = openmc.YPlane(y0=-pitch/2 + sleave_inner_radius - margin)\n",
    "\n",
    "lr_sleave_cell = openmc.Cell(name='ur sleave cell')\n",
    "lr_sleave_cell.region = -lr_sleave_or & +lr_sleave_ir & +lr_sleave_hor_bound & -lr_sleave_ver_bound & pin_cell_box\n",
    "lr_sleave_cell.fill = zircaloy\n",
    "\n",
    "lr_sleave_water_cell = openmc.Cell(name='ur sleave water')\n",
    "lr_sleave_water_cell.region = pin_cell_box & +lr_sleave_hor_bound & -lr_sleave_ver_bound & +lr_sleave_or\n",
    "lr_sleave_water_cell.fill = water\n",
    "\n",
    "lr_sleave_ver_water_cell = openmc.Cell(name='ur vertically-equivalent sleave water')\n",
    "lr_sleave_ver_water_cell.region = pin_cell_box & -lr_sleave_hor_bound & -lr_sleave_ver_bound & +lr_sleave_ir\n",
    "lr_sleave_ver_water_cell.fill = water \n",
    "\n",
    "lr_opposite_water_cell = openmc.Cell(name='ur opposite water')\n",
    "lr_opposite_water_cell.region = pin_cell_box & -lr_sleave_hor_bound & +lr_sleave_ver_bound & +lr_sleave_ir\n",
    "lr_opposite_water_cell.fill = water \n",
    "\n",
    "lr_sleave_hor_water_cell = openmc.Cell(name='ur horizontally-equivalent sleave water')\n",
    "lr_sleave_hor_water_cell.region = pin_cell_box & +lr_sleave_hor_bound & +lr_sleave_ver_bound & +lr_sleave_ir\n",
    "lr_sleave_hor_water_cell.fill = water \n",
    "\n",
    "lr_inner_water_cell = openmc.Cell(name='ur inner water cell')\n",
    "lr_inner_water_cell.region = pin_cell_box & -lr_sleave_ir & +lr_corner_clad_or\n",
    "lr_inner_water_cell.fill = water\n",
    "\n",
    "lr_corner_pin_universe = openmc.Universe(cells=[lr_corner_fuel_cell, lr_corner_gap_cell, lr_corner_clad_cell, lr_sleave_cell, lr_inner_water_cell, lr_sleave_water_cell, lr_sleave_ver_water_cell, lr_opposite_water_cell, lr_sleave_hor_water_cell])"
   ]
  },
  {
   "cell_type": "code",
   "execution_count": 24,
   "metadata": {},
   "outputs": [
    {
     "data": {
      "text/plain": [
       "<matplotlib.image.AxesImage at 0x12ba47f10>"
      ]
     },
     "execution_count": 24,
     "metadata": {},
     "output_type": "execute_result"
    },
    {
     "data": {
      "image/png": "[encoded data removed]",
      "text/plain": [
       "<Figure size 432x288 with 1 Axes>"
      ]
     },
     "metadata": {
      "needs_background": "light"
     },
     "output_type": "display_data"
    }
   ],
   "source": [
    "lr_corner_pin_universe.plot(width=(2.5, 2.5), basis = 'xy', colors = {lr_corner_fuel_cell: 'orange', lr_corner_gap_cell: 'white', lr_corner_clad_cell: 'grey', lr_sleave_cell:'brown', lr_inner_water_cell: 'blue', lr_sleave_water_cell: 'blue', lr_sleave_ver_water_cell: 'blue', lr_opposite_water_cell: 'blue', lr_sleave_hor_water_cell: 'blue'})"
   ]
  },
  {
   "cell_type": "code",
   "execution_count": 29,
   "metadata": {},
   "outputs": [],
   "source": [
    "quarter_pitch = pitch * 8\n",
    "\n",
    "assembly = openmc.RectLattice(name='Quarter Assembly')\n",
    "assembly.pitch = (pitch, pitch)\n",
    "assembly.lower_left = [-quarter_pitch/2, -quarter_pitch/2]\n",
    "\n",
    "assembly.universes = [\n",
    "                      [ul_corner_pin_universe, fuel_pin_universe, fuel_pin_universe, fuel_pin_universe, fuel_pin_universe, fuel_pin_universe, fuel_pin_universe, ur_corner_pin_universe],\n",
    "                      [fuel_pin_universe, fuel_pin_universe, fuel_pin_universe, fuel_pin_universe, fuel_pin_universe, fuel_pin_universe, fuel_pin_universe, fuel_pin_universe],\n",
    "                      [fuel_pin_universe, fuel_pin_universe, fuel_pin_universe, fuel_pin_universe, fuel_pin_universe, fuel_pin_universe, fuel_pin_universe, fuel_pin_universe],\n",
    "                      [fuel_pin_universe, fuel_pin_universe, fuel_pin_universe, water_pin_universe, fuel_pin_universe, fuel_pin_universe, fuel_pin_universe, fuel_pin_universe],\n",
    "                      [fuel_pin_universe, fuel_pin_universe, fuel_pin_universe, fuel_pin_universe, water_pin_universe, fuel_pin_universe, fuel_pin_universe, fuel_pin_universe],\n",
    "                      [fuel_pin_universe, fuel_pin_universe, fuel_pin_universe, fuel_pin_universe, fuel_pin_universe, fuel_pin_universe, fuel_pin_universe, fuel_pin_universe],\n",
    "                      [fuel_pin_universe, fuel_pin_universe, fuel_pin_universe, fuel_pin_universe, fuel_pin_universe, fuel_pin_universe, fuel_pin_universe, fuel_pin_universe],\n",
    "                      [ll_corner_pin_universe, fuel_pin_universe, fuel_pin_universe, fuel_pin_universe, fuel_pin_universe, fuel_pin_universe, fuel_pin_universe, lr_corner_pin_universe]\n",
    "]\n",
    "\n",
    "assembly_region = openmc.rectangular_prism(width=quarter_pitch, height=quarter_pitch, origin=(0,0))\n",
    "assembly_cell = openmc.Cell(name='quarter assembly cell', fill=assembly, region=assembly_region)\n",
    "\n",
    "assembly_sleave = openmc.Cell(name='quarter assembly sleave')\n",
    "assembly_sleave.region = openmc.rectangular_prism(width=quarter_pitch+2*sleave_thickness, height=quarter_pitch+2*sleave_thickness, corner_radius=sleave_inner_radius+sleave_thickness) & ~assembly_cell.region\n",
    "assembly_sleave.fill = zircaloy\n",
    "\n",
    "assembly_outer_water = openmc.Cell(name='assembly outer water')\n",
    "assembly_outer_water.region = ~assembly_sleave.region & ~assembly_cell.region & openmc.rectangular_prism(width=quarter_pitch+2*sleave_thickness+1, height=quarter_pitch+2*sleave_thickness+1, boundary_type='reflective')\n",
    "assembly_outer_water.fill = water\n",
    "\n",
    "quarter_assembly_universe = openmc.Universe(cells=[assembly_cell, assembly_sleave, assembly_outer_water])"
   ]
  },
  {
   "cell_type": "code",
   "execution_count": 30,
   "metadata": {},
   "outputs": [
    {
     "data": {
      "text/plain": [
       "<matplotlib.image.AxesImage at 0x12bb7fe50>"
      ]
     },
     "execution_count": 30,
     "metadata": {},
     "output_type": "execute_result"
    },
    {
     "data": {
      "image/png": "[encoded data removed]",
      "text/plain": [
       "<Figure size 432x288 with 1 Axes>"
      ]
     },
     "metadata": {
      "needs_background": "light"
     },
     "output_type": "display_data"
    }
   ],
   "source": [
    "quarter_assembly_universe.plot(width=(15,15), colors = {assembly_outer_water: 'blue'})"
   ]
  },
  {
   "cell_type": "code",
   "execution_count": 31,
   "metadata": {
    "colab": {
     "base_uri": "https://localhost:8080/",
     "height": 680
    },
    "id": "CmIUhzNMOQWc",
    "outputId": "906133b1-f625-446c-e41a-884a2b7a063a"
   },
   "outputs": [
    {
     "data": {
      "image/png": "[encoded data removed]",
      "text/plain": [
       "<Figure size 432x288 with 1 Axes>"
      ]
     },
     "metadata": {
      "needs_background": "light"
     },
     "output_type": "display_data"
    }
   ],
   "source": [
    "root = quarter_assembly_universe\n",
    "root.plot(width=(15,15), basis='xy', pixels=(128, 128))\n",
    "geom = openmc.Geometry(root)\n",
    "geom.export_to_xml()"
   ]
  },
  {
   "cell_type": "code",
   "execution_count": 33,
   "metadata": {
    "colab": {
     "base_uri": "https://localhost:8080/"
    },
    "id": "JPOk4874OR3w",
    "outputId": "b15d56c2-f9a1-42c4-b06f-3e779a1953ec"
   },
   "outputs": [],
   "source": [
    "# OpenMC simulation parameters\n",
    "\n",
    "point = openmc.stats.Point((0, 0, 0))\n",
    "src = openmc.Source(space=point)\n",
    "settings = openmc.Settings()\n",
    "settings.source = src\n",
    "settings.batches = 100\n",
    "settings.inactive = 10\n",
    "settings.particles = 1000\n",
    "settings.export_to_xml()"
   ]
  },
  {
   "cell_type": "code",
   "execution_count": 22,
   "metadata": {
    "colab": {
     "base_uri": "https://localhost:8080/"
    },
    "id": "lkX_1LrAzw71",
    "outputId": "6331f2a0-42fc-4919-91d3-7bca6b5d735f"
   },
   "outputs": [
    {
     "name": "stdout",
     "output_type": "stream",
     "text": [
      "                                %%%%%%%%%%%%%%%\n",
      "                           %%%%%%%%%%%%%%%%%%%%%%%%\n",
      "                        %%%%%%%%%%%%%%%%%%%%%%%%%%%%%%\n",
      "                      %%%%%%%%%%%%%%%%%%%%%%%%%%%%%%%%%%\n",
      "                    %%%%%%%%%%%%%%%%%%%%%%%%%%%%%%%%%%%%%%\n",
      "                   %%%%%%%%%%%%%%%%%%%%%%%%%%%%%%%%%%%%%%%%\n",
      "                                    %%%%%%%%%%%%%%%%%%%%%%%%\n",
      "                                     %%%%%%%%%%%%%%%%%%%%%%%%\n",
      "                 ###############      %%%%%%%%%%%%%%%%%%%%%%%%\n",
      "                ##################     %%%%%%%%%%%%%%%%%%%%%%%\n",
      "                ###################     %%%%%%%%%%%%%%%%%%%%%%%\n",
      "                ####################     %%%%%%%%%%%%%%%%%%%%%%\n",
      "                #####################     %%%%%%%%%%%%%%%%%%%%%\n",
      "                ######################     %%%%%%%%%%%%%%%%%%%%\n",
      "                #######################     %%%%%%%%%%%%%%%%%%\n",
      "                 #######################     %%%%%%%%%%%%%%%%%\n",
      "                 ######################     %%%%%%%%%%%%%%%%%\n",
      "                  ####################     %%%%%%%%%%%%%%%%%\n",
      "                    #################     %%%%%%%%%%%%%%%%%\n",
      "                     ###############     %%%%%%%%%%%%%%%%\n",
      "                       ############     %%%%%%%%%%%%%%%\n",
      "                          ########     %%%%%%%%%%%%%%\n",
      "                                      %%%%%%%%%%%\n",
      "\n",
      "                   | The OpenMC Monte Carlo Code\n",
      "         Copyright | 2011-2020 MIT and OpenMC contributors\n",
      "           License | https://docs.openmc.org/en/latest/license.html\n",
      "           Version | 0.12.1-dev\n",
      "          Git SHA1 | 2115cae40aa242ec0e2df31c8a43b92f2ba3babb\n",
      "         Date/Time | 2020-12-10 15:57:26\n",
      "\n",
      " Reading settings XML file...\n",
      " Reading cross sections XML file...\n",
      " Reading materials XML file...\n",
      " Reading geometry XML file...\n",
      " Reading U234 from /Users/ryanyang/codes/openmc/nucleardata/nndc_hdf5/U234.h5\n",
      " Reading U235 from /Users/ryanyang/codes/openmc/nucleardata/nndc_hdf5/U235.h5\n",
      " Reading U238 from /Users/ryanyang/codes/openmc/nucleardata/nndc_hdf5/U238.h5\n",
      " Reading U236 from /Users/ryanyang/codes/openmc/nucleardata/nndc_hdf5/U236.h5\n",
      " Reading O16 from /Users/ryanyang/codes/openmc/nucleardata/nndc_hdf5/O16.h5\n",
      " Reading O17 from /Users/ryanyang/codes/openmc/nucleardata/nndc_hdf5/O17.h5\n",
      " Reading Zr90 from /Users/ryanyang/codes/openmc/nucleardata/nndc_hdf5/Zr90.h5\n",
      " Reading C0 from /Users/ryanyang/codes/openmc/nucleardata/nndc_hdf5/C0.h5\n",
      " Reading Si28 from /Users/ryanyang/codes/openmc/nucleardata/nndc_hdf5/Si28.h5\n",
      " Reading Si29 from /Users/ryanyang/codes/openmc/nucleardata/nndc_hdf5/Si29.h5\n",
      " Reading Si30 from /Users/ryanyang/codes/openmc/nucleardata/nndc_hdf5/Si30.h5\n",
      " Reading Mn55 from /Users/ryanyang/codes/openmc/nucleardata/nndc_hdf5/Mn55.h5\n",
      " Reading P31 from /Users/ryanyang/codes/openmc/nucleardata/nndc_hdf5/P31.h5\n",
      " Reading S32 from /Users/ryanyang/codes/openmc/nucleardata/nndc_hdf5/S32.h5\n",
      " Reading S33 from /Users/ryanyang/codes/openmc/nucleardata/nndc_hdf5/S33.h5\n",
      " Reading S34 from /Users/ryanyang/codes/openmc/nucleardata/nndc_hdf5/S34.h5\n",
      " Reading S36 from /Users/ryanyang/codes/openmc/nucleardata/nndc_hdf5/S36.h5\n",
      " Reading Cr50 from /Users/ryanyang/codes/openmc/nucleardata/nndc_hdf5/Cr50.h5\n",
      " Reading Cr52 from /Users/ryanyang/codes/openmc/nucleardata/nndc_hdf5/Cr52.h5\n",
      " Reading Cr53 from /Users/ryanyang/codes/openmc/nucleardata/nndc_hdf5/Cr53.h5\n",
      " Reading Cr54 from /Users/ryanyang/codes/openmc/nucleardata/nndc_hdf5/Cr54.h5\n",
      " Reading Ni58 from /Users/ryanyang/codes/openmc/nucleardata/nndc_hdf5/Ni58.h5\n",
      " Reading Ni60 from /Users/ryanyang/codes/openmc/nucleardata/nndc_hdf5/Ni60.h5\n",
      " Reading Ni61 from /Users/ryanyang/codes/openmc/nucleardata/nndc_hdf5/Ni61.h5\n",
      " Reading Ni62 from /Users/ryanyang/codes/openmc/nucleardata/nndc_hdf5/Ni62.h5\n",
      " Reading Ni64 from /Users/ryanyang/codes/openmc/nucleardata/nndc_hdf5/Ni64.h5\n",
      " Reading Fe54 from /Users/ryanyang/codes/openmc/nucleardata/nndc_hdf5/Fe54.h5\n",
      " Reading Fe56 from /Users/ryanyang/codes/openmc/nucleardata/nndc_hdf5/Fe56.h5\n",
      " Reading Fe57 from /Users/ryanyang/codes/openmc/nucleardata/nndc_hdf5/Fe57.h5\n",
      " Reading Fe58 from /Users/ryanyang/codes/openmc/nucleardata/nndc_hdf5/Fe58.h5\n",
      " Reading H1 from /Users/ryanyang/codes/openmc/nucleardata/nndc_hdf5/H1.h5\n",
      " Reading H2 from /Users/ryanyang/codes/openmc/nucleardata/nndc_hdf5/H2.h5\n",
      " Reading B10 from /Users/ryanyang/codes/openmc/nucleardata/nndc_hdf5/B10.h5\n",
      " Reading B11 from /Users/ryanyang/codes/openmc/nucleardata/nndc_hdf5/B11.h5\n",
      " Minimum neutron data temperature: 294.0 K\n",
      " Maximum neutron data temperature: 294.0 K\n",
      " Preparing distributed cell instances...\n",
      " Writing summary.h5 file...\n",
      " Maximum neutron transport energy: 20000000.0 eV for U235\n",
      " Initializing source particles...\n",
      "\n",
      " ====================>     K EIGENVALUE SIMULATION     <====================\n",
      "\n",
      "  Bat./Gen.      k            Average k\n",
      "  =========   ========   ====================\n",
      "        1/1    1.16755\n",
      "        2/1    1.23647\n",
      "        3/1    1.18732\n",
      "        4/1    1.25265\n",
      "        5/1    1.26054\n",
      "        6/1    1.16731\n",
      "        7/1    1.20731\n",
      "        8/1    1.23037\n",
      "        9/1    1.19811\n",
      "       10/1    1.32035\n",
      "       11/1    1.24048\n",
      "       12/1    1.23111    1.23580 +/- 0.00468\n",
      "       13/1    1.30188    1.25782 +/- 0.02219\n",
      "       14/1    1.26345    1.25923 +/- 0.01576\n",
      "       15/1    1.25115    1.25762 +/- 0.01231\n",
      "       16/1    1.18880    1.24615 +/- 0.01525\n",
      "       17/1    1.29206    1.25270 +/- 0.01446\n",
      "       18/1    1.26006    1.25362 +/- 0.01256\n",
      "       19/1    1.19881    1.24753 +/- 0.01264\n",
      "       20/1    1.19765    1.24254 +/- 0.01236\n",
      "       21/1    1.22068    1.24056 +/- 0.01135\n",
      "       22/1    1.17901    1.23543 +/- 0.01156\n",
      "       23/1    1.17530    1.23080 +/- 0.01160\n",
      "       24/1    1.18346    1.22742 +/- 0.01126\n",
      "       25/1    1.21118    1.22634 +/- 0.01054\n",
      "       26/1    1.24664    1.22761 +/- 0.00994\n",
      "       27/1    1.20424    1.22623 +/- 0.00944\n",
      "       28/1    1.23669    1.22681 +/- 0.00891\n",
      "       29/1    1.23330    1.22715 +/- 0.00844\n",
      "       30/1    1.18761    1.22518 +/- 0.00825\n",
      "       31/1    1.19102    1.22355 +/- 0.00801\n",
      "       32/1    1.29049    1.22659 +/- 0.00822\n",
      "       33/1    1.24300    1.22731 +/- 0.00789\n",
      "       34/1    1.15238    1.22419 +/- 0.00817\n",
      "       35/1    1.21247    1.22372 +/- 0.00785\n",
      "       36/1    1.17552    1.22186 +/- 0.00777\n",
      "       37/1    1.22234    1.22188 +/- 0.00748\n",
      "       38/1    1.29706    1.22457 +/- 0.00769\n",
      "       39/1    1.19646    1.22360 +/- 0.00748\n",
      "       40/1    1.29755    1.22606 +/- 0.00764\n",
      "       41/1    1.24446    1.22666 +/- 0.00741\n",
      "       42/1    1.19294    1.22560 +/- 0.00725\n",
      "       43/1    1.18618    1.22441 +/- 0.00713\n",
      "       44/1    1.23630    1.22476 +/- 0.00692\n",
      "       45/1    1.23734    1.22512 +/- 0.00673\n",
      "       46/1    1.23750    1.22546 +/- 0.00655\n",
      "       47/1    1.23711    1.22578 +/- 0.00638\n",
      "       48/1    1.21652    1.22553 +/- 0.00622\n",
      "       49/1    1.23195    1.22570 +/- 0.00606\n",
      "       50/1    1.23155    1.22584 +/- 0.00591\n",
      "       51/1    1.17055    1.22449 +/- 0.00592\n",
      "       52/1    1.17098    1.22322 +/- 0.00591\n",
      "       53/1    1.15294    1.22159 +/- 0.00600\n",
      "       54/1    1.29876    1.22334 +/- 0.00612\n",
      "       55/1    1.24228    1.22376 +/- 0.00600\n",
      "       56/1    1.19616    1.22316 +/- 0.00589\n",
      "       57/1    1.18593    1.22237 +/- 0.00582\n",
      "       58/1    1.17257    1.22133 +/- 0.00579\n",
      "       59/1    1.22720    1.22145 +/- 0.00567\n",
      "       60/1    1.19507    1.22092 +/- 0.00558\n",
      "       61/1    1.22380    1.22098 +/- 0.00547\n",
      "       62/1    1.26133    1.22176 +/- 0.00542\n",
      "       63/1    1.17542    1.22088 +/- 0.00539\n",
      "       64/1    1.27828    1.22194 +/- 0.00540\n",
      "       65/1    1.23776    1.22223 +/- 0.00531\n",
      "       66/1    1.24246    1.22259 +/- 0.00522\n",
      "       67/1    1.20715    1.22232 +/- 0.00514\n",
      "       68/1    1.21885    1.22226 +/- 0.00505\n",
      "       69/1    1.21824    1.22219 +/- 0.00496\n",
      "       70/1    1.21942    1.22215 +/- 0.00488\n",
      "       71/1    1.15484    1.22104 +/- 0.00492\n",
      "       72/1    1.21560    1.22096 +/- 0.00484\n",
      "       73/1    1.23875    1.22124 +/- 0.00478\n",
      "       74/1    1.18692    1.22070 +/- 0.00473\n",
      "       75/1    1.20477    1.22046 +/- 0.00466\n",
      "       76/1    1.24948    1.22090 +/- 0.00461\n",
      "       77/1    1.14570    1.21978 +/- 0.00468\n",
      "       78/1    1.24017    1.22008 +/- 0.00462\n",
      "       79/1    1.10458    1.21840 +/- 0.00485\n"
     ]
    },
    {
     "name": "stdout",
     "output_type": "stream",
     "text": [
      "       80/1    1.17946    1.21784 +/- 0.00481\n",
      "       81/1    1.23920    1.21815 +/- 0.00476\n",
      "       82/1    1.24155    1.21847 +/- 0.00470\n",
      "       83/1    1.26286    1.21908 +/- 0.00467\n",
      "       84/1    1.15865    1.21826 +/- 0.00468\n",
      "       85/1    1.19933    1.21801 +/- 0.00463\n",
      "       86/1    1.19135    1.21766 +/- 0.00458\n",
      "       87/1    1.20925    1.21755 +/- 0.00452\n",
      "       88/1    1.21471    1.21751 +/- 0.00446\n",
      "       89/1    1.20975    1.21742 +/- 0.00441\n",
      "       90/1    1.23637    1.21765 +/- 0.00436\n",
      "       91/1    1.19041    1.21732 +/- 0.00432\n",
      "       92/1    1.25926    1.21783 +/- 0.00429\n",
      "       93/1    1.22510    1.21791 +/- 0.00424\n",
      "       94/1    1.20423    1.21775 +/- 0.00420\n",
      "       95/1    1.21771    1.21775 +/- 0.00415\n",
      "       96/1    1.30371    1.21875 +/- 0.00422\n",
      "       97/1    1.21747    1.21874 +/- 0.00417\n",
      "       98/1    1.13599    1.21780 +/- 0.00423\n",
      "       99/1    1.23754    1.21802 +/- 0.00419\n",
      "      100/1    1.10095    1.21672 +/- 0.00434\n",
      " Creating state point statepoint.100.h5...\n",
      "\n",
      " =======================>     TIMING STATISTICS     <=======================\n",
      "\n",
      " Total time for initialization     = 4.2378e+00 seconds\n",
      "   Reading cross sections          = 4.1724e+00 seconds\n",
      " Total time in simulation          = 1.8119e+01 seconds\n",
      "   Time in transport only          = 1.8036e+01 seconds\n",
      "   Time in inactive batches        = 1.5400e+00 seconds\n",
      "   Time in active batches          = 1.6579e+01 seconds\n",
      "   Time synchronizing fission bank = 1.0554e-02 seconds\n",
      "     Sampling source sites         = 9.6444e-03 seconds\n",
      "     SEND/RECV source sites        = 8.6456e-04 seconds\n",
      "   Time accumulating tallies       = 6.2292e-05 seconds\n",
      "   Time writing statepoints        = 1.0616e-02 seconds\n",
      " Total time for finalization       = 4.4270e-06 seconds\n",
      " Total time elapsed                = 2.2368e+01 seconds\n",
      " Calculation Rate (inactive)       = 6493.36 particles/second\n",
      " Calculation Rate (active)         = 5428.65 particles/second\n",
      "\n",
      " ============================>     RESULTS     <============================\n",
      "\n",
      " k-effective (Collision)     = 1.21224 +/- 0.00420\n",
      " k-effective (Track-length)  = 1.21672 +/- 0.00434\n",
      " k-effective (Absorption)    = 1.20753 +/- 0.00349\n",
      " Combined k-effective        = 1.21041 +/- 0.00294\n",
      " Leakage Fraction            = 0.00000 +/- 0.00000\n",
      "\n"
     ]
    }
   ],
   "source": [
    "openmc.run()"
   ]
  }
 ],
 "metadata": {
  "accelerator": "GPU",
  "colab": {
   "collapsed_sections": [],
   "name": "thick_thin.IPYNB",
   "provenance": []
  },
  "kernelspec": {
   "display_name": "Python 3",
   "language": "python",
   "name": "python3"
  },
  "language_info": {
   "codemirror_mode": {
    "name": "ipython",
    "version": 3
   },
   "file_extension": ".py",
   "mimetype": "text/x-python",
   "name": "python",
   "nbconvert_exporter": "python",
   "pygments_lexer": "ipython3",
   "version": "3.9.0"
  }
 },
 "nbformat": 4,
 "nbformat_minor": 4
}
