{
  "nbformat": 4,
  "nbformat_minor": 0,
  "metadata": {
    "colab": {
      "name": "VVER.ipynb",
      "provenance": []
    },
    "kernelspec": {
      "name": "python3",
      "display_name": "Python 3"
    }
  },
  "cells": [
    {
      "cell_type": "code",
      "metadata": {
        "id": "7SVc4tVhUN8l",
        "colab": {
          "base_uri": "https://localhost:8080/"
        },
        "outputId": "91d742b3-4226-4a1c-e1a6-51bbde0949e3"
      },
      "source": [
        "#Add google drive\n",
        "from google.colab import drive\n",
        "drive.mount('/gdrive')"
      ],
      "execution_count": 5,
      "outputs": [
        {
          "output_type": "stream",
          "text": [
            "Drive already mounted at /gdrive; to attempt to forcibly remount, call drive.mount(\"/gdrive\", force_remount=True).\n"
          ],
          "name": "stdout"
        }
      ]
    },
    {
      "cell_type": "code",
      "metadata": {
        "id": "FAPWsAyWUQPU",
        "colab": {
          "base_uri": "https://localhost:8080/"
        },
        "outputId": "33227827-deec-4865-d12e-46700541afc4"
      },
      "source": [
        "#Add link to shared cross section library\n",
        "#shared library was added as a shortcut to My Drive from the web interface\n",
        "%env OPENMC_CROSS_SECTIONS = /gdrive/My Drive/data/endfb71_hdf5/cross_sections.xml"
      ],
      "execution_count": 6,
      "outputs": [
        {
          "output_type": "stream",
          "text": [
            "env: OPENMC_CROSS_SECTIONS=/gdrive/My Drive/data/endfb71_hdf5/cross_sections.xml\n"
          ],
          "name": "stdout"
        }
      ]
    },
    {
      "cell_type": "code",
      "metadata": {
        "id": "MSco_CdPTtof",
        "colab": {
          "base_uri": "https://localhost:8080/"
        },
        "outputId": "4af58367-b6c1-4d3f-8718-5b5a36e825dd"
      },
      "source": [
        "#Download miniconda and install\n",
        "! wget https://repo.anaconda.com/miniconda/Miniconda3-py37_4.8.2-Linux-x86_64.sh\n",
        "! chmod +x Miniconda3-py37_4.8.2-Linux-x86_64.sh\n",
        "! bash ./Miniconda3-py37_4.8.2-Linux-x86_64.sh -b -f -p /usr/local\n",
        "import sys\n",
        "sys.path.append('/usr/local/lib/python3.7/site-packages/')"
      ],
      "execution_count": 7,
      "outputs": [
        {
          "output_type": "stream",
          "text": [
            "--2020-12-10 19:10:31--  https://repo.anaconda.com/miniconda/Miniconda3-py37_4.8.2-Linux-x86_64.sh\n",
            "Resolving repo.anaconda.com (repo.anaconda.com)... 104.16.130.3, 104.16.131.3, 2606:4700::6810:8303, ...\n",
            "Connecting to repo.anaconda.com (repo.anaconda.com)|104.16.130.3|:443... connected.\n",
            "HTTP request sent, awaiting response... 200 OK\n",
            "Length: 85055499 (81M) [application/x-sh]\n",
            "Saving to: ‘Miniconda3-py37_4.8.2-Linux-x86_64.sh.1’\n",
            "\n",
            "Miniconda3-py37_4.8 100%[===================>]  81.12M   121MB/s    in 0.7s    \n",
            "\n",
            "2020-12-10 19:10:32 (121 MB/s) - ‘Miniconda3-py37_4.8.2-Linux-x86_64.sh.1’ saved [85055499/85055499]\n",
            "\n",
            "PREFIX=/usr/local\n",
            "Unpacking payload ...\n",
            "Collecting package metadata (current_repodata.json): - \b\b\\ \b\bdone\n",
            "Solving environment: / \b\b- \b\b\\ \b\bdone\n",
            "\n",
            "# All requested packages already installed.\n",
            "\n",
            "installation finished.\n",
            "WARNING:\n",
            "    You currently have a PYTHONPATH environment variable set. This may cause\n",
            "    unexpected behavior when running the Python interpreter in Miniconda3.\n",
            "    For best results, please verify that your PYTHONPATH only points to\n",
            "    directories of packages that are compatible with the Python interpreter\n",
            "    in Miniconda3: /usr/local\n"
          ],
          "name": "stdout"
        }
      ]
    },
    {
      "cell_type": "code",
      "metadata": {
        "id": "kwx8PR3ETzpe",
        "colab": {
          "base_uri": "https://localhost:8080/"
        },
        "outputId": "ea3200e0-be84-405f-c198-074c15c11dd2"
      },
      "source": [
        "# Install OpenMC\n",
        "!conda config --add channels conda-forge\n",
        "!conda install openmc -y"
      ],
      "execution_count": 8,
      "outputs": [
        {
          "output_type": "stream",
          "text": [
            "Collecting package metadata (current_repodata.json): - \b\b\\ \b\b| \b\b/ \b\b- \b\b\\ \b\b| \b\b/ \b\b- \b\b\\ \b\b| \b\b/ \b\b- \b\b\\ \b\b| \b\b/ \b\b- \b\b\\ \b\b| \b\b/ \b\b- \b\b\\ \b\b| \b\b/ \b\b- \b\b\\ \b\b| \b\b/ \b\b- \b\b\\ \b\b| \b\b/ \b\b- \b\b\\ \b\b| \b\b/ \b\b- \b\b\\ \b\b| \b\b/ \b\b- \b\b\\ \b\b| \b\b/ \b\b- \b\b\\ \b\b| \b\b/ \b\b- \b\b\\ \b\b| \b\b/ \b\b- \b\b\\ \b\b| \b\b/ \b\b- \b\b\\ \b\b| \b\b/ \b\b- \b\b\\ \b\b| \b\b/ \b\b- \b\b\\ \b\b| \b\b/ \b\b- \b\b\\ \b\b| \b\b/ \b\b- \b\b\\ \b\b| \b\b/ \b\b- \b\bdone\n",
            "Solving environment: | \b\b/ \b\b- \b\b\\ \b\b| \b\b/ \b\b- \b\b\\ \b\b| \b\b/ \b\b- \b\b\\ \b\b| \b\b/ \b\b- \b\b\\ \b\b| \b\b/ \b\b- \b\b\\ \b\b| \b\b/ \b\b- \b\b\\ \b\b| \b\b/ \b\b- \b\b\\ \b\b| \b\b/ \b\b- \b\b\\ \b\b| \b\b/ \b\b- \b\b\\ \b\b| \b\b/ \b\b- \b\b\\ \b\b| \b\b/ \b\b- \b\b\\ \b\b| \b\b/ \b\b- \b\b\\ \b\b| \b\b/ \b\b- \b\b\\ \b\b| \b\b/ \b\b- \b\b\\ \b\b| \b\b/ \b\b- \b\b\\ \b\bdone\n",
            "\n",
            "\n",
            "==> WARNING: A newer version of conda exists. <==\n",
            "  current version: 4.8.2\n",
            "  latest version: 4.9.2\n",
            "\n",
            "Please update conda by running\n",
            "\n",
            "    $ conda update -n base -c defaults conda\n",
            "\n",
            "\n",
            "\n",
            "## Package Plan ##\n",
            "\n",
            "  environment location: /usr/local\n",
            "\n",
            "  added / updated specs:\n",
            "    - openmc\n",
            "\n",
            "\n",
            "The following packages will be downloaded:\n",
            "\n",
            "    package                    |            build\n",
            "    ---------------------------|-----------------\n",
            "    _libgcc_mutex-0.1          |      conda_forge           3 KB  conda-forge\n",
            "    _openmp_mutex-4.5          |            1_gnu          22 KB  conda-forge\n",
            "    ca-certificates-2020.12.5  |       ha878542_0         137 KB  conda-forge\n",
            "    cached-property-1.5.1      |             py_0          10 KB  conda-forge\n",
            "    certifi-2020.12.5          |   py37h89c1867_0         143 KB  conda-forge\n",
            "    conda-4.9.2                |   py37h89c1867_0         3.0 MB  conda-forge\n",
            "    cycler-0.10.0              |             py_2           9 KB  conda-forge\n",
            "    freetype-2.10.4            |       h7ca028e_0         912 KB  conda-forge\n",
            "    future-0.18.2              |   py37h89c1867_2         712 KB  conda-forge\n",
            "    h5py-3.1.0                 |nompi_py37h1e651dc_100         1.2 MB  conda-forge\n",
            "    hdf5-1.10.6                |nompi_h3c11f04_101         3.0 MB  conda-forge\n",
            "    icu-64.2                   |       he1b5a44_1        12.6 MB  conda-forge\n",
            "    jpeg-9d                    |       h36c2ea0_0         264 KB  conda-forge\n",
            "    kiwisolver-1.3.1           |   py37hc928c03_0          86 KB  conda-forge\n",
            "    lcms2-2.11                 |       hcbb858e_1         434 KB  conda-forge\n",
            "    libblas-3.9.0              |       3_openblas          11 KB  conda-forge\n",
            "    libcblas-3.9.0             |       3_openblas          11 KB  conda-forge\n",
            "    libgcc-ng-9.3.0            |      h5dbcf3e_17         7.8 MB  conda-forge\n",
            "    libgfortran-ng-7.5.0       |      hae1eefd_17          22 KB  conda-forge\n",
            "    libgfortran4-7.5.0         |      hae1eefd_17         1.3 MB  conda-forge\n",
            "    libgomp-9.3.0              |      h5dbcf3e_17         378 KB  conda-forge\n",
            "    libiconv-1.16              |       h516909a_0         1.4 MB  conda-forge\n",
            "    liblapack-3.9.0            |       3_openblas          11 KB  conda-forge\n",
            "    libopenblas-0.3.12         |pthreads_hb3c22a3_1         8.2 MB  conda-forge\n",
            "    libpng-1.6.37              |       h21135ba_2         306 KB  conda-forge\n",
            "    libtiff-4.1.0              |       h2733197_0         447 KB\n",
            "    libxml2-2.9.10             |       hee79883_0         1.3 MB  conda-forge\n",
            "    libxslt-1.1.33             |       h31b3aaa_0         556 KB  conda-forge\n",
            "    lxml-4.6.2                 |   py37h77fd288_0         1.5 MB  conda-forge\n",
            "    matplotlib-base-3.3.2      |   py37h817c723_0         5.1 MB\n",
            "    numpy-1.19.4               |   py37h7e9df27_1         5.2 MB  conda-forge\n",
            "    olefile-0.46               |     pyh9f0ad1d_1          32 KB  conda-forge\n",
            "    openmc-0.12.0              |   py37heda8c35_1         4.2 MB  conda-forge\n",
            "    openssl-1.1.1h             |       h516909a_0         2.1 MB  conda-forge\n",
            "    pandas-1.0.1               |   py37hb3f55d8_0        11.1 MB  conda-forge\n",
            "    pillow-8.0.1               |   py37he98fc37_0         619 KB\n",
            "    pyparsing-2.4.7            |     pyh9f0ad1d_0          60 KB  conda-forge\n",
            "    python-dateutil-2.8.1      |             py_0         220 KB  conda-forge\n",
            "    python_abi-3.7             |          1_cp37m           4 KB  conda-forge\n",
            "    pytz-2020.4                |     pyhd8ed1ab_0         229 KB  conda-forge\n",
            "    scipy-1.5.3                |   py37h8911b10_0        18.5 MB  conda-forge\n",
            "    tornado-6.1                |   py37h4abf009_0         645 KB  conda-forge\n",
            "    uncertainties-3.1.5        |     pyhd8ed1ab_0          75 KB  conda-forge\n",
            "    zstd-1.3.7                 |       h0b5b093_0         401 KB\n",
            "    ------------------------------------------------------------\n",
            "                                           Total:        94.0 MB\n",
            "\n",
            "The following NEW packages will be INSTALLED:\n",
            "\n",
            "  _openmp_mutex      conda-forge/linux-64::_openmp_mutex-4.5-1_gnu\n",
            "  cached-property    conda-forge/noarch::cached-property-1.5.1-py_0\n",
            "  cycler             conda-forge/noarch::cycler-0.10.0-py_2\n",
            "  freetype           conda-forge/linux-64::freetype-2.10.4-h7ca028e_0\n",
            "  future             conda-forge/linux-64::future-0.18.2-py37h89c1867_2\n",
            "  h5py               conda-forge/linux-64::h5py-3.1.0-nompi_py37h1e651dc_100\n",
            "  hdf5               conda-forge/linux-64::hdf5-1.10.6-nompi_h3c11f04_101\n",
            "  icu                conda-forge/linux-64::icu-64.2-he1b5a44_1\n",
            "  jpeg               conda-forge/linux-64::jpeg-9d-h36c2ea0_0\n",
            "  kiwisolver         conda-forge/linux-64::kiwisolver-1.3.1-py37hc928c03_0\n",
            "  lcms2              conda-forge/linux-64::lcms2-2.11-hcbb858e_1\n",
            "  libblas            conda-forge/linux-64::libblas-3.9.0-3_openblas\n",
            "  libcblas           conda-forge/linux-64::libcblas-3.9.0-3_openblas\n",
            "  libgfortran-ng     conda-forge/linux-64::libgfortran-ng-7.5.0-hae1eefd_17\n",
            "  libgfortran4       conda-forge/linux-64::libgfortran4-7.5.0-hae1eefd_17\n",
            "  libgomp            conda-forge/linux-64::libgomp-9.3.0-h5dbcf3e_17\n",
            "  libiconv           conda-forge/linux-64::libiconv-1.16-h516909a_0\n",
            "  liblapack          conda-forge/linux-64::liblapack-3.9.0-3_openblas\n",
            "  libopenblas        conda-forge/linux-64::libopenblas-0.3.12-pthreads_hb3c22a3_1\n",
            "  libpng             conda-forge/linux-64::libpng-1.6.37-h21135ba_2\n",
            "  libtiff            pkgs/main/linux-64::libtiff-4.1.0-h2733197_0\n",
            "  libxml2            conda-forge/linux-64::libxml2-2.9.10-hee79883_0\n",
            "  libxslt            conda-forge/linux-64::libxslt-1.1.33-h31b3aaa_0\n",
            "  lxml               conda-forge/linux-64::lxml-4.6.2-py37h77fd288_0\n",
            "  matplotlib-base    pkgs/main/linux-64::matplotlib-base-3.3.2-py37h817c723_0\n",
            "  numpy              conda-forge/linux-64::numpy-1.19.4-py37h7e9df27_1\n",
            "  olefile            conda-forge/noarch::olefile-0.46-pyh9f0ad1d_1\n",
            "  openmc             conda-forge/linux-64::openmc-0.12.0-py37heda8c35_1\n",
            "  pandas             conda-forge/linux-64::pandas-1.0.1-py37hb3f55d8_0\n",
            "  pillow             pkgs/main/linux-64::pillow-8.0.1-py37he98fc37_0\n",
            "  pyparsing          conda-forge/noarch::pyparsing-2.4.7-pyh9f0ad1d_0\n",
            "  python-dateutil    conda-forge/noarch::python-dateutil-2.8.1-py_0\n",
            "  python_abi         conda-forge/linux-64::python_abi-3.7-1_cp37m\n",
            "  pytz               conda-forge/noarch::pytz-2020.4-pyhd8ed1ab_0\n",
            "  scipy              conda-forge/linux-64::scipy-1.5.3-py37h8911b10_0\n",
            "  tornado            conda-forge/linux-64::tornado-6.1-py37h4abf009_0\n",
            "  uncertainties      conda-forge/noarch::uncertainties-3.1.5-pyhd8ed1ab_0\n",
            "  zstd               pkgs/main/linux-64::zstd-1.3.7-h0b5b093_0\n",
            "\n",
            "The following packages will be UPDATED:\n",
            "\n",
            "  ca-certificates     pkgs/main::ca-certificates-2020.1.1-0 --> conda-forge::ca-certificates-2020.12.5-ha878542_0\n",
            "  certifi              pkgs/main::certifi-2019.11.28-py37_0 --> conda-forge::certifi-2020.12.5-py37h89c1867_0\n",
            "  conda                       pkgs/main::conda-4.8.2-py37_0 --> conda-forge::conda-4.9.2-py37h89c1867_0\n",
            "  libgcc-ng           pkgs/main::libgcc-ng-9.1.0-hdf63c60_0 --> conda-forge::libgcc-ng-9.3.0-h5dbcf3e_17\n",
            "  openssl              pkgs/main::openssl-1.1.1d-h7b6447c_4 --> conda-forge::openssl-1.1.1h-h516909a_0\n",
            "\n",
            "The following packages will be SUPERSEDED by a higher-priority channel:\n",
            "\n",
            "  _libgcc_mutex           pkgs/main::_libgcc_mutex-0.1-main --> conda-forge::_libgcc_mutex-0.1-conda_forge\n",
            "\n",
            "\n",
            "\n",
            "Downloading and Extracting Packages\n",
            "tornado-6.1          | 645 KB    | : 100% 1.0/1 [00:00<00:00,  4.85s/it]                 \n",
            "libgfortran4-7.5.0   | 1.3 MB    | : 100% 1.0/1 [00:00<00:00,  2.55it/s]\n",
            "libcblas-3.9.0       | 11 KB     | : 100% 1.0/1 [00:00<00:00, 21.06it/s]\n",
            "ca-certificates-2020 | 137 KB    | : 100% 1.0/1 [00:00<00:00, 14.84it/s]\n",
            "hdf5-1.10.6          | 3.0 MB    | : 100% 1.0/1 [00:00<00:00,  1.64it/s]\n",
            "libgomp-9.3.0        | 378 KB    | : 100% 1.0/1 [00:00<00:00,  9.75it/s]\n",
            "pillow-8.0.1         | 619 KB    | : 100% 1.0/1 [00:00<00:00,  1.32it/s]               \n",
            "h5py-3.1.0           | 1.2 MB    | : 100% 1.0/1 [00:00<00:00,  2.92it/s]\n",
            "openssl-1.1.1h       | 2.1 MB    | : 100% 1.0/1 [00:00<00:00,  2.26it/s]\n",
            "jpeg-9d              | 264 KB    | : 100% 1.0/1 [00:00<00:00,  8.28it/s]\n",
            "pandas-1.0.1         | 11.1 MB   | : 100% 1.0/1 [00:03<00:00,  2.53s/it]               \n",
            "future-0.18.2        | 712 KB    | : 100% 1.0/1 [00:00<00:00,  3.69it/s]\n",
            "numpy-1.19.4         | 5.2 MB    | : 100% 1.0/1 [00:01<00:00,  1.49s/it]\n",
            "libblas-3.9.0        | 11 KB     | : 100% 1.0/1 [00:00<00:00, 23.49it/s]\n",
            "openmc-0.12.0        | 4.2 MB    | : 100% 1.0/1 [00:01<00:00,  1.17s/it]\n",
            "cached-property-1.5. | 10 KB     | : 100% 1.0/1 [00:00<00:00, 18.71it/s]\n",
            "libgfortran-ng-7.5.0 | 22 KB     | : 100% 1.0/1 [00:00<00:00, 19.50it/s]\n",
            "python-dateutil-2.8. | 220 KB    | : 100% 1.0/1 [00:00<00:00, 11.89it/s]\n",
            "freetype-2.10.4      | 912 KB    | : 100% 1.0/1 [00:00<00:00,  3.74it/s]\n",
            "certifi-2020.12.5    | 143 KB    | : 100% 1.0/1 [00:00<00:00, 18.42it/s]\n",
            "lxml-4.6.2           | 1.5 MB    | : 100% 1.0/1 [00:00<00:00,  2.71it/s]\n",
            "olefile-0.46         | 32 KB     | : 100% 1.0/1 [00:00<00:00, 17.01it/s]\n",
            "kiwisolver-1.3.1     | 86 KB     | : 100% 1.0/1 [00:00<00:00, 18.15it/s]\n",
            "libiconv-1.16        | 1.4 MB    | : 100% 1.0/1 [00:00<00:00,  4.16it/s]\n",
            "zstd-1.3.7           | 401 KB    | : 100% 1.0/1 [00:00<00:00, 10.69it/s]\n",
            "python_abi-3.7       | 4 KB      | : 100% 1.0/1 [00:00<00:00, 23.06it/s]\n",
            "liblapack-3.9.0      | 11 KB     | : 100% 1.0/1 [00:00<00:00, 21.96it/s]\n",
            "pytz-2020.4          | 229 KB    | : 100% 1.0/1 [00:00<00:00,  6.96it/s]\n",
            "scipy-1.5.3          | 18.5 MB   | : 100% 1.0/1 [00:04<00:00,  4.37s/it]               \n",
            "cycler-0.10.0        | 9 KB      | : 100% 1.0/1 [00:00<00:00, 18.26it/s]\n",
            "libtiff-4.1.0        | 447 KB    | : 100% 1.0/1 [00:00<00:00, 11.83it/s]\n",
            "_libgcc_mutex-0.1    | 3 KB      | : 100% 1.0/1 [00:00<00:00, 28.42it/s]\n",
            "icu-64.2             | 12.6 MB   | : 100% 1.0/1 [00:04<00:00,  4.05s/it]               \n",
            "conda-4.9.2          | 3.0 MB    | : 100% 1.0/1 [00:00<00:00,  1.27it/s]\n",
            "lcms2-2.11           | 434 KB    | : 100% 1.0/1 [00:00<00:00,  8.68it/s]\n",
            "libgcc-ng-9.3.0      | 7.8 MB    | : 100% 1.0/1 [00:01<00:00,  1.53s/it]               \n",
            "libopenblas-0.3.12   | 8.2 MB    | : 100% 1.0/1 [00:01<00:00,  2.30s/it]               \n",
            "pyparsing-2.4.7      | 60 KB     | : 100% 1.0/1 [00:00<00:00, 19.55it/s]\n",
            "libpng-1.6.37        | 306 KB    | : 100% 1.0/1 [00:00<00:00,  8.66it/s]\n",
            "libxslt-1.1.33       | 556 KB    | : 100% 1.0/1 [00:00<00:00,  4.49it/s]\n",
            "libxml2-2.9.10       | 1.3 MB    | : 100% 1.0/1 [00:00<00:00,  2.13it/s]\n",
            "matplotlib-base-3.3. | 5.1 MB    | : 100% 1.0/1 [00:00<00:00,  3.61it/s]               \n",
            "_openmp_mutex-4.5    | 22 KB     | : 100% 1.0/1 [00:00<00:00, 23.63it/s]\n",
            "uncertainties-3.1.5  | 75 KB     | : 100% 1.0/1 [00:00<00:00, 17.26it/s]\n",
            "Preparing transaction: / \b\b- \b\b\\ \b\b| \b\bdone\n",
            "Verifying transaction: - \b\b\\ \b\b| \b\b/ \b\b- \b\b\\ \b\b| \b\b/ \b\b- \b\b\\ \b\bdone\n",
            "Executing transaction: / \b\b- \b\b\\ \b\b| \b\b/ \b\b- \b\b\\ \b\b| \b\b/ \b\b- \b\b\\ \b\b| \b\b/ \b\b- \b\bdone\n"
          ],
          "name": "stdout"
        }
      ]
    },
    {
      "cell_type": "code",
      "metadata": {
        "id": "BpmPdBBHTz2E"
      },
      "source": [
        "import openmc"
      ],
      "execution_count": 9,
      "outputs": []
    },
    {
      "cell_type": "code",
      "metadata": {
        "id": "xrSgUGWRTz65"
      },
      "source": [
        "%matplotlib inline"
      ],
      "execution_count": 10,
      "outputs": []
    },
    {
      "cell_type": "code",
      "metadata": {
        "id": "fZXp2uZfW7FU"
      },
      "source": [
        "#I will building a mini vver pin-cell. "
      ],
      "execution_count": null,
      "outputs": []
    },
    {
      "cell_type": "markdown",
      "metadata": {
        "id": "cUAewNSWaJOH"
      },
      "source": [
        "This week tasks"
      ]
    },
    {
      "cell_type": "code",
      "metadata": {
        "id": "QSUBW-m-W7kr",
        "colab": {
          "base_uri": "https://localhost:8080/",
          "height": 157
        },
        "outputId": "4659ede0-8142-4bd4-c99b-34b475a0137e"
      },
      "source": [
        "\"\"\" \n",
        " \n",
        "Use the openmc.model.pin function (https://docs.openmc.org/en/latest/pythonapi/generated/openmc.model.pin.html?highlight=openmc.model#openmc-model-pin)\n",
        "Use the openmc.model.hex_prism or rect_prism functions when applicable\n",
        "Use the borated water function (even if you need to set boron to 0ppm, this function will automatically lookup water properties for the temperature you give it)\n",
        "Clean you your models of pins and assemblies (or small cores), and identify places to simplify the input\n",
        " \n",
        "And here is a list of simpler functions that we can start working  on:\n",
        " \n",
        "Add Gd2O3 calculations to the uranium enrichment function (we can also add Erbium, Dysprosium , …)\n",
        "Add models for IFBA, WABA, …\n",
        "Add pre-defined structural materials\n",
        "Create/use the lattice acceleration method for non-TRISO geometries (TRIGA and RBMK)\n",
        "Use CMFD for non Cartesian geometries\n",
        "Function to create circular lattices like RBMK, CANDU\n",
        "Function to create a BWR box with thin/thick geometry\n",
        "Function to position control rod height\n",
        "Function to create tallies for breeding ratio, fissile inventory ratio\n",
        "Functions for thermodynamic properties of other coolants (Sodium, He, Heavy water, …)\n",
        "\"\"\""
      ],
      "execution_count": null,
      "outputs": [
        {
          "output_type": "execute_result",
          "data": {
            "application/vnd.google.colaboratory.intrinsic+json": {
              "type": "string"
            },
            "text/plain": [
              "' \\n \\nUse the openmc.model.pin function (https://docs.openmc.org/en/latest/pythonapi/generated/openmc.model.pin.html?highlight=openmc.model#openmc-model-pin)\\nUse the openmc.model.hex_prism or rect_prism functions when applicable\\nUse the borated water function (even if you need to set boron to 0ppm, this function will automatically lookup water properties for the temperature you give it)\\nClean you your models of pins and assemblies (or small cores), and identify places to simplify the input\\n \\nAnd here is a list of simpler functions that we can start working  on:\\n \\nAdd Gd2O3 calculations to the uranium enrichment function (we can also add Erbium, Dysprosium , …)\\nAdd models for IFBA, WABA, …\\nAdd pre-defined structural materials\\nCreate/use the lattice acceleration method for non-TRISO geometries (TRIGA and RBMK)\\nUse CMFD for non Cartesian geometries\\nFunction to create circular lattices like RBMK, CANDU\\nFunction to create a BWR box with thin/thick geometry\\nFunction to position control rod height\\nFunction to create tallies for breeding ratio, fissile inventory ratio\\nFunctions for thermodynamic properties of other coolants (Sodium, He, Heavy water, …)\\n'"
            ]
          },
          "metadata": {
            "tags": []
          },
          "execution_count": 9
        }
      ]
    },
    {
      "cell_type": "markdown",
      "metadata": {
        "id": "si3Z6zOqaWKs"
      },
      "source": [
        "VVER sheet"
      ]
    },
    {
      "cell_type": "code",
      "metadata": {
        "id": "TBEO1_TrW7up",
        "colab": {
          "base_uri": "https://localhost:8080/"
        },
        "outputId": "f6c529e7-05aa-4e22-de7a-2d2ffc9c9421"
      },
      "source": [
        "# defining materials for 4 types of pincells. \n",
        "#fuells\n",
        "au13=openmc.Material(name='13au',material_id=1)\n",
        "au13.add_element('U',1.0,enrichment=1.3)\n",
        "au13.add_element('O',2.0)\n",
        "au13.set_density('g/cc', 10.4)\n",
        "\n",
        "au22=openmc.Material(name='13au',material_id=2)\n",
        "au22.add_element('U',1.0,enrichment=2.2)\n",
        "au22.add_element('O',2.0)\n",
        "au22.set_density('g/cc', 10.4)\n",
        "\n",
        "av5=openmc.Material(name='30av5u',material_id=3)\n",
        "av5.add_element('U',1.0,enrichment=3.0)\n",
        "av5.add_element('O',2.0)\n",
        "av5.set_density('g/cc', 10.4)\n",
        "\n",
        "awu=openmc.Material(name='39awu',material_id=4)\n",
        "awu.add_element('U',1.0,enrichment=3.3)\n",
        "awu.add_element('O',2.0)\n",
        "awu.set_density('g/cc', 10.4)\n",
        "\n",
        "go=openmc.Material(name='390go',material_id=5)\n",
        "go.add_element('U',1.0,enrichment=4.0)\n",
        "go.add_element('O',2.0)\n",
        "go.set_density('g/cc', 10.4)\n",
        "\n",
        "Gd2O3=openmc.Material(name='Gd2O3',material_id=6)\n",
        "Gd2O3.add_element('Gd',2.0)#>>>? Gd153\n",
        "Gd2O3.add_element('O',3.0)\n",
        "Gd2O3.set_density('g/cm3',7.41)\n",
        "#moderator\n",
        "water = openmc.Material(name='water',material_id=7)\n",
        "water.add_nuclide('H1', 2.0)\n",
        "water.add_nuclide('O16', 1.0)\n",
        "water.set_density('g/cm3', 1.0)\n",
        "water.add_s_alpha_beta('c_H_in_H2O')\n",
        "#clad\n",
        "zirconium = openmc.Material(name=\"zirconium\",material_id=8)\n",
        "zirconium.add_element('Zr', 1.0)\n",
        "zirconium.set_density('g/cm3', 6.6)\n",
        "\n",
        "niobium=openmc.Material(name='niobium',material_id=9)\n",
        "niobium.add_element('Nb',1.0)\n",
        "niobium.set_density('g/cm3',8.57)\n",
        "#gap\n",
        "helium=openmc.Material(name='Helium',material_id=10)\n",
        "helium.add_element('He',1.0)\n",
        "helium.set_density('g/cm3',0.178*10**(-3))\n",
        "# for thermal data\n",
        "vapor_mat = openmc.Material(material_id=11)\n",
        "vapor_mat.add_nuclide('Na23',1.0)\n",
        "vapor_mat.set_density('g/cm3',0.10)\n",
        "\n",
        "#reflector\n",
        "reflector_mat = openmc.Material(material_id=12)\n",
        "reflector_mat.add_nuclide('Be9',1.0)\n",
        "reflector_mat.add_nuclide('O16',1.0)\n",
        "reflector_mat.set_density('g/cm3',2.9)"
      ],
      "execution_count": 38,
      "outputs": [
        {
          "output_type": "stream",
          "text": [
            "/usr/local/lib/python3.7/site-packages/openmc/mixin.py:68: IDWarning: Another Material instance already exists with id=1.\n",
            "  warn(msg, IDWarning)\n",
            "/usr/local/lib/python3.7/site-packages/openmc/mixin.py:68: IDWarning: Another Material instance already exists with id=2.\n",
            "  warn(msg, IDWarning)\n",
            "/usr/local/lib/python3.7/site-packages/openmc/mixin.py:68: IDWarning: Another Material instance already exists with id=3.\n",
            "  warn(msg, IDWarning)\n",
            "/usr/local/lib/python3.7/site-packages/openmc/mixin.py:68: IDWarning: Another Material instance already exists with id=4.\n",
            "  warn(msg, IDWarning)\n",
            "/usr/local/lib/python3.7/site-packages/openmc/mixin.py:68: IDWarning: Another Material instance already exists with id=5.\n",
            "  warn(msg, IDWarning)\n",
            "/usr/local/lib/python3.7/site-packages/openmc/mixin.py:68: IDWarning: Another Material instance already exists with id=6.\n",
            "  warn(msg, IDWarning)\n",
            "/usr/local/lib/python3.7/site-packages/openmc/mixin.py:68: IDWarning: Another Material instance already exists with id=7.\n",
            "  warn(msg, IDWarning)\n",
            "/usr/local/lib/python3.7/site-packages/openmc/mixin.py:68: IDWarning: Another Material instance already exists with id=8.\n",
            "  warn(msg, IDWarning)\n",
            "/usr/local/lib/python3.7/site-packages/openmc/mixin.py:68: IDWarning: Another Material instance already exists with id=9.\n",
            "  warn(msg, IDWarning)\n",
            "/usr/local/lib/python3.7/site-packages/openmc/mixin.py:68: IDWarning: Another Material instance already exists with id=10.\n",
            "  warn(msg, IDWarning)\n",
            "/usr/local/lib/python3.7/site-packages/openmc/mixin.py:68: IDWarning: Another Material instance already exists with id=11.\n",
            "  warn(msg, IDWarning)\n",
            "/usr/local/lib/python3.7/site-packages/openmc/mixin.py:68: IDWarning: Another Material instance already exists with id=12.\n",
            "  warn(msg, IDWarning)\n"
          ],
          "name": "stderr"
        }
      ]
    },
    {
      "cell_type": "code",
      "metadata": {
        "id": "-VU_fMs2W751"
      },
      "source": [
        "#preparing mixtures\n",
        "alloy=openmc.Material.mix_materials([niobium, zirconium],[0.01, 0.99],'wo')\n",
        "fuel_awu = openmc.Material.mix_materials([Gd2O3, awu], [0.05, 0.95], 'wo')\n",
        "fuel_go = openmc.Material.mix_materials([Gd2O3, go], [0.05, 0.95], 'wo')"
      ],
      "execution_count": 39,
      "outputs": []
    },
    {
      "cell_type": "code",
      "metadata": {
        "id": "116XndltahRq"
      },
      "source": [
        "# Instantiate a Materials collection\n",
        "materials_file = openmc.Materials([au13, au22, av5, fuel_awu, fuel_go, water, alloy, vapor_mat, reflector_mat])\n",
        "\n",
        "# Export to \"materials.xml\"\n",
        "materials_file.export_to_xml()"
      ],
      "execution_count": 40,
      "outputs": []
    },
    {
      "cell_type": "code",
      "metadata": {
        "id": "htyVmeh8ahca",
        "colab": {
          "base_uri": "https://localhost:8080/"
        },
        "outputId": "20ecf082-9e37-4dc4-f987-cd42a1948e1c"
      },
      "source": [
        "# Designing General Geometry\n",
        "\n",
        "# boudries and outer universe\n",
        "#outer_water=openmc.Cell(fill=water)\n",
        "all_water_out=openmc.Cell(cell_id=200,fill=water)\n",
        "\n",
        "# top & bottom of the assembly \n",
        "assembly_z0 = openmc.ZPlane(surface_id=300,z0=-75)\n",
        "assembly_z1 = openmc.ZPlane(surface_id=301, z0=75)\n",
        "assembly = openmc.model.hexagonal_prism(edge_length=18, orientation='y')\n",
        "# top & bottom of the reflector\n",
        "reflector_z0 = openmc.ZPlane(surface_id=303,z0=-95, boundary_type='vacuum')\n",
        "reflector_z1 = openmc.ZPlane(surface_id=304,z0=95, boundary_type='vacuum')\n",
        "\n",
        "# reflector hexagon\n",
        "reflector = openmc.model.hexagonal_prism(edge_length=18, orientation='y',\n",
        "    boundary_type='vacuum')\n",
        "# others\n",
        "fuel_or = openmc.ZCylinder(surface_id=305,r=0.3765)\n",
        "clad_ir = openmc.ZCylinder(surface_id=306,r=0.4)# ~0.02 cm gap >> supposedly helium\n",
        "clad_or = openmc.ZCylinder(surface_id=307,r=0.465)\n",
        "mod_region=openmc.ZCylinder(r=0.55)\n",
        "# mod_hexagonal= openmc.model.hexagonal_prism(edge_length=0.55, orientation='y',boundary_type='vacuum')#>>>?\n",
        "#mod=openmc.ZCylinder(r=0.55)\n",
        "fuel_region = -fuel_or & -assembly_z1 & +assembly_z0\n",
        "gap_region = +fuel_or & -clad_ir & -assembly_z1 & +assembly_z0\n",
        "clad_region = +clad_ir & -clad_or & -assembly_z1 & +assembly_z0\n",
        "moderator_region= -mod_region & +clad_or & -assembly_z1 & +assembly_z0\n",
        "\n",
        "gap_cell=openmc.Cell(cell_id=400, region=gap_region)\n",
        "cladcell=openmc.Cell(cell_id=401,fill=alloy, region=clad_region)\n",
        "water_cell=openmc.Cell(cell_id=402,fill=water, region=moderator_region)\n",
        "\n",
        "\n",
        "assembly_cell = openmc.Cell()\n",
        "reflect_cell = openmc.Cell()\n",
        "top_reflect_cell = openmc.Cell()\n",
        "bot_reflect_cell = openmc.Cell()\n"
      ],
      "execution_count": 55,
      "outputs": [
        {
          "output_type": "stream",
          "text": [
            "/usr/local/lib/python3.7/site-packages/openmc/mixin.py:68: IDWarning: Another Cell instance already exists with id=200.\n",
            "  warn(msg, IDWarning)\n",
            "/usr/local/lib/python3.7/site-packages/openmc/mixin.py:68: IDWarning: Another Surface instance already exists with id=300.\n",
            "  warn(msg, IDWarning)\n",
            "/usr/local/lib/python3.7/site-packages/openmc/mixin.py:68: IDWarning: Another Surface instance already exists with id=301.\n",
            "  warn(msg, IDWarning)\n",
            "/usr/local/lib/python3.7/site-packages/openmc/mixin.py:68: IDWarning: Another Surface instance already exists with id=303.\n",
            "  warn(msg, IDWarning)\n",
            "/usr/local/lib/python3.7/site-packages/openmc/mixin.py:68: IDWarning: Another Surface instance already exists with id=304.\n",
            "  warn(msg, IDWarning)\n",
            "/usr/local/lib/python3.7/site-packages/openmc/mixin.py:68: IDWarning: Another Surface instance already exists with id=305.\n",
            "  warn(msg, IDWarning)\n",
            "/usr/local/lib/python3.7/site-packages/openmc/mixin.py:68: IDWarning: Another Surface instance already exists with id=306.\n",
            "  warn(msg, IDWarning)\n",
            "/usr/local/lib/python3.7/site-packages/openmc/mixin.py:68: IDWarning: Another Surface instance already exists with id=307.\n",
            "  warn(msg, IDWarning)\n",
            "/usr/local/lib/python3.7/site-packages/openmc/mixin.py:68: IDWarning: Another Cell instance already exists with id=400.\n",
            "  warn(msg, IDWarning)\n",
            "/usr/local/lib/python3.7/site-packages/openmc/mixin.py:68: IDWarning: Another Cell instance already exists with id=401.\n",
            "  warn(msg, IDWarning)\n",
            "/usr/local/lib/python3.7/site-packages/openmc/mixin.py:68: IDWarning: Another Cell instance already exists with id=402.\n",
            "  warn(msg, IDWarning)\n"
          ],
          "name": "stderr"
        }
      ]
    },
    {
      "cell_type": "code",
      "metadata": {
        "id": "ku5Yp2wzyXTg"
      },
      "source": [
        "\n",
        "#regions\n",
        "\n",
        "assembly_cell.region = assembly & -assembly_z1 & +assembly_z0\n",
        "\n",
        "reflect_cell.region = ~assembly & reflector \\\n",
        "& -assembly_z1 & +assembly_z0\n",
        "\n",
        "top_reflect_cell.region = reflector & +assembly_z1 & -reflector_z1 \\\n",
        "\n",
        "bot_reflect_cell.region = reflector & -assembly_z0 & +reflector_z0 \\\n",
        "#pie fillings\n",
        "\n",
        "reflect_cell.fill = reflector_mat\n",
        "top_reflect_cell.fill = reflector_mat\n",
        "bot_reflect_cell.fill = reflector_mat\n",
        "\n",
        "#turn cell to universe to make it easier\n",
        "all_water_out_u=openmc.Universe(cells=[all_water_out])\n",
        "u_reflect = openmc.Universe(cells=(reflect_cell,top_reflect_cell,bot_reflect_cell))\n",
        "u_root = openmc.Universe()\n"
      ],
      "execution_count": 56,
      "outputs": []
    },
    {
      "cell_type": "code",
      "metadata": {
        "id": "Sl9zZQjpahiO",
        "colab": {
          "base_uri": "https://localhost:8080/",
          "height": 286
        },
        "outputId": "dbbad02d-0f40-4689-fdb7-af90e0b60b53"
      },
      "source": [
        "# centeral tube >> water\n",
        "centeral_tube= openmc.Cell(fill=water,region=fuel_region)\n",
        "centeral_tube_u=openmc.Universe(cells=[centeral_tube,gap_cell,cladcell])\n",
        "geom=openmc.Geometry(centeral_tube_u)\n",
        "geom.export_to_xml()\n",
        "centeral_tube_u.plot(width=(3,3))"
      ],
      "execution_count": 57,
      "outputs": [
        {
          "output_type": "execute_result",
          "data": {
            "text/plain": [
              "<matplotlib.image.AxesImage at 0x7f58d1559160>"
            ]
          },
          "metadata": {
            "tags": []
          },
          "execution_count": 57
        },
        {
          "output_type": "display_data",
          "data": {
            "image/png": "[encoded data removed]",
            "text/plain": [
              "<Figure size 432x288 with 1 Axes>"
            ]
          },
          "metadata": {
            "tags": [],
            "needs_background": "light"
          }
        }
      ]
    },
    {
      "cell_type": "code",
      "metadata": {
        "id": "s9WlvAAxahlm",
        "colab": {
          "base_uri": "https://localhost:8080/",
          "height": 286
        },
        "outputId": "172bc8df-6006-44b8-e8e1-41142ef675ea"
      },
      "source": [
        "# geometry of 13 au\n",
        "au13_fuel_cell=openmc.Cell(fill=au13, region=fuel_region)\n",
        "au13_u=openmc.Universe(cells=(au13_fuel_cell, gap_cell, cladcell, water_cell))\n",
        "\n",
        "geom=openmc.Geometry(au13_u)\n",
        "geom.export_to_xml()\n",
        "\n",
        "\n",
        "au13_u.plot(width=(3,3))"
      ],
      "execution_count": 58,
      "outputs": [
        {
          "output_type": "execute_result",
          "data": {
            "text/plain": [
              "<matplotlib.image.AxesImage at 0x7f58d1529c50>"
            ]
          },
          "metadata": {
            "tags": []
          },
          "execution_count": 58
        },
        {
          "output_type": "display_data",
          "data": {
            "image/png": "[encoded data removed]",
            "text/plain": [
              "<Figure size 432x288 with 1 Axes>"
            ]
          },
          "metadata": {
            "tags": [],
            "needs_background": "light"
          }
        }
      ]
    },
    {
      "cell_type": "code",
      "metadata": {
        "id": "WNVVIWsVX7ZC"
      },
      "source": [
        "#######################\n",
        "# Run Settings\n",
        "######################\n",
        "\n",
        "uniform_dist = openmc.stats.Box([-24,-24,-75],[24,24,75],only_fissionable=True)\n",
        "\n",
        "settings = openmc.Settings()\n",
        "settings.seed = 1\n",
        "settings.batches = 200\n",
        "settings.inactive = 100\n",
        "settings.particles = 100\n",
        "settings.source = openmc.source.Source(space=uniform_dist)\n",
        "settings.export_to_xml()\n"
      ],
      "execution_count": 71,
      "outputs": []
    },
    {
      "cell_type": "code",
      "metadata": {
        "colab": {
          "base_uri": "https://localhost:8080/",
          "height": 1000
        },
        "id": "5zkcuQLqYACu",
        "outputId": "885e4465-f684-4e59-a707-557b7f5062a2"
      },
      "source": [
        "openmc.run()"
      ],
      "execution_count": 72,
      "outputs": [
        {
          "output_type": "stream",
          "text": [
            "                                %%%%%%%%%%%%%%%\n",
            "                           %%%%%%%%%%%%%%%%%%%%%%%%\n",
            "                        %%%%%%%%%%%%%%%%%%%%%%%%%%%%%%\n",
            "                      %%%%%%%%%%%%%%%%%%%%%%%%%%%%%%%%%%\n",
            "                    %%%%%%%%%%%%%%%%%%%%%%%%%%%%%%%%%%%%%%\n",
            "                   %%%%%%%%%%%%%%%%%%%%%%%%%%%%%%%%%%%%%%%%\n",
            "                                    %%%%%%%%%%%%%%%%%%%%%%%%\n",
            "                                     %%%%%%%%%%%%%%%%%%%%%%%%\n",
            "                 ###############      %%%%%%%%%%%%%%%%%%%%%%%%\n",
            "                ##################     %%%%%%%%%%%%%%%%%%%%%%%\n",
            "                ###################     %%%%%%%%%%%%%%%%%%%%%%%\n",
            "                ####################     %%%%%%%%%%%%%%%%%%%%%%\n",
            "                #####################     %%%%%%%%%%%%%%%%%%%%%\n",
            "                ######################     %%%%%%%%%%%%%%%%%%%%\n",
            "                #######################     %%%%%%%%%%%%%%%%%%\n",
            "                 #######################     %%%%%%%%%%%%%%%%%\n",
            "                 ######################     %%%%%%%%%%%%%%%%%\n",
            "                  ####################     %%%%%%%%%%%%%%%%%\n",
            "                    #################     %%%%%%%%%%%%%%%%%\n",
            "                     ###############     %%%%%%%%%%%%%%%%\n",
            "                       ############     %%%%%%%%%%%%%%%\n",
            "                          ########     %%%%%%%%%%%%%%\n",
            "                                      %%%%%%%%%%%\n",
            "\n",
            "                   | The OpenMC Monte Carlo Code\n",
            "         Copyright | 2011-2020 MIT and OpenMC contributors\n",
            "           License | https://docs.openmc.org/en/latest/license.html\n",
            "           Version | 0.12.0\n",
            "          Git SHA1 | 599a722a542ede426c3f1390a88ddb4e4e0045d3\n",
            "         Date/Time | 2020-12-10 20:35:41\n",
            "    OpenMP Threads | 2\n",
            "\n",
            " Reading settings XML file...\n",
            " Reading cross sections XML file...\n",
            " Reading materials XML file...\n",
            " Reading geometry XML file...\n",
            " Reading U234 from /gdrive/My Drive/data/endfb71_hdf5/U234.h5\n",
            " Reading U235 from /gdrive/My Drive/data/endfb71_hdf5/U235.h5\n",
            " Reading U238 from /gdrive/My Drive/data/endfb71_hdf5/U238.h5\n",
            " Reading U236 from /gdrive/My Drive/data/endfb71_hdf5/U236.h5\n",
            " Reading O16 from /gdrive/My Drive/data/endfb71_hdf5/O16.h5\n",
            " Reading O17 from /gdrive/My Drive/data/endfb71_hdf5/O17.h5\n",
            " Reading H1 from /gdrive/My Drive/data/endfb71_hdf5/H1.h5\n",
            " Reading Na23 from /gdrive/My Drive/data/endfb71_hdf5/Na23.h5\n",
            " Reading Be9 from /gdrive/My Drive/data/endfb71_hdf5/Be9.h5\n",
            " Reading Nb93 from /gdrive/My Drive/data/endfb71_hdf5/Nb93.h5\n",
            " Reading Zr90 from /gdrive/My Drive/data/endfb71_hdf5/Zr90.h5\n",
            " Reading Zr91 from /gdrive/My Drive/data/endfb71_hdf5/Zr91.h5\n",
            " Reading Zr92 from /gdrive/My Drive/data/endfb71_hdf5/Zr92.h5\n",
            " Reading Zr94 from /gdrive/My Drive/data/endfb71_hdf5/Zr94.h5\n",
            " Reading Zr96 from /gdrive/My Drive/data/endfb71_hdf5/Zr96.h5\n",
            " Reading Gd152 from /gdrive/My Drive/data/endfb71_hdf5/Gd152.h5\n",
            " Reading Gd154 from /gdrive/My Drive/data/endfb71_hdf5/Gd154.h5\n",
            " Reading Gd155 from /gdrive/My Drive/data/endfb71_hdf5/Gd155.h5\n",
            " Reading Gd156 from /gdrive/My Drive/data/endfb71_hdf5/Gd156.h5\n",
            " Reading Gd157 from /gdrive/My Drive/data/endfb71_hdf5/Gd157.h5\n",
            " Reading Gd158 from /gdrive/My Drive/data/endfb71_hdf5/Gd158.h5\n",
            " Reading Gd160 from /gdrive/My Drive/data/endfb71_hdf5/Gd160.h5\n",
            " Reading c_H_in_H2O from /gdrive/My Drive/data/endfb71_hdf5/c_H_in_H2O.h5\n",
            " Minimum neutron data temperature: 294.000000 K\n",
            " Maximum neutron data temperature: 294.000000 K\n",
            " Preparing distributed cell instances...\n",
            " Writing summary.h5 file...\n",
            " Maximum neutron transport energy: 20000000.000000 eV for U235\n",
            " Initializing source particles...\n",
            "\n",
            " ====================>     K EIGENVALUE SIMULATION     <====================\n",
            "\n",
            "  Bat./Gen.      k            Average k\n",
            "  =========   ========   ====================\n",
            " WARNING: After particle 1 crossed surface 305 it could not be located in any\n",
            "          cell and it did not leak.\n",
            " WARNING: After particle 51 crossed surface 305 it could not be located in any\n",
            "          cell and it did not leak.\n",
            " WARNING: After particle 2 crossed surface 305 it could not be located in any\n",
            "          cell and it did not leak.\n",
            " WARNING: After particle 52 crossed surface 305 it could not be located in any\n",
            "          cell and it did not leak.\n",
            " WARNING: After particle 3 crossed surface 305 it could not be located in any\n",
            "          cell and it did not leak.\n",
            " WARNING: After particle 53 crossed surface 305 it could not be located in any\n",
            "          cell and it did not leak.\n",
            " WARNING: After particle 4 crossed surface 305 it could not be located in any\n",
            "          cell and it did not leak.\n",
            " WARNING: After particle 54 crossed surface 305 it could not be located in any\n",
            "          cell and it did not leak.\n",
            " WARNING: After particle 5 crossed surface 305 it could not be located in any\n",
            "          cell and it did not leak.\n",
            " WARNING: After particle 6 crossed surface 305 it could not be located in any\n",
            "          cell and it did not leak.\n",
            " WARNING: After particle 7 crossed surface 305 it could not be located in any\n",
            "          cell and it did not leak.\n",
            " ERROR: Maximum number of lost particles has been reached.\n",
            " ERROR: Maximum number of lost particles has been reached.\n"
          ],
          "name": "stdout"
        },
        {
          "output_type": "error",
          "ename": "CalledProcessError",
          "evalue": "ignored",
          "traceback": [
            "\u001b[0;31m---------------------------------------------------------------------------\u001b[0m",
            "\u001b[0;31mCalledProcessError\u001b[0m                        Traceback (most recent call last)",
            "\u001b[0;32m<ipython-input-72-b3992cdbc7fa>\u001b[0m in \u001b[0;36m<module>\u001b[0;34m()\u001b[0m\n\u001b[0;32m----> 1\u001b[0;31m \u001b[0mopenmc\u001b[0m\u001b[0;34m.\u001b[0m\u001b[0mrun\u001b[0m\u001b[0;34m(\u001b[0m\u001b[0;34m)\u001b[0m\u001b[0;34m\u001b[0m\u001b[0;34m\u001b[0m\u001b[0m\n\u001b[0m",
            "\u001b[0;32m/usr/local/lib/python3.7/site-packages/openmc/executor.py\u001b[0m in \u001b[0;36mrun\u001b[0;34m(particles, threads, geometry_debug, restart_file, tracks, output, cwd, openmc_exec, mpi_args, event_based)\u001b[0m\n\u001b[1;32m    216\u001b[0m         \u001b[0margs\u001b[0m \u001b[0;34m=\u001b[0m \u001b[0mmpi_args\u001b[0m \u001b[0;34m+\u001b[0m \u001b[0margs\u001b[0m\u001b[0;34m\u001b[0m\u001b[0;34m\u001b[0m\u001b[0m\n\u001b[1;32m    217\u001b[0m \u001b[0;34m\u001b[0m\u001b[0m\n\u001b[0;32m--> 218\u001b[0;31m     \u001b[0m_run\u001b[0m\u001b[0;34m(\u001b[0m\u001b[0margs\u001b[0m\u001b[0;34m,\u001b[0m \u001b[0moutput\u001b[0m\u001b[0;34m,\u001b[0m \u001b[0mcwd\u001b[0m\u001b[0;34m)\u001b[0m\u001b[0;34m\u001b[0m\u001b[0;34m\u001b[0m\u001b[0m\n\u001b[0m",
            "\u001b[0;32m/usr/local/lib/python3.7/site-packages/openmc/executor.py\u001b[0m in \u001b[0;36m_run\u001b[0;34m(args, output, cwd)\u001b[0m\n\u001b[1;32m     27\u001b[0m     \u001b[0;32mif\u001b[0m \u001b[0mp\u001b[0m\u001b[0;34m.\u001b[0m\u001b[0mreturncode\u001b[0m \u001b[0;34m!=\u001b[0m \u001b[0;36m0\u001b[0m\u001b[0;34m:\u001b[0m\u001b[0;34m\u001b[0m\u001b[0;34m\u001b[0m\u001b[0m\n\u001b[1;32m     28\u001b[0m         raise subprocess.CalledProcessError(p.returncode, ' '.join(args),\n\u001b[0;32m---> 29\u001b[0;31m                                             ''.join(lines))\n\u001b[0m\u001b[1;32m     30\u001b[0m \u001b[0;34m\u001b[0m\u001b[0m\n\u001b[1;32m     31\u001b[0m \u001b[0;34m\u001b[0m\u001b[0m\n",
            "\u001b[0;31mCalledProcessError\u001b[0m: Command 'openmc' returned non-zero exit status 255."
          ]
        }
      ]
    },
    {
      "cell_type": "code",
      "metadata": {
        "id": "zVCVJ9IHahot"
      },
      "source": [
        "#geometry of 22 au\n",
        "au22_fuel_cell=openmc.Cell(fill=au22, region=fuel_region)\n",
        "au22_u=openmc.Universe(cells=(au22_fuel_cell, gap_cell, cladcell, water_cell))\n",
        "\n",
        "geom=openmc.Geometry(au22_u)\n",
        "geom.export_to_xml()"
      ],
      "execution_count": 59,
      "outputs": []
    },
    {
      "cell_type": "code",
      "metadata": {
        "id": "3MlM4EUuahu9"
      },
      "source": [
        "#geometry av5\n",
        "av5_fuel_cell=openmc.Cell(fill=av5, region=fuel_region)\n",
        "av5_u=openmc.Universe(cells=(av5_fuel_cell, gap_cell, cladcell, water_cell))\n",
        "\n",
        "geom=openmc.Geometry(av5_u)\n",
        "geom.export_to_xml()"
      ],
      "execution_count": 60,
      "outputs": []
    },
    {
      "cell_type": "code",
      "metadata": {
        "id": "Ks9nRXR4ah45"
      },
      "source": [
        "#geometry of awu\n",
        "awu_fuel_cell=openmc.Cell(fill=fuel_awu, region=fuel_region)\n",
        "awu_u=openmc.Universe(cells=(awu_fuel_cell, gap_cell, cladcell, water_cell))\n",
        "\n",
        "geom=openmc.Geometry(awu_u)\n",
        "geom.export_to_xml()"
      ],
      "execution_count": 61,
      "outputs": []
    },
    {
      "cell_type": "code",
      "metadata": {
        "id": "NV8O7-cZaiuX"
      },
      "source": [
        "#geometry of go\n",
        "go_fuel_cell=openmc.Cell(fill=fuel_go, region=fuel_region)\n",
        "go_u=openmc.Universe(cells=(go_fuel_cell, gap_cell, cladcell, water_cell))\n",
        "\n",
        "geom=openmc.Geometry(go_u)\n",
        "geom.export_to_xml()"
      ],
      "execution_count": 62,
      "outputs": []
    },
    {
      "cell_type": "markdown",
      "metadata": {
        "id": "HeoI2kt_a-VA"
      },
      "source": [
        "Reactor core:/"
      ]
    },
    {
      "cell_type": "code",
      "metadata": {
        "id": "Lnnkq16Oaisk",
        "colab": {
          "base_uri": "https://localhost:8080/"
        },
        "outputId": "676d78e5-ddf5-4fd9-b6b0-8e432a33a1da"
      },
      "source": [
        "# we have 163 pincell, .... \n",
        "\"\"\"\n",
        " Number of assemblies\n",
        "13au 48\n",
        "22au 42 \n",
        "30av5 37 \n",
        "39awu 24 \n",
        "390go 12\n",
        "\"\"\"\n",
        "lat=openmc.HexLattice(name='assembly')\n",
        "lat.center = (0., 0.)\n",
        "lat.pitch = (1.275,)###\n",
        "lat.outer=all_water_out_u\n",
        "\n",
        "#lat.outer = u_monolith\n",
        "#lat.orientation='x'\n",
        "# print(lat.show_indices(7,orientation='x')) # with 7 cycles we would have 169 pincell, but we know that 6 pincell are removed according to graphs."
      ],
      "execution_count": 63,
      "outputs": [
        {
          "output_type": "stream",
          "text": [
            "                                    (0,24)      (0,25)      (0,26)      (0,27)      (0,28)      (0,29)      (0,30)\n",
            "\n",
            "                              (0,23)      (1,20)      (1,21)      (1,22)      (1,23)      (1,24)      (1,25)      (0,31)\n",
            "\n",
            "                        (0,22)      (1,19)      (2,16)      (2,17)      (2,18)      (2,19)      (2,20)      (1,26)      (0,32)\n",
            "\n",
            "                  (0,21)      (1,18)      (2,15)      (3,12)      (3,13)      (3,14)      (3,15)      (2,21)      (1,27)      (0,33)\n",
            "\n",
            "            (0,20)      (1,17)      (2,14)      (3,11)      (4, 8)      (4, 9)      (4,10)      (3,16)      (2,22)      (1,28)      (0,34)\n",
            "\n",
            "      (0,19)      (1,16)      (2,13)      (3,10)      (4, 7)      (5, 4)      (5, 5)      (4,11)      (3,17)      (2,23)      (1,29)      (0,35)\n",
            "\n",
            "(0,18)      (1,15)      (2,12)      (3, 9)      (4, 6)      (5, 3)      (6, 0)      (5, 0)      (4, 0)      (3, 0)      (2, 0)      (1, 0)      (0, 0)\n",
            "\n",
            "      (0,17)      (1,14)      (2,11)      (3, 8)      (4, 5)      (5, 2)      (5, 1)      (4, 1)      (3, 1)      (2, 1)      (1, 1)      (0, 1)\n",
            "\n",
            "            (0,16)      (1,13)      (2,10)      (3, 7)      (4, 4)      (4, 3)      (4, 2)      (3, 2)      (2, 2)      (1, 2)      (0, 2)\n",
            "\n",
            "                  (0,15)      (1,12)      (2, 9)      (3, 6)      (3, 5)      (3, 4)      (3, 3)      (2, 3)      (1, 3)      (0, 3)\n",
            "\n",
            "                        (0,14)      (1,11)      (2, 8)      (2, 7)      (2, 6)      (2, 5)      (2, 4)      (1, 4)      (0, 4)\n",
            "\n",
            "                              (0,13)      (1,10)      (1, 9)      (1, 8)      (1, 7)      (1, 6)      (1, 5)      (0, 5)\n",
            "\n",
            "                                    (0,12)      (0,11)      (0,10)      (0, 9)      (0, 8)      (0, 7)      (0, 6)\n"
          ],
          "name": "stdout"
        }
      ]
    },
    {
      "cell_type": "code",
      "metadata": {
        "id": "0wD6nzv-aihX"
      },
      "source": [
        "#ring8=[centeral_tube_u]*48\n",
        "#ring7=[awu_u, awu_u, go_u, centeral_tube_u, go_u, awu_u, awu_u]*6\n",
        "ring7=[awu_u, awu_u, go_u,awu_u, go_u, awu_u, awu_u]*6\n",
        "\n",
        "#ring7=[au22_u, au13_u, au22_u, av5_u, av5_u,au13_u, av5_u]*6\n",
        "ring6= [au22_u, av5_u, au22_u,\n",
        "        av5_u, au22_u, av5_u,\n",
        "        au13_u,av5_u, au22_u,\n",
        "        av5_u,au22_u,av5_u,\n",
        "        au22_u,av5_u,au22_u,\n",
        "        av5_u,au22_u,av5_u,\n",
        "        au22_u,av5_u,au22_u,\n",
        "        av5_u,au22_u,av5_u,\n",
        "        au13_u,av5_u,au22_u,\n",
        "        av5_u,au22_u,av5_u,\n",
        "        au13_u,av5_u,au22_u,\n",
        "        av5_u,au22_u,av5_u]\n",
        "ring5= [au13_u, au13_u, au22_u, au13_u, au13_u]*6\n",
        "ring4=[au22_u, av5_u, au13_u, av5_u]*6\n",
        "ring3=[au13_u, au22_u, au13_u]*6\n",
        "ring2=[au22_u, av5_u]*6\n",
        "ring1=[au13_u]*6\n",
        "ring0=[centeral_tube_u]\n",
        "lat.universes = [ring7, ring6, ring5, ring4, ring3, ring2, ring1, ring0]\n",
        "lat.oreintation='y'"
      ],
      "execution_count": 66,
      "outputs": []
    },
    {
      "cell_type": "code",
      "metadata": {
        "id": "3qjNGajDaifZ",
        "colab": {
          "base_uri": "https://localhost:8080/",
          "height": 282
        },
        "outputId": "d5c8cad5-7430-4fb7-8bb1-7930f82841c0"
      },
      "source": [
        "#outer_surface=openmc.model.hexagonal_prism(edge_length=18, orientation='y')\n",
        "#main_assembly = openmc.Cell(fill=lat, region=outer_surface)\n",
        "#main_u=openmc.Universe(cells=[main_assembly])\n",
        "\n",
        "assembly_cell.fill = lat\n",
        "\n",
        "u_root.add_cells([assembly_cell, reflect_cell, top_reflect_cell, bot_reflect_cell])\n",
        "geom=openmc.Geometry(u_root)\n",
        "geom.export_to_xml()\n",
        "\n",
        "u_root.plot(origin=(0,0,0),width=(25,25),colors={water:'blue'},pixels=[400,400])\n",
        "#u_root.plot(origin=(0,0,0),width=(25,25),color_by='material',pixels=[400,400])"
      ],
      "execution_count": 67,
      "outputs": [
        {
          "output_type": "execute_result",
          "data": {
            "text/plain": [
              "<matplotlib.image.AxesImage at 0x7f58d14a25f8>"
            ]
          },
          "metadata": {
            "tags": []
          },
          "execution_count": 67
        },
        {
          "output_type": "display_data",
          "data": {
            "image/png": "[encoded data removed]",
            "text/plain": [
              "<Figure size 432x288 with 1 Axes>"
            ]
          },
          "metadata": {
            "tags": [],
            "needs_background": "light"
          }
        }
      ]
    },
    {
      "cell_type": "code",
      "metadata": {
        "id": "j7GDiLQtBY1m",
        "colab": {
          "base_uri": "https://localhost:8080/",
          "height": 282
        },
        "outputId": "0e5753e6-eeda-43d1-c137-12d17b1b8c67"
      },
      "source": [
        "u_root.plot(basis='yz',origin=(0,0,0),width=(50,50),color_by='material',pixels=[200,200])"
      ],
      "execution_count": null,
      "outputs": [
        {
          "output_type": "execute_result",
          "data": {
            "text/plain": [
              "<matplotlib.image.AxesImage at 0x7facda982d30>"
            ]
          },
          "metadata": {
            "tags": []
          },
          "execution_count": 144
        },
        {
          "output_type": "display_data",
          "data": {
            "image/png": "[encoded data removed]",
            "text/plain": [
              "<Figure size 432x288 with 1 Axes>"
            ]
          },
          "metadata": {
            "tags": [],
            "needs_background": "light"
          }
        }
      ]
    },
    {
      "cell_type": "code",
      "metadata": {
        "id": "EzaW9J5l8vRP"
      },
      "source": [
        "#######################\n",
        "# Run Settings\n",
        "######################\n",
        "\n",
        "uniform_dist = openmc.stats.Box([-24,-24,-75],[24,24,75],only_fissionable=True)\n",
        "\n",
        "settings = openmc.Settings()\n",
        "settings.seed = 1\n",
        "settings.batches = 200\n",
        "settings.inactive = 100\n",
        "settings.particles = 100\n",
        "settings.source = openmc.source.Source(space=uniform_dist)\n",
        "settings.export_to_xml()\n"
      ],
      "execution_count": 68,
      "outputs": []
    },
    {
      "cell_type": "code",
      "metadata": {
        "id": "M1srutOk9v2H",
        "colab": {
          "base_uri": "https://localhost:8080/"
        },
        "outputId": "bf6f1cac-9f8b-438c-b5fe-fb6fd3fd6a8e"
      },
      "source": [
        "\n",
        "#openmc.run()\n",
        "!cat materials.xml\n"
      ],
      "execution_count": 69,
      "outputs": [
        {
          "output_type": "stream",
          "text": [
            "<?xml version='1.0' encoding='utf-8'?>\n",
            "<materials>\n",
            "  <material depletable=\"true\" id=\"1\" name=\"13au\">\n",
            "    <density units=\"g/cc\" value=\"10.4\" />\n",
            "    <nuclide ao=\"0.00011766243358040823\" name=\"U234\" />\n",
            "    <nuclide ao=\"0.013164083737078027\" name=\"U235\" />\n",
            "    <nuclide ao=\"0.9866579560029052\" name=\"U238\" />\n",
            "    <nuclide ao=\"6.0297826436488724e-05\" name=\"U236\" />\n",
            "    <nuclide ao=\"1.999242\" name=\"O16\" />\n",
            "    <nuclide ao=\"0.000758\" name=\"O17\" />\n",
            "  </material>\n",
            "  <material depletable=\"true\" id=\"2\" name=\"13au\">\n",
            "    <density units=\"g/cc\" value=\"10.4\" />\n",
            "    <nuclide ao=\"0.0001990977790376745\" name=\"U234\" />\n",
            "    <nuclide ao=\"0.02227507757033689\" name=\"U235\" />\n",
            "    <nuclide ao=\"0.977423794096276\" name=\"U238\" />\n",
            "    <nuclide ao=\"0.00010203055434936236\" name=\"U236\" />\n",
            "    <nuclide ao=\"1.999242\" name=\"O16\" />\n",
            "    <nuclide ao=\"0.000758\" name=\"O17\" />\n",
            "  </material>\n",
            "  <material depletable=\"true\" id=\"3\" name=\"30av5u\">\n",
            "    <density units=\"g/cc\" value=\"10.4\" />\n",
            "    <nuclide ao=\"0.0002714687807807027\" name=\"U234\" />\n",
            "    <nuclide ao=\"0.030371951807009787\" name=\"U235\" />\n",
            "    <nuclide ao=\"0.9692174612847976\" name=\"U238\" />\n",
            "    <nuclide ao=\"0.00013911812741195577\" name=\"U236\" />\n",
            "    <nuclide ao=\"1.999242\" name=\"O16\" />\n",
            "    <nuclide ao=\"0.000758\" name=\"O17\" />\n",
            "  </material>\n",
            "  <material id=\"7\" name=\"water\">\n",
            "    <density units=\"g/cm3\" value=\"1.0\" />\n",
            "    <nuclide ao=\"2.0\" name=\"H1\" />\n",
            "    <nuclide ao=\"1.0\" name=\"O16\" />\n",
            "    <sab name=\"c_H_in_H2O\" />\n",
            "  </material>\n",
            "  <material id=\"11\">\n",
            "    <density units=\"g/cm3\" value=\"0.1\" />\n",
            "    <nuclide ao=\"1.0\" name=\"Na23\" />\n",
            "  </material>\n",
            "  <material id=\"12\">\n",
            "    <density units=\"g/cm3\" value=\"2.9\" />\n",
            "    <nuclide ao=\"1.0\" name=\"Be9\" />\n",
            "    <nuclide ao=\"1.0\" name=\"O16\" />\n",
            "  </material>\n",
            "  <material id=\"16\" name=\"niobium(0.01)-zirconium(0.99)\">\n",
            "    <density units=\"g/cm3\" value=\"6.615206483983015\" />\n",
            "    <nuclide ao=\"0.009820657636966679\" name=\"Nb93\" />\n",
            "    <nuclide ao=\"0.5094472716457806\" name=\"Zr90\" />\n",
            "    <nuclide ao=\"0.11109812221313234\" name=\"Zr91\" />\n",
            "    <nuclide ao=\"0.16981575721526024\" name=\"Zr92\" />\n",
            "    <nuclide ao=\"0.17209316970269523\" name=\"Zr94\" />\n",
            "    <nuclide ao=\"0.02772502158616493\" name=\"Zr96\" />\n",
            "  </material>\n",
            "  <material depletable=\"true\" id=\"17\" name=\"Gd2O3(0.05)-39awu(0.95)\">\n",
            "    <density units=\"g/cm3\" value=\"10.194325021496127\" />\n",
            "    <nuclide ao=\"4.905395091018377e-05\" name=\"Gd152\" />\n",
            "    <nuclide ao=\"0.000534688064921003\" name=\"Gd154\" />\n",
            "    <nuclide ao=\"0.003629992367353599\" name=\"Gd155\" />\n",
            "    <nuclide ao=\"0.005020671875657308\" name=\"Gd156\" />\n",
            "    <nuclide ao=\"0.00383847165872188\" name=\"Gd157\" />\n",
            "    <nuclide ao=\"0.006092500703044825\" name=\"Gd158\" />\n",
            "    <nuclide ao=\"0.005361596834483085\" name=\"Gd160\" />\n",
            "    <nuclide ao=\"0.6623277200447676\" name=\"O16\" />\n",
            "    <nuclide ao=\"0.0002511173793837534\" name=\"O17\" />\n",
            "    <nuclide ao=\"9.34314658267922e-05\" name=\"U234\" />\n",
            "    <nuclide ao=\"0.010453120867853884\" name=\"U235\" />\n",
            "    <nuclide ao=\"0.3022997544726996\" name=\"U238\" />\n",
            "    <nuclide ao=\"4.788031437647151e-05\" name=\"U236\" />\n",
            "  </material>\n",
            "  <material depletable=\"true\" id=\"18\" name=\"Gd2O3(0.05)-390go(0.95)\">\n",
            "    <density units=\"g/cm3\" value=\"10.194325021496132\" />\n",
            "    <nuclide ao=\"4.905026365084752e-05\" name=\"Gd152\" />\n",
            "    <nuclide ao=\"0.000534647873794238\" name=\"Gd154\" />\n",
            "    <nuclide ao=\"0.0036297195101627168\" name=\"Gd155\" />\n",
            "    <nuclide ao=\"0.005020294484664243\" name=\"Gd156\" />\n",
            "    <nuclide ao=\"0.0038381831306788187\" name=\"Gd157\" />\n",
            "    <nuclide ao=\"0.006092042745435263\" name=\"Gd158\" />\n",
            "    <nuclide ao=\"0.005361193817037633\" name=\"Gd160\" />\n",
            "    <nuclide ao=\"0.6623280271999229\" name=\"O16\" />\n",
            "    <nuclide ao=\"0.0002511174958396941\" name=\"O17\" />\n",
            "    <nuclide ao=\"0.00011324052963834049\" name=\"U234\" />\n",
            "    <nuclide ao=\"0.012669360723118646\" name=\"U235\" />\n",
            "    <nuclide ao=\"0.3000550904686474\" name=\"U238\" />\n",
            "    <nuclide ao=\"5.803175740915202e-05\" name=\"U236\" />\n",
            "  </material>\n",
            "</materials>\n"
          ],
          "name": "stdout"
        }
      ]
    },
    {
      "cell_type": "code",
      "metadata": {
        "id": "5lBbY0jiaibW"
      },
      "source": [
        "# for control rodes \n",
        "#materials for rodes\n",
        "def insert_rode(pitch,rode_type)\n",
        "  "
      ],
      "execution_count": null,
      "outputs": []
    },
    {
      "cell_type": "code",
      "metadata": {
        "id": "mzhyBvEOaiR8",
        "colab": {
          "base_uri": "https://localhost:8080/",
          "height": 1000
        },
        "outputId": "bb783e58-6ac3-4193-e64a-818bf9c0fa6d"
      },
      "source": [
        "openmc.run()"
      ],
      "execution_count": 70,
      "outputs": [
        {
          "output_type": "stream",
          "text": [
            "                                %%%%%%%%%%%%%%%\n",
            "                           %%%%%%%%%%%%%%%%%%%%%%%%\n",
            "                        %%%%%%%%%%%%%%%%%%%%%%%%%%%%%%\n",
            "                      %%%%%%%%%%%%%%%%%%%%%%%%%%%%%%%%%%\n",
            "                    %%%%%%%%%%%%%%%%%%%%%%%%%%%%%%%%%%%%%%\n",
            "                   %%%%%%%%%%%%%%%%%%%%%%%%%%%%%%%%%%%%%%%%\n",
            "                                    %%%%%%%%%%%%%%%%%%%%%%%%\n",
            "                                     %%%%%%%%%%%%%%%%%%%%%%%%\n",
            "                 ###############      %%%%%%%%%%%%%%%%%%%%%%%%\n",
            "                ##################     %%%%%%%%%%%%%%%%%%%%%%%\n",
            "                ###################     %%%%%%%%%%%%%%%%%%%%%%%\n",
            "                ####################     %%%%%%%%%%%%%%%%%%%%%%\n",
            "                #####################     %%%%%%%%%%%%%%%%%%%%%\n",
            "                ######################     %%%%%%%%%%%%%%%%%%%%\n",
            "                #######################     %%%%%%%%%%%%%%%%%%\n",
            "                 #######################     %%%%%%%%%%%%%%%%%\n",
            "                 ######################     %%%%%%%%%%%%%%%%%\n",
            "                  ####################     %%%%%%%%%%%%%%%%%\n",
            "                    #################     %%%%%%%%%%%%%%%%%\n",
            "                     ###############     %%%%%%%%%%%%%%%%\n",
            "                       ############     %%%%%%%%%%%%%%%\n",
            "                          ########     %%%%%%%%%%%%%%\n",
            "                                      %%%%%%%%%%%\n",
            "\n",
            "                   | The OpenMC Monte Carlo Code\n",
            "         Copyright | 2011-2020 MIT and OpenMC contributors\n",
            "           License | https://docs.openmc.org/en/latest/license.html\n",
            "           Version | 0.12.0\n",
            "          Git SHA1 | 599a722a542ede426c3f1390a88ddb4e4e0045d3\n",
            "         Date/Time | 2020-12-10 20:08:56\n",
            "    OpenMP Threads | 2\n",
            "\n",
            " Reading settings XML file...\n",
            " Reading cross sections XML file...\n",
            " Reading materials XML file...\n",
            " Reading geometry XML file...\n",
            " Reading U234 from /gdrive/My Drive/data/endfb71_hdf5/U234.h5\n",
            " Reading U235 from /gdrive/My Drive/data/endfb71_hdf5/U235.h5\n",
            " Reading U238 from /gdrive/My Drive/data/endfb71_hdf5/U238.h5\n",
            " Reading U236 from /gdrive/My Drive/data/endfb71_hdf5/U236.h5\n",
            " Reading O16 from /gdrive/My Drive/data/endfb71_hdf5/O16.h5\n",
            " Reading O17 from /gdrive/My Drive/data/endfb71_hdf5/O17.h5\n",
            " Reading H1 from /gdrive/My Drive/data/endfb71_hdf5/H1.h5\n",
            " Reading Na23 from /gdrive/My Drive/data/endfb71_hdf5/Na23.h5\n",
            " Reading Be9 from /gdrive/My Drive/data/endfb71_hdf5/Be9.h5\n",
            " Reading Nb93 from /gdrive/My Drive/data/endfb71_hdf5/Nb93.h5\n",
            " Reading Zr90 from /gdrive/My Drive/data/endfb71_hdf5/Zr90.h5\n",
            " Reading Zr91 from /gdrive/My Drive/data/endfb71_hdf5/Zr91.h5\n",
            " Reading Zr92 from /gdrive/My Drive/data/endfb71_hdf5/Zr92.h5\n",
            " Reading Zr94 from /gdrive/My Drive/data/endfb71_hdf5/Zr94.h5\n",
            " Reading Zr96 from /gdrive/My Drive/data/endfb71_hdf5/Zr96.h5\n",
            " Reading Gd152 from /gdrive/My Drive/data/endfb71_hdf5/Gd152.h5\n",
            " Reading Gd154 from /gdrive/My Drive/data/endfb71_hdf5/Gd154.h5\n",
            " Reading Gd155 from /gdrive/My Drive/data/endfb71_hdf5/Gd155.h5\n",
            " Reading Gd156 from /gdrive/My Drive/data/endfb71_hdf5/Gd156.h5\n",
            " Reading Gd157 from /gdrive/My Drive/data/endfb71_hdf5/Gd157.h5\n",
            " Reading Gd158 from /gdrive/My Drive/data/endfb71_hdf5/Gd158.h5\n",
            " Reading Gd160 from /gdrive/My Drive/data/endfb71_hdf5/Gd160.h5\n",
            " Reading c_H_in_H2O from /gdrive/My Drive/data/endfb71_hdf5/c_H_in_H2O.h5\n",
            " Minimum neutron data temperature: 294.000000 K\n",
            " Maximum neutron data temperature: 294.000000 K\n",
            " Preparing distributed cell instances...\n",
            " Writing summary.h5 file...\n",
            " Maximum neutron transport energy: 20000000.000000 eV for U235\n",
            " Initializing source particles...\n",
            "\n",
            " ====================>     K EIGENVALUE SIMULATION     <====================\n",
            "\n",
            "  Bat./Gen.      k            Average k\n",
            "  =========   ========   ====================\n",
            " WARNING: After particle 1 crossed surface 305 it could not be located in any\n",
            "          cell and it did not leak.\n",
            " WARNING: After particle 51 crossed surface 305 it could not be located in any WARNING: After particle 2 crossed surface 305 it could not be located in any\n",
            "          cell and it did not leak.\n",
            "\n",
            "          cell and it did not leak.\n",
            " WARNING: After particle 3 crossed surface 305 it could not be located in any\n",
            "          cell and it did not leak.\n",
            " WARNING: After particle 52 crossed surface 305 it could not be located in any\n",
            "          cell and it did not leak.\n",
            " WARNING: After particle 4 crossed surface 305 it could not be located in any\n",
            "          cell and it did not leak.\n",
            " WARNING: After particle 53 crossed surface 305 it could not be located in any\n",
            "          cell and it did not leak.\n",
            " WARNING: After particle 5 crossed surface 305 it could not be located in any\n",
            "          cell and it did not leak.\n",
            " WARNING: After particle 54 crossed surface 305 it could not be located in any\n",
            "          cell and it did not leak.\n",
            " WARNING: After particle 55 crossed surface 305 it could not be located in any\n",
            "          cell and it did not leak.\n",
            " WARNING: After particle 6 crossed surface 305 it could not be located in any\n",
            "          cell and it did not leak.\n",
            " ERROR: Maximum number of lost particles has been reached.\n",
            " ERROR: Maximum number of lost particles has been reached.\n"
          ],
          "name": "stdout"
        },
        {
          "output_type": "error",
          "ename": "CalledProcessError",
          "evalue": "ignored",
          "traceback": [
            "\u001b[0;31m---------------------------------------------------------------------------\u001b[0m",
            "\u001b[0;31mCalledProcessError\u001b[0m                        Traceback (most recent call last)",
            "\u001b[0;32m<ipython-input-70-b3992cdbc7fa>\u001b[0m in \u001b[0;36m<module>\u001b[0;34m()\u001b[0m\n\u001b[0;32m----> 1\u001b[0;31m \u001b[0mopenmc\u001b[0m\u001b[0;34m.\u001b[0m\u001b[0mrun\u001b[0m\u001b[0;34m(\u001b[0m\u001b[0;34m)\u001b[0m\u001b[0;34m\u001b[0m\u001b[0;34m\u001b[0m\u001b[0m\n\u001b[0m",
            "\u001b[0;32m/usr/local/lib/python3.7/site-packages/openmc/executor.py\u001b[0m in \u001b[0;36mrun\u001b[0;34m(particles, threads, geometry_debug, restart_file, tracks, output, cwd, openmc_exec, mpi_args, event_based)\u001b[0m\n\u001b[1;32m    216\u001b[0m         \u001b[0margs\u001b[0m \u001b[0;34m=\u001b[0m \u001b[0mmpi_args\u001b[0m \u001b[0;34m+\u001b[0m \u001b[0margs\u001b[0m\u001b[0;34m\u001b[0m\u001b[0;34m\u001b[0m\u001b[0m\n\u001b[1;32m    217\u001b[0m \u001b[0;34m\u001b[0m\u001b[0m\n\u001b[0;32m--> 218\u001b[0;31m     \u001b[0m_run\u001b[0m\u001b[0;34m(\u001b[0m\u001b[0margs\u001b[0m\u001b[0;34m,\u001b[0m \u001b[0moutput\u001b[0m\u001b[0;34m,\u001b[0m \u001b[0mcwd\u001b[0m\u001b[0;34m)\u001b[0m\u001b[0;34m\u001b[0m\u001b[0;34m\u001b[0m\u001b[0m\n\u001b[0m",
            "\u001b[0;32m/usr/local/lib/python3.7/site-packages/openmc/executor.py\u001b[0m in \u001b[0;36m_run\u001b[0;34m(args, output, cwd)\u001b[0m\n\u001b[1;32m     27\u001b[0m     \u001b[0;32mif\u001b[0m \u001b[0mp\u001b[0m\u001b[0;34m.\u001b[0m\u001b[0mreturncode\u001b[0m \u001b[0;34m!=\u001b[0m \u001b[0;36m0\u001b[0m\u001b[0;34m:\u001b[0m\u001b[0;34m\u001b[0m\u001b[0;34m\u001b[0m\u001b[0m\n\u001b[1;32m     28\u001b[0m         raise subprocess.CalledProcessError(p.returncode, ' '.join(args),\n\u001b[0;32m---> 29\u001b[0;31m                                             ''.join(lines))\n\u001b[0m\u001b[1;32m     30\u001b[0m \u001b[0;34m\u001b[0m\u001b[0m\n\u001b[1;32m     31\u001b[0m \u001b[0;34m\u001b[0m\u001b[0m\n",
            "\u001b[0;31mCalledProcessError\u001b[0m: Command 'openmc' returned non-zero exit status 255."
          ]
        }
      ]
    },
    {
      "cell_type": "code",
      "metadata": {
        "id": "oz-PubPpaiQX"
      },
      "source": [
        ""
      ],
      "execution_count": null,
      "outputs": []
    },
    {
      "cell_type": "code",
      "metadata": {
        "id": "32_wPa0UaiO2"
      },
      "source": [
        ""
      ],
      "execution_count": null,
      "outputs": []
    },
    {
      "cell_type": "code",
      "metadata": {
        "id": "z2ht9N6-aiF7"
      },
      "source": [
        ""
      ],
      "execution_count": null,
      "outputs": []
    },
    {
      "cell_type": "code",
      "metadata": {
        "id": "cMUbwwxDaiEY"
      },
      "source": [
        ""
      ],
      "execution_count": null,
      "outputs": []
    },
    {
      "cell_type": "code",
      "metadata": {
        "id": "fDmL0riPaiCz"
      },
      "source": [
        ""
      ],
      "execution_count": null,
      "outputs": []
    },
    {
      "cell_type": "code",
      "metadata": {
        "id": "VBbq9debahsR"
      },
      "source": [
        ""
      ],
      "execution_count": null,
      "outputs": []
    }
  ]
}