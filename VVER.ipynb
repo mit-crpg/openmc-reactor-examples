{
 "cells": [
  {
   "cell_type": "markdown",
   "metadata": {
    "colab": {
     "base_uri": "https://localhost:8080/"
    },
    "id": "7SVc4tVhUN8l",
    "outputId": "91d742b3-4226-4a1c-e1a6-51bbde0949e3"
   },
   "source": [
    "# A VVER geometry \n",
    "This notebook can be used as a template for modeling VVER reactors."
   ]
  },
  {
   "cell_type": "code",
   "execution_count": 1,
   "metadata": {
    "id": "BpmPdBBHTz2E"
   },
   "outputs": [],
   "source": [
    "%matplotlib inline\n",
    "import openmc"
   ]
  },
  {
   "cell_type": "code",
   "execution_count": 2,
   "metadata": {
    "colab": {
     "base_uri": "https://localhost:8080/"
    },
    "id": "TBEO1_TrW7up",
    "outputId": "f6c529e7-05aa-4e22-de7a-2d2ffc9c9421"
   },
   "outputs": [],
   "source": [
    "# Materials definitions\n",
    "\n",
    "au13=openmc.Material(name='au13')\n",
    "au13.add_element('U', 1.0, enrichment=1.3)\n",
    "au13.add_element('O', 2.0)\n",
    "au13.set_density('g/cc', 10.4)\n",
    "\n",
    "au22=openmc.Material(name='au22')\n",
    "au22.add_element('U', 1.0, enrichment=2.2)\n",
    "au22.add_element('O', 2.0)\n",
    "au22.set_density('g/cc', 10.4)\n",
    "\n",
    "av5=openmc.Material(name='av5')\n",
    "av5.add_element('U', 1.0, enrichment=3.0)\n",
    "av5.add_element('O', 2.0)\n",
    "av5.set_density('g/cc', 10.4)\n",
    "\n",
    "awu=openmc.Material(name='awu')\n",
    "awu.add_element('U', 1.0, enrichment=3.3)\n",
    "awu.add_element('O', 2.0)\n",
    "awu.set_density('g/cc', 10.4)\n",
    "\n",
    "go=openmc.Material(name='go')\n",
    "go.add_element('U', 1.0, enrichment=4.0)\n",
    "go.add_element('O', 2.0)\n",
    "go.set_density('g/cc', 10.4)\n",
    "\n",
    "Gd2O3=openmc.Material(name='Gd2O3')\n",
    "Gd2O3.add_element('Gd', 2.0)\n",
    "Gd2O3.add_element('O', 3.0)\n",
    "Gd2O3.set_density('g/cm3', 7.41)\n",
    "\n",
    "water = openmc.Material(name='water')\n",
    "water.add_nuclide('H1', 2.0)\n",
    "water.add_nuclide('O16', 1.0)\n",
    "water.set_density('g/cm3', 1.0)\n",
    "water.add_s_alpha_beta('c_H_in_H2O')\n",
    "\n",
    "zirconium = openmc.Material(name=\"zirconium\")\n",
    "zirconium.add_element('Zr', 1.0)\n",
    "zirconium.set_density('g/cm3', 6.6)\n",
    "\n",
    "niobium=openmc.Material(name='niobium')\n",
    "niobium.add_element('Nb',1.0)\n",
    "niobium.set_density('g/cm3',8.57)\n",
    "\n",
    "helium=openmc.Material(name='Helium')\n",
    "helium.add_element('He', 1.0)\n",
    "helium.set_density('g/cm3', 0.178e-3)\n",
    "\n",
    "reflector_mat = openmc.Material(name='Reflector')\n",
    "reflector_mat.add_nuclide('Be9', 1.0)\n",
    "reflector_mat.add_nuclide('O16', 1.0)\n",
    "reflector_mat.set_density('g/cm3', 2.9)"
   ]
  },
  {
   "cell_type": "code",
   "execution_count": 3,
   "metadata": {
    "id": "-VU_fMs2W751"
   },
   "outputs": [],
   "source": [
    "# Material mixtures\n",
    "\n",
    "alloy = openmc.Material.mix_materials([niobium, zirconium], [0.01, 0.99], 'wo')\n",
    "fuel_awu = openmc.Material.mix_materials([Gd2O3, awu], [0.05, 0.95], 'wo')\n",
    "fuel_go = openmc.Material.mix_materials([Gd2O3, go], [0.05, 0.95], 'wo')"
   ]
  },
  {
   "cell_type": "code",
   "execution_count": 4,
   "metadata": {
    "id": "116XndltahRq"
   },
   "outputs": [],
   "source": [
    "# Instantiate a Materials collection and export to xml\n",
    "materials_file = openmc.Materials([au13, au22, av5, fuel_awu, fuel_go, water, alloy, helium, reflector_mat])\n",
    "materials_file.export_to_xml()"
   ]
  },
  {
   "cell_type": "code",
   "execution_count": 5,
   "metadata": {
    "colab": {
     "base_uri": "https://localhost:8080/"
    },
    "id": "htyVmeh8ahca",
    "outputId": "20ecf082-9e37-4dc4-f987-cd42a1948e1c"
   },
   "outputs": [],
   "source": [
    "# Geometry definitions\n",
    "\n",
    "# Boudries and outer universe\n",
    "all_water_out=openmc.Cell(cell_id=200, fill=water)\n",
    "\n",
    "# Top & bottom of the assembly \n",
    "assembly_z0 = openmc.ZPlane(surface_id=300, z0=-75)\n",
    "assembly_z1 = openmc.ZPlane(surface_id=301, z0=75)\n",
    "assembly = openmc.model.hexagonal_prism(edge_length=18, orientation='y')\n",
    "\n",
    "# Top & bottom of the reflector\n",
    "reflector_z0 = openmc.ZPlane(surface_id=303, z0=-95, boundary_type='vacuum')\n",
    "reflector_z1 = openmc.ZPlane(surface_id=304, z0= 95, boundary_type='vacuum')\n",
    "\n",
    "# Reflector hexagon\n",
    "reflector = openmc.model.hexagonal_prism(edge_length=19, orientation='y',\n",
    "    boundary_type='vacuum')\n",
    "\n",
    "assembly_cell = openmc.Cell()\n",
    "reflect_cell = openmc.Cell()\n",
    "top_reflect_cell = openmc.Cell()\n",
    "bot_reflect_cell = openmc.Cell()"
   ]
  },
  {
   "cell_type": "code",
   "execution_count": 7,
   "metadata": {
    "id": "ku5Yp2wzyXTg"
   },
   "outputs": [],
   "source": [
    "assembly_cell.region = assembly & -assembly_z1 & +assembly_z0\n",
    "\n",
    "reflect_cell.region = ~assembly & reflector \\\n",
    "& -assembly_z1 & +assembly_z0\n",
    "\n",
    "top_reflect_cell.region = reflector & +assembly_z1 & -reflector_z1\n",
    "\n",
    "bot_reflect_cell.region = reflector & -assembly_z0 & +reflector_z0\n",
    "\n",
    "reflect_cell.fill = reflector_mat\n",
    "top_reflect_cell.fill = reflector_mat\n",
    "bot_reflect_cell.fill = reflector_mat\n",
    "\n",
    "# Create universes\n",
    "all_water_out_u=openmc.Universe(cells=[all_water_out])\n",
    "u_reflect = openmc.Universe(cells=(reflect_cell,top_reflect_cell,bot_reflect_cell))\n",
    "u_root = openmc.Universe()"
   ]
  },
  {
   "cell_type": "code",
   "execution_count": 8,
   "metadata": {
    "colab": {
     "base_uri": "https://localhost:8080/",
     "height": 286
    },
    "id": "Sl9zZQjpahiO",
    "outputId": "dbbad02d-0f40-4689-fdb7-af90e0b60b53"
   },
   "outputs": [],
   "source": [
    "fuel_or1 = openmc.ZCylinder(surface_id=400, r=0.3765)\n",
    "clad_ir1 = openmc.ZCylinder(surface_id=401, r=0.4)\n",
    "clad_or1 = openmc.ZCylinder(surface_id=402, r=0.465)\n",
    "\n",
    "fuel_region1 = -fuel_or1 & -assembly_z1 & +assembly_z0\n",
    "clad_region1 = +fuel_or1 & -clad_or1 & -assembly_z1 & +assembly_z0\n",
    "\n",
    "moderator_region1 = +clad_or1 & -assembly_z1 & +assembly_z0 \n",
    "\n",
    "fuel_cell1  = openmc.Cell(cell_id=400, fill=water, region=fuel_region1)\n",
    "clad_cell1  = openmc.Cell(cell_id=401, fill=alloy, region=clad_region1)\n",
    "water_cell1 = openmc.Cell(cell_id=402, fill=water, region=moderator_region1)\n",
    "\n",
    "central_tube_u = openmc.Universe(cells=[fuel_cell1, clad_cell1, water_cell1])"
   ]
  },
  {
   "cell_type": "code",
   "execution_count": 9,
   "metadata": {
    "colab": {
     "base_uri": "https://localhost:8080/",
     "height": 286
    },
    "id": "s9WlvAAxahlm",
    "outputId": "172bc8df-6006-44b8-e8e1-41142ef675ea"
   },
   "outputs": [],
   "source": [
    "# Geometry of au13 rod\n",
    "\n",
    "fuel_or2 = openmc.ZCylinder(surface_id=410, r=0.3765)\n",
    "clad_ir2 = openmc.ZCylinder(surface_id=411, r=0.4)\n",
    "clad_or2 = openmc.ZCylinder(surface_id=412, r=0.465)\n",
    "\n",
    "fuel_region2 = -fuel_or2 & -assembly_z1 & +assembly_z0\n",
    "gap_region2  = +fuel_or2 & -clad_ir2 & -assembly_z1 & +assembly_z0\n",
    "clad_region2 = +clad_ir2 & -clad_or2 & -assembly_z1 & +assembly_z0\n",
    "\n",
    "moderator_region2 = +clad_or2 & -assembly_z1 & +assembly_z0 \n",
    "\n",
    "fuel_cell2  = openmc.Cell(cell_id=410, fill=au13,   region=fuel_region2)\n",
    "gap_cell2   = openmc.Cell(cell_id=411, fill=helium, region=gap_region2)\n",
    "clad_cell2  = openmc.Cell(cell_id=412, fill=alloy,  region=clad_region2)\n",
    "water_cell2 = openmc.Cell(cell_id=413, fill=water,  region=moderator_region2)\n",
    "\n",
    "au13_u = openmc.Universe(cells=[fuel_cell2, gap_cell2, clad_cell2, water_cell2])"
   ]
  },
  {
   "cell_type": "code",
   "execution_count": 10,
   "metadata": {
    "id": "zVCVJ9IHahot"
   },
   "outputs": [],
   "source": [
    "# Geometry of au22 rod\n",
    "\n",
    "fuel_or3 = openmc.ZCylinder(surface_id=420, r=0.3765)\n",
    "clad_ir3 = openmc.ZCylinder(surface_id=421, r=0.4)\n",
    "clad_or3 = openmc.ZCylinder(surface_id=422, r=0.465)\n",
    "\n",
    "fuel_region3 = -fuel_or3 & -assembly_z1 & +assembly_z0\n",
    "gap_region3  = +fuel_or3 & -clad_ir3 & -assembly_z1 & +assembly_z0\n",
    "clad_region3 = +clad_ir3 & -clad_or3 & -assembly_z1 & +assembly_z0\n",
    "\n",
    "moderator_region3 = +clad_or3 & -assembly_z1 & +assembly_z0 \n",
    "\n",
    "fuel_cell3  = openmc.Cell(cell_id=420, fill=au22,   region=fuel_region3)\n",
    "gap_cell3   = openmc.Cell(cell_id=421, fill=helium, region=gap_region3)\n",
    "clad_cell3  = openmc.Cell(cell_id=422, fill=alloy,  region=clad_region3)\n",
    "water_cell3 = openmc.Cell(cell_id=423, fill=water,  region=moderator_region3)\n",
    "\n",
    "au22_u = openmc.Universe(cells=[fuel_cell3, gap_cell3, clad_cell3, water_cell3])"
   ]
  },
  {
   "cell_type": "code",
   "execution_count": 15,
   "metadata": {
    "id": "3MlM4EUuahu9"
   },
   "outputs": [],
   "source": [
    "# Geometry of av5 rod\n",
    "\n",
    "fuel_or4 = openmc.ZCylinder(surface_id=430, r=0.3765)\n",
    "clad_ir4 = openmc.ZCylinder(surface_id=431, r=0.4)\n",
    "clad_or4 = openmc.ZCylinder(surface_id=432, r=0.465)\n",
    "\n",
    "fuel_region4 = -fuel_or4 & -assembly_z1 & +assembly_z0\n",
    "gap_region4  = +fuel_or4 & -clad_ir4 & -assembly_z1 & +assembly_z0\n",
    "clad_region4 = +clad_ir4 & -clad_or4 & -assembly_z1 & +assembly_z0\n",
    "\n",
    "moderator_region4 = +clad_or4 & -assembly_z1 & +assembly_z0 \n",
    "\n",
    "fuel_cell4  = openmc.Cell(cell_id=430, fill=av5,    region=fuel_region4)\n",
    "gap_cell4   = openmc.Cell(cell_id=431, fill=helium, region=gap_region4)\n",
    "clad_cell4  = openmc.Cell(cell_id=432, fill=alloy,  region=clad_region4)\n",
    "water_cell4 = openmc.Cell(cell_id=433, fill=water,  region=moderator_region4)\n",
    "\n",
    "av5_u = openmc.Universe(cells=[fuel_cell4, gap_cell4, clad_cell4, water_cell4])"
   ]
  },
  {
   "cell_type": "code",
   "execution_count": 16,
   "metadata": {
    "id": "Ks9nRXR4ah45"
   },
   "outputs": [
    {
     "name": "stderr",
     "output_type": "stream",
     "text": [
      "/Users/miriamrathbun/codes/openmc-mak/openmc/mixin.py:68: IDWarning: Another Surface instance already exists with id=440.\n",
      "  warn(msg, IDWarning)\n",
      "/Users/miriamrathbun/codes/openmc-mak/openmc/mixin.py:68: IDWarning: Another Surface instance already exists with id=441.\n",
      "  warn(msg, IDWarning)\n",
      "/Users/miriamrathbun/codes/openmc-mak/openmc/mixin.py:68: IDWarning: Another Surface instance already exists with id=442.\n",
      "  warn(msg, IDWarning)\n",
      "/Users/miriamrathbun/codes/openmc-mak/openmc/mixin.py:68: IDWarning: Another Cell instance already exists with id=440.\n",
      "  warn(msg, IDWarning)\n",
      "/Users/miriamrathbun/codes/openmc-mak/openmc/mixin.py:68: IDWarning: Another Cell instance already exists with id=441.\n",
      "  warn(msg, IDWarning)\n",
      "/Users/miriamrathbun/codes/openmc-mak/openmc/mixin.py:68: IDWarning: Another Cell instance already exists with id=442.\n",
      "  warn(msg, IDWarning)\n",
      "/Users/miriamrathbun/codes/openmc-mak/openmc/mixin.py:68: IDWarning: Another Cell instance already exists with id=443.\n",
      "  warn(msg, IDWarning)\n"
     ]
    }
   ],
   "source": [
    "# Geometry of awu rod\n",
    "\n",
    "fuel_or5 = openmc.ZCylinder(surface_id=440, r=0.3765)\n",
    "clad_ir5 = openmc.ZCylinder(surface_id=441, r=0.4)\n",
    "clad_or5 = openmc.ZCylinder(surface_id=442, r=0.465)\n",
    "\n",
    "fuel_region5 = -fuel_or5 & -assembly_z1 & +assembly_z0\n",
    "gap_region5  = +fuel_or5 & -clad_ir5 & -assembly_z1 & +assembly_z0\n",
    "clad_region5 = +clad_ir5 & -clad_or5 & -assembly_z1 & +assembly_z0\n",
    "\n",
    "moderator_region5 = +clad_or5 & -assembly_z1 & +assembly_z0 \n",
    "\n",
    "fuel_cell5  = openmc.Cell(cell_id=440, fill=fuel_awu, region=fuel_region5)\n",
    "gap_cell5   = openmc.Cell(cell_id=441, fill=helium,   region=gap_region5)\n",
    "clad_cell5  = openmc.Cell(cell_id=442, fill=alloy,    region=clad_region5)\n",
    "water_cell5 = openmc.Cell(cell_id=443, fill=water,    region=moderator_region5)\n",
    "\n",
    "awu_u = openmc.Universe(cells=[fuel_cell5, gap_cell5, clad_cell5, water_cell5])"
   ]
  },
  {
   "cell_type": "code",
   "execution_count": 17,
   "metadata": {
    "id": "NV8O7-cZaiuX"
   },
   "outputs": [
    {
     "name": "stderr",
     "output_type": "stream",
     "text": [
      "/Users/miriamrathbun/codes/openmc-mak/openmc/mixin.py:68: IDWarning: Another Surface instance already exists with id=450.\n",
      "  warn(msg, IDWarning)\n",
      "/Users/miriamrathbun/codes/openmc-mak/openmc/mixin.py:68: IDWarning: Another Surface instance already exists with id=451.\n",
      "  warn(msg, IDWarning)\n",
      "/Users/miriamrathbun/codes/openmc-mak/openmc/mixin.py:68: IDWarning: Another Surface instance already exists with id=452.\n",
      "  warn(msg, IDWarning)\n",
      "/Users/miriamrathbun/codes/openmc-mak/openmc/mixin.py:68: IDWarning: Another Cell instance already exists with id=450.\n",
      "  warn(msg, IDWarning)\n",
      "/Users/miriamrathbun/codes/openmc-mak/openmc/mixin.py:68: IDWarning: Another Cell instance already exists with id=451.\n",
      "  warn(msg, IDWarning)\n",
      "/Users/miriamrathbun/codes/openmc-mak/openmc/mixin.py:68: IDWarning: Another Cell instance already exists with id=452.\n",
      "  warn(msg, IDWarning)\n",
      "/Users/miriamrathbun/codes/openmc-mak/openmc/mixin.py:68: IDWarning: Another Cell instance already exists with id=453.\n",
      "  warn(msg, IDWarning)\n"
     ]
    }
   ],
   "source": [
    "# Geometry of go rod\n",
    "\n",
    "fuel_or6 = openmc.ZCylinder(surface_id=450, r=0.3765)\n",
    "clad_ir6 = openmc.ZCylinder(surface_id=451, r=0.4)\n",
    "clad_or6 = openmc.ZCylinder(surface_id=452, r=0.465)\n",
    "\n",
    "fuel_region6 = -fuel_or6 & -assembly_z1 & +assembly_z0\n",
    "gap_region6  = +fuel_or6 & -clad_ir6 & -assembly_z1 & +assembly_z0\n",
    "clad_region6 = +clad_ir6 & -clad_or6 & -assembly_z1 & +assembly_z0\n",
    "\n",
    "moderator_region6 = +clad_or6 & -assembly_z1 & +assembly_z0 \n",
    "\n",
    "fuel_cell6  = openmc.Cell(cell_id=450, fill=fuel_go, region=fuel_region6)\n",
    "gap_cell6   = openmc.Cell(cell_id=451, fill=helium,  region=gap_region6)\n",
    "clad_cell6  = openmc.Cell(cell_id=452, fill=alloy,   region=clad_region6)\n",
    "water_cell6 = openmc.Cell(cell_id=453, fill=water,   region=moderator_region6)\n",
    "\n",
    "go_u = openmc.Universe(cells=[fuel_cell6, gap_cell6, clad_cell6, water_cell6])"
   ]
  },
  {
   "cell_type": "code",
   "execution_count": 18,
   "metadata": {
    "colab": {
     "base_uri": "https://localhost:8080/"
    },
    "id": "Lnnkq16Oaisk",
    "outputId": "676d78e5-ddf5-4fd9-b6b0-8e432a33a1da"
   },
   "outputs": [],
   "source": [
    "# Creating the hexagonal lattice\n",
    "\n",
    "lat=openmc.HexLattice(name='assembly')\n",
    "lat.center = (0., 0.)\n",
    "lat.pitch = (1.275,)\n",
    "lat.outer=all_water_out_u"
   ]
  },
  {
   "cell_type": "code",
   "execution_count": 19,
   "metadata": {
    "id": "0wD6nzv-aihX"
   },
   "outputs": [],
   "source": [
    "ring7=[awu_u, awu_u, go_u,awu_u, go_u, awu_u, awu_u]*6\n",
    "ring6= [au22_u, av5_u, au22_u,\n",
    "        av5_u, au22_u, av5_u,\n",
    "        au13_u,av5_u, au22_u,\n",
    "        av5_u,au22_u,av5_u,\n",
    "        au22_u,av5_u,au22_u,\n",
    "        av5_u,au22_u,av5_u,\n",
    "        au22_u,av5_u,au22_u,\n",
    "        av5_u,au22_u,av5_u,\n",
    "        au13_u,av5_u,au22_u,\n",
    "        av5_u,au22_u,av5_u,\n",
    "        au13_u,av5_u,au22_u,\n",
    "        av5_u,au22_u,av5_u]\n",
    "ring5= [au13_u, au13_u, au22_u, au13_u, au13_u]*6\n",
    "ring4=[au22_u, av5_u, au13_u, av5_u]*6\n",
    "ring3=[au13_u, au22_u, au13_u]*6\n",
    "ring2=[au22_u, av5_u]*6\n",
    "ring1=[au13_u]*6\n",
    "ring0=[central_tube_u]\n",
    "lat.universes = [ring7, ring6, ring5, ring4, ring3, ring2, ring1, ring0]\n",
    "lat.orientation='y'"
   ]
  },
  {
   "cell_type": "code",
   "execution_count": 20,
   "metadata": {
    "colab": {
     "base_uri": "https://localhost:8080/",
     "height": 282
    },
    "id": "3qjNGajDaifZ",
    "outputId": "d5c8cad5-7430-4fb7-8bb1-7930f82841c0"
   },
   "outputs": [
    {
     "data": {
      "text/plain": [
       "<matplotlib.image.AxesImage at 0x12ed40160>"
      ]
     },
     "execution_count": 20,
     "metadata": {},
     "output_type": "execute_result"
    },
    {
     "data": {
      "image/png": "[encoded data removed]",
      "text/plain": [
       "<Figure size 432x288 with 1 Axes>"
      ]
     },
     "metadata": {
      "needs_background": "light"
     },
     "output_type": "display_data"
    }
   ],
   "source": [
    "assembly_cell.fill = lat\n",
    "\n",
    "u_root.add_cells([assembly_cell, reflect_cell, top_reflect_cell, bot_reflect_cell])\n",
    "geom=openmc.Geometry(u_root)\n",
    "geom.export_to_xml()\n",
    "\n",
    "u_root.plot(origin=(0,0,0),width=(25,25),color_by='material',colors={water:'blue'},pixels=[400,400])"
   ]
  },
  {
   "cell_type": "code",
   "execution_count": 21,
   "metadata": {
    "colab": {
     "base_uri": "https://localhost:8080/",
     "height": 282
    },
    "id": "j7GDiLQtBY1m",
    "outputId": "0e5753e6-eeda-43d1-c137-12d17b1b8c67"
   },
   "outputs": [
    {
     "data": {
      "text/plain": [
       "<matplotlib.image.AxesImage at 0x12ee16400>"
      ]
     },
     "execution_count": 21,
     "metadata": {},
     "output_type": "execute_result"
    },
    {
     "data": {
      "image/png": "[encoded data removed]",
      "text/plain": [
       "<Figure size 432x288 with 1 Axes>"
      ]
     },
     "metadata": {
      "needs_background": "light"
     },
     "output_type": "display_data"
    }
   ],
   "source": [
    "u_root.plot(basis='yz',origin=(0,0,0),width=(50,50),color_by='material',colors={water:'blue'},pixels=[200,200])"
   ]
  },
  {
   "cell_type": "code",
   "execution_count": 22,
   "metadata": {
    "id": "EzaW9J5l8vRP"
   },
   "outputs": [],
   "source": [
    "# OpenMC simulation parameters\n",
    "\n",
    "batches = 100\n",
    "inactive = 10\n",
    "particles = 5000\n",
    "\n",
    "settings = openmc.Settings()\n",
    "settings.batches = batches\n",
    "settings.inactive = inactive\n",
    "settings.particles = particles\n",
    "\n",
    "uniform_dist = openmc.stats.Box([-24,-24,-75],[24,24,75],only_fissionable=True)\n",
    "settings.source = openmc.source.Source(space=uniform_dist)\n",
    "\n",
    "settings.export_to_xml()"
   ]
  },
  {
   "cell_type": "code",
   "execution_count": 23,
   "metadata": {
    "colab": {
     "base_uri": "https://localhost:8080/",
     "height": 1000
    },
    "id": "mzhyBvEOaiR8",
    "outputId": "bb783e58-6ac3-4193-e64a-818bf9c0fa6d"
   },
   "outputs": [
    {
     "name": "stdout",
     "output_type": "stream",
     "text": [
      "                                %%%%%%%%%%%%%%%\n",
      "                           %%%%%%%%%%%%%%%%%%%%%%%%\n",
      "                        %%%%%%%%%%%%%%%%%%%%%%%%%%%%%%\n",
      "                      %%%%%%%%%%%%%%%%%%%%%%%%%%%%%%%%%%\n",
      "                    %%%%%%%%%%%%%%%%%%%%%%%%%%%%%%%%%%%%%%\n",
      "                   %%%%%%%%%%%%%%%%%%%%%%%%%%%%%%%%%%%%%%%%\n",
      "                                    %%%%%%%%%%%%%%%%%%%%%%%%\n",
      "                                     %%%%%%%%%%%%%%%%%%%%%%%%\n",
      "                 ###############      %%%%%%%%%%%%%%%%%%%%%%%%\n",
      "                ##################     %%%%%%%%%%%%%%%%%%%%%%%\n",
      "                ###################     %%%%%%%%%%%%%%%%%%%%%%%\n",
      "                ####################     %%%%%%%%%%%%%%%%%%%%%%\n",
      "                #####################     %%%%%%%%%%%%%%%%%%%%%\n",
      "                ######################     %%%%%%%%%%%%%%%%%%%%\n",
      "                #######################     %%%%%%%%%%%%%%%%%%\n",
      "                 #######################     %%%%%%%%%%%%%%%%%\n",
      "                 ######################     %%%%%%%%%%%%%%%%%\n",
      "                  ####################     %%%%%%%%%%%%%%%%%\n",
      "                    #################     %%%%%%%%%%%%%%%%%\n",
      "                     ###############     %%%%%%%%%%%%%%%%\n",
      "                       ############     %%%%%%%%%%%%%%%\n",
      "                          ########     %%%%%%%%%%%%%%\n",
      "                                      %%%%%%%%%%%\n",
      "\n",
      "                   | The OpenMC Monte Carlo Code\n",
      "         Copyright | 2011-2020 MIT and OpenMC contributors\n",
      "           License | https://docs.openmc.org/en/latest/license.html\n",
      "           Version | 0.12.1-dev\n",
      "          Git SHA1 | 0228ddba1d6399e654a295e51539590f076b2a3c\n",
      "         Date/Time | 2021-04-12 10:35:09\n",
      "    OpenMP Threads | 8\n",
      "\n",
      " Reading settings XML file...\n",
      " Reading cross sections XML file...\n",
      " Reading materials XML file...\n",
      " Reading geometry XML file...\n",
      " Reading U234 from\n",
      " /Users/miriamrathbun/codes/openmc/nucleardata/endfb71_hdf5/U234.h5\n",
      " Reading U235 from\n",
      " /Users/miriamrathbun/codes/openmc/nucleardata/endfb71_hdf5/U235.h5\n",
      " Reading U238 from\n",
      " /Users/miriamrathbun/codes/openmc/nucleardata/endfb71_hdf5/U238.h5\n",
      " Reading U236 from\n",
      " /Users/miriamrathbun/codes/openmc/nucleardata/endfb71_hdf5/U236.h5\n",
      " Reading O16 from\n",
      " /Users/miriamrathbun/codes/openmc/nucleardata/endfb71_hdf5/O16.h5\n",
      " Reading O17 from\n",
      " /Users/miriamrathbun/codes/openmc/nucleardata/endfb71_hdf5/O17.h5\n",
      " Reading H1 from\n",
      " /Users/miriamrathbun/codes/openmc/nucleardata/endfb71_hdf5/H1.h5\n",
      " Reading He3 from\n",
      " /Users/miriamrathbun/codes/openmc/nucleardata/endfb71_hdf5/He3.h5\n",
      " Reading He4 from\n",
      " /Users/miriamrathbun/codes/openmc/nucleardata/endfb71_hdf5/He4.h5\n",
      " Reading Be9 from\n",
      " /Users/miriamrathbun/codes/openmc/nucleardata/endfb71_hdf5/Be9.h5\n",
      " Reading Nb93 from\n",
      " /Users/miriamrathbun/codes/openmc/nucleardata/endfb71_hdf5/Nb93.h5\n",
      " Reading Zr90 from\n",
      " /Users/miriamrathbun/codes/openmc/nucleardata/endfb71_hdf5/Zr90.h5\n",
      " Reading Zr91 from\n",
      " /Users/miriamrathbun/codes/openmc/nucleardata/endfb71_hdf5/Zr91.h5\n",
      " Reading Zr92 from\n",
      " /Users/miriamrathbun/codes/openmc/nucleardata/endfb71_hdf5/Zr92.h5\n",
      " Reading Zr94 from\n",
      " /Users/miriamrathbun/codes/openmc/nucleardata/endfb71_hdf5/Zr94.h5\n",
      " Reading Zr96 from\n",
      " /Users/miriamrathbun/codes/openmc/nucleardata/endfb71_hdf5/Zr96.h5\n",
      " Reading Gd152 from\n",
      " /Users/miriamrathbun/codes/openmc/nucleardata/endfb71_hdf5/Gd152.h5\n",
      " Reading Gd154 from\n",
      " /Users/miriamrathbun/codes/openmc/nucleardata/endfb71_hdf5/Gd154.h5\n",
      " Reading Gd155 from\n",
      " /Users/miriamrathbun/codes/openmc/nucleardata/endfb71_hdf5/Gd155.h5\n",
      " Reading Gd156 from\n",
      " /Users/miriamrathbun/codes/openmc/nucleardata/endfb71_hdf5/Gd156.h5\n",
      " Reading Gd157 from\n",
      " /Users/miriamrathbun/codes/openmc/nucleardata/endfb71_hdf5/Gd157.h5\n",
      " Reading Gd158 from\n",
      " /Users/miriamrathbun/codes/openmc/nucleardata/endfb71_hdf5/Gd158.h5\n",
      " Reading Gd160 from\n",
      " /Users/miriamrathbun/codes/openmc/nucleardata/endfb71_hdf5/Gd160.h5\n",
      " Reading c_H_in_H2O from\n",
      " /Users/miriamrathbun/codes/openmc/nucleardata/endfb71_hdf5/c_H_in_H2O.h5\n",
      " Minimum neutron data temperature: 294.0 K\n",
      " Maximum neutron data temperature: 294.0 K\n",
      " Preparing distributed cell instances...\n",
      " Writing summary.h5 file...\n",
      " Maximum neutron transport energy: 20000000.0 eV for U235\n",
      " Initializing source particles...\n",
      "\n",
      " ====================>     K EIGENVALUE SIMULATION     <====================\n",
      "\n",
      "  Bat./Gen.      k            Average k\n",
      "  =========   ========   ====================\n",
      "        1/1    0.32731\n",
      "        2/1    0.36782\n",
      "        3/1    0.36363\n",
      "        4/1    0.38721\n",
      "        5/1    0.36266\n",
      "        6/1    0.35733\n",
      "        7/1    0.34599\n",
      "        8/1    0.35970\n",
      "        9/1    0.34754\n",
      "       10/1    0.36502\n",
      "       11/1    0.36282\n",
      "       12/1    0.37708    0.36995 +/- 0.00713\n",
      "       13/1    0.35447    0.36479 +/- 0.00660\n",
      "       14/1    0.35739    0.36294 +/- 0.00502\n",
      "       15/1    0.36162    0.36268 +/- 0.00390\n",
      "       16/1    0.37096    0.36406 +/- 0.00347\n",
      "       17/1    0.36046    0.36354 +/- 0.00298\n",
      "       18/1    0.35110    0.36199 +/- 0.00301\n",
      "       19/1    0.36965    0.36284 +/- 0.00279\n",
      "       20/1    0.36503    0.36306 +/- 0.00250\n",
      "       21/1    0.36692    0.36341 +/- 0.00229\n",
      "       22/1    0.37157    0.36409 +/- 0.00220\n",
      "       23/1    0.35954    0.36374 +/- 0.00205\n",
      "       24/1    0.36843    0.36407 +/- 0.00193\n",
      "       25/1    0.37429    0.36476 +/- 0.00192\n",
      "       26/1    0.35738    0.36429 +/- 0.00186\n",
      "       27/1    0.35847    0.36395 +/- 0.00178\n",
      "       28/1    0.36363    0.36393 +/- 0.00168\n",
      "       29/1    0.34334    0.36285 +/- 0.00192\n",
      "       30/1    0.35107    0.36226 +/- 0.00191\n",
      "       31/1    0.37232    0.36274 +/- 0.00188\n",
      "       32/1    0.35593    0.36243 +/- 0.00182\n",
      "       33/1    0.33948    0.36143 +/- 0.00201\n",
      "       34/1    0.35854    0.36131 +/- 0.00192\n",
      "       35/1    0.36516    0.36147 +/- 0.00185\n",
      "       36/1    0.34700    0.36091 +/- 0.00186\n",
      "       37/1    0.36810    0.36118 +/- 0.00181\n",
      "       38/1    0.35695    0.36102 +/- 0.00175\n",
      "       39/1    0.36776    0.36126 +/- 0.00171\n",
      "       40/1    0.35303    0.36098 +/- 0.00167\n",
      "       41/1    0.35764    0.36088 +/- 0.00162\n",
      "       42/1    0.36321    0.36095 +/- 0.00157\n",
      "       43/1    0.35907    0.36089 +/- 0.00153\n",
      "       44/1    0.37837    0.36141 +/- 0.00157\n",
      "       45/1    0.34815    0.36103 +/- 0.00157\n",
      "       46/1    0.36897    0.36125 +/- 0.00154\n",
      "       47/1    0.37862    0.36172 +/- 0.00157\n",
      "       48/1    0.37571    0.36208 +/- 0.00157\n",
      "       49/1    0.35559    0.36192 +/- 0.00154\n",
      "       50/1    0.35851    0.36183 +/- 0.00150\n",
      "       51/1    0.36326    0.36187 +/- 0.00147\n",
      "       52/1    0.36563    0.36196 +/- 0.00143\n",
      "       53/1    0.34442    0.36155 +/- 0.00146\n",
      "       54/1    0.34858    0.36125 +/- 0.00145\n",
      "       55/1    0.37772    0.36162 +/- 0.00147\n",
      "       56/1    0.36296    0.36165 +/- 0.00144\n",
      "       57/1    0.36482    0.36172 +/- 0.00141\n",
      "       58/1    0.34370    0.36134 +/- 0.00143\n",
      "       59/1    0.36959    0.36151 +/- 0.00141\n",
      "       60/1    0.35648    0.36141 +/- 0.00138\n",
      "       61/1    0.36666    0.36151 +/- 0.00136\n",
      "       62/1    0.37184    0.36171 +/- 0.00135\n",
      "       63/1    0.38048    0.36207 +/- 0.00137\n",
      "       64/1    0.36500    0.36212 +/- 0.00134\n",
      "       65/1    0.37043    0.36227 +/- 0.00133\n",
      "       66/1    0.37493    0.36250 +/- 0.00132\n",
      "       67/1    0.35683    0.36240 +/- 0.00130\n",
      "       68/1    0.35266    0.36223 +/- 0.00129\n",
      "       69/1    0.39498    0.36278 +/- 0.00139\n",
      "       70/1    0.35308    0.36262 +/- 0.00137\n",
      "       71/1    0.37292    0.36279 +/- 0.00136\n",
      "       72/1    0.34912    0.36257 +/- 0.00136\n",
      "       73/1    0.35564    0.36246 +/- 0.00134\n",
      "       74/1    0.37878    0.36272 +/- 0.00134\n",
      "       75/1    0.35663    0.36262 +/- 0.00133\n",
      "       76/1    0.38357    0.36294 +/- 0.00134\n",
      "       77/1    0.36621    0.36299 +/- 0.00132\n",
      "       78/1    0.38089    0.36325 +/- 0.00133\n",
      "       79/1    0.36460    0.36327 +/- 0.00131\n",
      "       80/1    0.39157    0.36368 +/- 0.00135\n",
      "       81/1    0.37191    0.36379 +/- 0.00134\n",
      "       82/1    0.35763    0.36371 +/- 0.00132\n",
      "       83/1    0.35565    0.36360 +/- 0.00131\n",
      "       84/1    0.36902    0.36367 +/- 0.00129\n",
      "       85/1    0.36607    0.36370 +/- 0.00128\n",
      "       86/1    0.35523    0.36359 +/- 0.00127\n",
      "       87/1    0.38251    0.36384 +/- 0.00127\n",
      "       88/1    0.36575    0.36386 +/- 0.00126\n",
      "       89/1    0.35643    0.36377 +/- 0.00124\n",
      "       90/1    0.36464    0.36378 +/- 0.00123\n"
     ]
    },
    {
     "name": "stdout",
     "output_type": "stream",
     "text": [
      "       91/1    0.36379    0.36378 +/- 0.00121\n",
      "       92/1    0.37030    0.36386 +/- 0.00120\n",
      "       93/1    0.36556    0.36388 +/- 0.00119\n",
      "       94/1    0.39963    0.36430 +/- 0.00125\n",
      "       95/1    0.37369    0.36441 +/- 0.00124\n",
      "       96/1    0.37141    0.36449 +/- 0.00123\n",
      "       97/1    0.36872    0.36454 +/- 0.00121\n",
      "       98/1    0.37599    0.36467 +/- 0.00121\n",
      "       99/1    0.38600    0.36491 +/- 0.00122\n",
      "      100/1    0.36745    0.36494 +/- 0.00120\n",
      " Creating state point statepoint.100.h5...\n",
      "\n",
      " =======================>     TIMING STATISTICS     <=======================\n",
      "\n",
      " Total time for initialization     = 4.6179e+00 seconds\n",
      "   Reading cross sections          = 4.5650e+00 seconds\n",
      " Total time in simulation          = 1.2380e+01 seconds\n",
      "   Time in transport only          = 1.2340e+01 seconds\n",
      "   Time in inactive batches        = 1.1459e+00 seconds\n",
      "   Time in active batches          = 1.1234e+01 seconds\n",
      "   Time synchronizing fission bank = 1.6836e-02 seconds\n",
      "     Sampling source sites         = 1.3449e-02 seconds\n",
      "     SEND/RECV source sites        = 3.2980e-03 seconds\n",
      "   Time accumulating tallies       = 1.4600e-04 seconds\n",
      "   Time writing statepoints        = 4.2660e-03 seconds\n",
      " Total time for finalization       = 5.0000e-06 seconds\n",
      " Total time elapsed                = 1.7078e+01 seconds\n",
      " Calculation Rate (inactive)       = 43632.5 particles/second\n",
      " Calculation Rate (active)         = 40055.6 particles/second\n",
      "\n",
      " ============================>     RESULTS     <============================\n",
      "\n",
      " k-effective (Collision)     = 0.36479 +/- 0.00104\n",
      " k-effective (Track-length)  = 0.36494 +/- 0.00120\n",
      " k-effective (Absorption)    = 0.36468 +/- 0.00113\n",
      " Combined k-effective        = 0.36475 +/- 0.00094\n",
      " Leakage Fraction            = 0.27198 +/- 0.00064\n",
      "\n"
     ]
    }
   ],
   "source": [
    "openmc.run()"
   ]
  }
 ],
 "metadata": {
  "colab": {
   "name": "VVER.ipynb",
   "provenance": []
  },
  "kernelspec": {
   "display_name": "Python 3",
   "language": "python",
   "name": "python3"
  },
  "language_info": {
   "codemirror_mode": {
    "name": "ipython",
    "version": 3
   },
   "file_extension": ".py",
   "mimetype": "text/x-python",
   "name": "python",
   "nbconvert_exporter": "python",
   "pygments_lexer": "ipython3",
   "version": "3.9.0"
  }
 },
 "nbformat": 4,
 "nbformat_minor": 1
}
