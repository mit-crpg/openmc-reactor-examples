{
 "cells": [
  {
   "cell_type": "code",
   "execution_count": null,
   "metadata": {
    "colab": {
     "base_uri": "https://localhost:8080/"
    },
    "id": "7SVc4tVhUN8l",
    "outputId": "91d742b3-4226-4a1c-e1a6-51bbde0949e3"
   },
   "outputs": [],
   "source": [
    "#Add google drive\n",
    "from google.colab import drive\n",
    "drive.mount('/gdrive')"
   ]
  },
  {
   "cell_type": "code",
   "execution_count": null,
   "metadata": {
    "colab": {
     "base_uri": "https://localhost:8080/"
    },
    "id": "FAPWsAyWUQPU",
    "outputId": "33227827-deec-4865-d12e-46700541afc4"
   },
   "outputs": [],
   "source": [
    "#Add link to shared cross section library\n",
    "#shared library was added as a shortcut to My Drive from the web interface\n",
    "%env OPENMC_CROSS_SECTIONS = /gdrive/My Drive/data/endfb71_hdf5/cross_sections.xml"
   ]
  },
  {
   "cell_type": "code",
   "execution_count": null,
   "metadata": {
    "colab": {
     "base_uri": "https://localhost:8080/"
    },
    "id": "MSco_CdPTtof",
    "outputId": "4af58367-b6c1-4d3f-8718-5b5a36e825dd"
   },
   "outputs": [],
   "source": [
    "#Download miniconda and install\n",
    "! wget https://repo.anaconda.com/miniconda/Miniconda3-py37_4.8.2-Linux-x86_64.sh\n",
    "! chmod +x Miniconda3-py37_4.8.2-Linux-x86_64.sh\n",
    "! bash ./Miniconda3-py37_4.8.2-Linux-x86_64.sh -b -f -p /usr/local\n",
    "import sys\n",
    "sys.path.append('/usr/local/lib/python3.7/site-packages/')"
   ]
  },
  {
   "cell_type": "code",
   "execution_count": null,
   "metadata": {
    "colab": {
     "base_uri": "https://localhost:8080/"
    },
    "id": "kwx8PR3ETzpe",
    "outputId": "ea3200e0-be84-405f-c198-074c15c11dd2"
   },
   "outputs": [],
   "source": [
    "# Install OpenMC\n",
    "!conda config --add channels conda-forge\n",
    "!conda install openmc -y"
   ]
  },
  {
   "cell_type": "code",
   "execution_count": 1,
   "metadata": {
    "id": "BpmPdBBHTz2E"
   },
   "outputs": [],
   "source": [
    "import openmc"
   ]
  },
  {
   "cell_type": "code",
   "execution_count": null,
   "metadata": {
    "id": "xrSgUGWRTz65"
   },
   "outputs": [],
   "source": [
    "%matplotlib inline"
   ]
  },
  {
   "cell_type": "code",
   "execution_count": null,
   "metadata": {
    "id": "fZXp2uZfW7FU"
   },
   "outputs": [],
   "source": [
    "#I will building a mini vver pin-cell. "
   ]
  },
  {
   "cell_type": "markdown",
   "metadata": {
    "id": "cUAewNSWaJOH"
   },
   "source": [
    "This week tasks"
   ]
  },
  {
   "cell_type": "code",
   "execution_count": null,
   "metadata": {
    "colab": {
     "base_uri": "https://localhost:8080/",
     "height": 157
    },
    "id": "QSUBW-m-W7kr",
    "outputId": "4659ede0-8142-4bd4-c99b-34b475a0137e"
   },
   "outputs": [],
   "source": [
    "\"\"\" \n",
    " \n",
    "Use the openmc.model.pin function (https://docs.openmc.org/en/latest/pythonapi/generated/openmc.model.pin.html?highlight=openmc.model#openmc-model-pin)\n",
    "Use the openmc.model.hex_prism or rect_prism functions when applicable\n",
    "Use the borated water function (even if you need to set boron to 0ppm, this function will automatically lookup water properties for the temperature you give it)\n",
    "Clean you your models of pins and assemblies (or small cores), and identify places to simplify the input\n",
    " \n",
    "And here is a list of simpler functions that we can start working  on:\n",
    " \n",
    "Add Gd2O3 calculations to the uranium enrichment function (we can also add Erbium, Dysprosium , …)\n",
    "Add models for IFBA, WABA, …\n",
    "Add pre-defined structural materials\n",
    "Create/use the lattice acceleration method for non-TRISO geometries (TRIGA and RBMK)\n",
    "Use CMFD for non Cartesian geometries\n",
    "Function to create circular lattices like RBMK, CANDU\n",
    "Function to create a BWR box with thin/thick geometry\n",
    "Function to position control rod height\n",
    "Function to create tallies for breeding ratio, fissile inventory ratio\n",
    "Functions for thermodynamic properties of other coolants (Sodium, He, Heavy water, …)\n",
    "\"\"\""
   ]
  },
  {
   "cell_type": "markdown",
   "metadata": {
    "id": "si3Z6zOqaWKs"
   },
   "source": [
    "VVER sheet"
   ]
  },
  {
   "cell_type": "code",
   "execution_count": 2,
   "metadata": {
    "colab": {
     "base_uri": "https://localhost:8080/"
    },
    "id": "TBEO1_TrW7up",
    "outputId": "f6c529e7-05aa-4e22-de7a-2d2ffc9c9421"
   },
   "outputs": [],
   "source": [
    "# defining materials for 4 types of pincells. \n",
    "#fuels\n",
    "au13=openmc.Material(name='13au',material_id=1)\n",
    "au13.add_element('U',1.0,enrichment=1.3)\n",
    "au13.add_element('O',2.0)\n",
    "au13.set_density('g/cc', 10.4)\n",
    "\n",
    "au22=openmc.Material(name='13au',material_id=2)\n",
    "au22.add_element('U',1.0,enrichment=2.2)\n",
    "au22.add_element('O',2.0)\n",
    "au22.set_density('g/cc', 10.4)\n",
    "\n",
    "av5=openmc.Material(name='30av5u',material_id=3)\n",
    "av5.add_element('U',1.0,enrichment=3.0)\n",
    "av5.add_element('O',2.0)\n",
    "av5.set_density('g/cc', 10.4)\n",
    "\n",
    "awu=openmc.Material(name='39awu',material_id=4)\n",
    "awu.add_element('U',1.0,enrichment=3.3)\n",
    "awu.add_element('O',2.0)\n",
    "awu.set_density('g/cc', 10.4)\n",
    "\n",
    "go=openmc.Material(name='390go',material_id=5)\n",
    "go.add_element('U',1.0,enrichment=4.0)\n",
    "go.add_element('O',2.0)\n",
    "go.set_density('g/cc', 10.4)\n",
    "\n",
    "Gd2O3=openmc.Material(name='Gd2O3',material_id=6)\n",
    "Gd2O3.add_element('Gd',2.0)#>>>? Gd153\n",
    "Gd2O3.add_element('O',3.0)\n",
    "Gd2O3.set_density('g/cm3',7.41)\n",
    "\n",
    "#moderator\n",
    "water = openmc.Material(name='water',material_id=7)\n",
    "water.add_nuclide('H1', 2.0)\n",
    "water.add_nuclide('O16', 1.0)\n",
    "water.set_density('g/cm3', 1.0)\n",
    "water.add_s_alpha_beta('c_H_in_H2O')\n",
    "\n",
    "#clad\n",
    "zirconium = openmc.Material(name=\"zirconium\",material_id=8)\n",
    "zirconium.add_element('Zr', 1.0)\n",
    "zirconium.set_density('g/cm3', 6.6)\n",
    "\n",
    "niobium=openmc.Material(name='niobium',material_id=9)\n",
    "niobium.add_element('Nb',1.0)\n",
    "niobium.set_density('g/cm3',8.57)\n",
    "\n",
    "#gap\n",
    "helium=openmc.Material(name='Helium',material_id=10)\n",
    "helium.add_element('He',1.0)\n",
    "helium.set_density('g/cm3',0.178*10**(-3))\n",
    "\n",
    "#reflector\n",
    "reflector_mat = openmc.Material(material_id=12)\n",
    "reflector_mat.add_nuclide('Be9',1.0)\n",
    "reflector_mat.add_nuclide('O16',1.0)\n",
    "reflector_mat.set_density('g/cm3',2.9)"
   ]
  },
  {
   "cell_type": "code",
   "execution_count": 3,
   "metadata": {
    "id": "-VU_fMs2W751"
   },
   "outputs": [],
   "source": [
    "#preparing mixtures\n",
    "alloy=openmc.Material.mix_materials([niobium, zirconium],[0.01, 0.99],'wo')\n",
    "fuel_awu = openmc.Material.mix_materials([Gd2O3, awu], [0.05, 0.95], 'wo')\n",
    "fuel_go = openmc.Material.mix_materials([Gd2O3, go], [0.05, 0.95], 'wo')"
   ]
  },
  {
   "cell_type": "code",
   "execution_count": 4,
   "metadata": {
    "id": "116XndltahRq"
   },
   "outputs": [],
   "source": [
    "# Instantiate a Materials collection\n",
    "materials_file = openmc.Materials([au13, au22, av5, fuel_awu, fuel_go, water, alloy, helium, reflector_mat])\n",
    "\n",
    "# Export to \"materials.xml\"\n",
    "materials_file.export_to_xml()"
   ]
  },
  {
   "cell_type": "code",
   "execution_count": 5,
   "metadata": {
    "colab": {
     "base_uri": "https://localhost:8080/"
    },
    "id": "htyVmeh8ahca",
    "outputId": "20ecf082-9e37-4dc4-f987-cd42a1948e1c"
   },
   "outputs": [],
   "source": [
    "# Designing General Geometry\n",
    "\n",
    "# boudries and outer universe\n",
    "all_water_out=openmc.Cell(cell_id=200,fill=water)\n",
    "\n",
    "# top & bottom of the assembly \n",
    "assembly_z0 = openmc.ZPlane(surface_id=300,z0=-75)\n",
    "assembly_z1 = openmc.ZPlane(surface_id=301, z0=75)\n",
    "assembly = openmc.model.hexagonal_prism(edge_length=18, orientation='y')\n",
    "\n",
    "# top & bottom of the reflector\n",
    "reflector_z0 = openmc.ZPlane(surface_id=303,z0=-95, boundary_type='vacuum')\n",
    "reflector_z1 = openmc.ZPlane(surface_id=304,z0=95, boundary_type='vacuum')\n",
    "\n",
    "# reflector hexagon\n",
    "reflector = openmc.model.hexagonal_prism(edge_length=19, orientation='y',\n",
    "    boundary_type='vacuum')\n",
    "\n",
    "assembly_cell = openmc.Cell()\n",
    "reflect_cell = openmc.Cell()\n",
    "top_reflect_cell = openmc.Cell()\n",
    "bot_reflect_cell = openmc.Cell()\n"
   ]
  },
  {
   "cell_type": "code",
   "execution_count": 6,
   "metadata": {
    "id": "ku5Yp2wzyXTg"
   },
   "outputs": [],
   "source": [
    "\n",
    "#regions\n",
    "\n",
    "assembly_cell.region = assembly & -assembly_z1 & +assembly_z0\n",
    "\n",
    "reflect_cell.region = ~assembly & reflector \\\n",
    "& -assembly_z1 & +assembly_z0\n",
    "\n",
    "top_reflect_cell.region = reflector & +assembly_z1 & -reflector_z1\n",
    "\n",
    "bot_reflect_cell.region = reflector & -assembly_z0 & +reflector_z0\n",
    "\n",
    "reflect_cell.fill = reflector_mat\n",
    "top_reflect_cell.fill = reflector_mat\n",
    "bot_reflect_cell.fill = reflector_mat\n",
    "\n",
    "#turn cell to universe to make it easier\n",
    "all_water_out_u=openmc.Universe(cells=[all_water_out])\n",
    "u_reflect = openmc.Universe(cells=(reflect_cell,top_reflect_cell,bot_reflect_cell))\n",
    "u_root = openmc.Universe()\n"
   ]
  },
  {
   "cell_type": "code",
   "execution_count": 7,
   "metadata": {
    "colab": {
     "base_uri": "https://localhost:8080/",
     "height": 286
    },
    "id": "Sl9zZQjpahiO",
    "outputId": "dbbad02d-0f40-4689-fdb7-af90e0b60b53"
   },
   "outputs": [],
   "source": [
    "# centeral tube >> water\n",
    "\n",
    "fuel_or1 = openmc.ZCylinder(surface_id=400, r=0.3765)\n",
    "clad_ir1 = openmc.ZCylinder(surface_id=401, r=0.4)\n",
    "clad_or1 = openmc.ZCylinder(surface_id=402, r=0.465)\n",
    "\n",
    "fuel_region1 = -fuel_or1 & -assembly_z1 & +assembly_z0\n",
    "clad_region1 = +fuel_or1 & -clad_or1 & -assembly_z1 & +assembly_z0\n",
    "\n",
    "moderator_region1 = +clad_or1 & -assembly_z1 & +assembly_z0 \n",
    "\n",
    "fuel_cell1  = openmc.Cell(cell_id=400, fill=water, region=fuel_region1)\n",
    "cladcell1   = openmc.Cell(cell_id=401, fill=alloy, region=clad_region1)\n",
    "water_cell1 = openmc.Cell(cell_id=402, fill=water, region=moderator_region1)\n",
    "\n",
    "central_tube_u = openmc.Universe(cells=[fuel_cell1,cladcell1,water_cell1])"
   ]
  },
  {
   "cell_type": "code",
   "execution_count": 8,
   "metadata": {
    "colab": {
     "base_uri": "https://localhost:8080/",
     "height": 286
    },
    "id": "s9WlvAAxahlm",
    "outputId": "172bc8df-6006-44b8-e8e1-41142ef675ea"
   },
   "outputs": [],
   "source": [
    "# geometry of 13 au\n",
    "\n",
    "fuel_or2 = openmc.ZCylinder(surface_id=410, r=0.3765)\n",
    "clad_ir2 = openmc.ZCylinder(surface_id=411, r=0.4)\n",
    "clad_or2 = openmc.ZCylinder(surface_id=412, r=0.465)\n",
    "\n",
    "fuel_region2 = -fuel_or2 & -assembly_z1 & +assembly_z0\n",
    "gap_region2  = +fuel_or2 & -clad_ir2 & -assembly_z1 & +assembly_z0\n",
    "clad_region2 = +clad_ir2 & -clad_or2 & -assembly_z1 & +assembly_z0\n",
    "\n",
    "moderator_region2 = +clad_or2 & -assembly_z1 & +assembly_z0 \n",
    "\n",
    "fuel_cell2  = openmc.Cell(cell_id=410, fill=au13,   region=fuel_region2)\n",
    "gap_cell2   = openmc.Cell(cell_id=411, fill=helium, region=gap_region2)\n",
    "cladcell2   = openmc.Cell(cell_id=412, fill=alloy,  region=clad_region2)\n",
    "water_cell2 = openmc.Cell(cell_id=413, fill=water,  region=moderator_region2)\n",
    "\n",
    "au13_u = openmc.Universe(cells=[fuel_cell2,gap_cell2,cladcell2,water_cell2])\n",
    "\n",
    "# geom = openmc.Geometry(au13_u)\n",
    "# geom.export_to_xml()\n",
    "# au13_u.plot(colors={water_cell2:'blue'},width=(3,3))"
   ]
  },
  {
   "cell_type": "code",
   "execution_count": null,
   "metadata": {
    "id": "WNVVIWsVX7ZC"
   },
   "outputs": [],
   "source": []
  },
  {
   "cell_type": "code",
   "execution_count": null,
   "metadata": {
    "colab": {
     "base_uri": "https://localhost:8080/",
     "height": 1000
    },
    "id": "5zkcuQLqYACu",
    "outputId": "885e4465-f684-4e59-a707-557b7f5062a2"
   },
   "outputs": [],
   "source": []
  },
  {
   "cell_type": "code",
   "execution_count": 9,
   "metadata": {
    "id": "zVCVJ9IHahot"
   },
   "outputs": [],
   "source": [
    "#geometry of 22 au\n",
    "\n",
    "fuel_or3 = openmc.ZCylinder(surface_id=420, r=0.3765)\n",
    "clad_ir3 = openmc.ZCylinder(surface_id=421, r=0.4)\n",
    "clad_or3 = openmc.ZCylinder(surface_id=422, r=0.465)\n",
    "\n",
    "fuel_region3 = -fuel_or3 & -assembly_z1 & +assembly_z0\n",
    "gap_region3  = +fuel_or3 & -clad_ir3 & -assembly_z1 & +assembly_z0\n",
    "clad_region3 = +clad_ir3 & -clad_or3 & -assembly_z1 & +assembly_z0\n",
    "\n",
    "moderator_region3 = +clad_or3 & -assembly_z1 & +assembly_z0 \n",
    "\n",
    "fuel_cell3  = openmc.Cell(cell_id=420, fill=au22,   region=fuel_region3)\n",
    "gap_cell3   = openmc.Cell(cell_id=421, fill=helium, region=gap_region3)\n",
    "cladcell3   = openmc.Cell(cell_id=422, fill=alloy,  region=clad_region3)\n",
    "water_cell3 = openmc.Cell(cell_id=423, fill=water,  region=moderator_region3)\n",
    "\n",
    "au22_u = openmc.Universe(cells=[fuel_cell3,gap_cell3,cladcell3,water_cell3])\n",
    "\n",
    "# geom = openmc.Geometry(au22_u)\n",
    "# geom.export_to_xml()\n",
    "# au22_u.plot(colors={water_cell3:'blue'},width=(3,3))"
   ]
  },
  {
   "cell_type": "code",
   "execution_count": 10,
   "metadata": {
    "id": "3MlM4EUuahu9"
   },
   "outputs": [],
   "source": [
    "#geometry av5\n",
    "\n",
    "fuel_or4 = openmc.ZCylinder(surface_id=430, r=0.3765)\n",
    "clad_ir4 = openmc.ZCylinder(surface_id=431, r=0.4)\n",
    "clad_or4 = openmc.ZCylinder(surface_id=432, r=0.465)\n",
    "\n",
    "fuel_region4 = -fuel_or4 & -assembly_z1 & +assembly_z0\n",
    "gap_region4  = +fuel_or4 & -clad_ir4 & -assembly_z1 & +assembly_z0\n",
    "clad_region4 = +clad_ir4 & -clad_or4 & -assembly_z1 & +assembly_z0\n",
    "\n",
    "moderator_region4 = +clad_or4 & -assembly_z1 & +assembly_z0 \n",
    "\n",
    "fuel_cell4  = openmc.Cell(cell_id=430, fill=av5,    region=fuel_region4)\n",
    "gap_cell4   = openmc.Cell(cell_id=431, fill=helium, region=gap_region4)\n",
    "cladcell4   = openmc.Cell(cell_id=432, fill=alloy,  region=clad_region4)\n",
    "water_cell4 = openmc.Cell(cell_id=433, fill=water,  region=moderator_region4)\n",
    "\n",
    "av5_u = openmc.Universe(cells=[fuel_cell4,gap_cell4,cladcell4,water_cell4])\n",
    "\n",
    "# geom = openmc.Geometry(av5_u)\n",
    "# geom.export_to_xml()\n",
    "# av5_u.plot(colors={water_cell4:'blue'},width=(3,3))"
   ]
  },
  {
   "cell_type": "code",
   "execution_count": 11,
   "metadata": {
    "id": "Ks9nRXR4ah45"
   },
   "outputs": [],
   "source": [
    "#geometry of awu\n",
    "\n",
    "fuel_or5 = openmc.ZCylinder(surface_id=440, r=0.3765)\n",
    "clad_ir5 = openmc.ZCylinder(surface_id=441, r=0.4)\n",
    "clad_or5 = openmc.ZCylinder(surface_id=442, r=0.465)\n",
    "\n",
    "fuel_region5 = -fuel_or5 & -assembly_z1 & +assembly_z0\n",
    "gap_region5  = +fuel_or5 & -clad_ir5 & -assembly_z1 & +assembly_z0\n",
    "clad_region5 = +clad_ir5 & -clad_or5 & -assembly_z1 & +assembly_z0\n",
    "\n",
    "moderator_region5 = +clad_or5 & -assembly_z1 & +assembly_z0 \n",
    "\n",
    "fuel_cell5  =openmc.Cell(cell_id=440, fill=fuel_awu, region=fuel_region5)\n",
    "gap_cell5   =openmc.Cell(cell_id=441, fill=helium,   region=gap_region5)\n",
    "cladcell5   =openmc.Cell(cell_id=442, fill=alloy,    region=clad_region5)\n",
    "water_cell5 =openmc.Cell(cell_id=443, fill=water,    region=moderator_region5)\n",
    "\n",
    "awu_u = openmc.Universe(cells=[fuel_cell5,gap_cell5,cladcell5,water_cell5])\n",
    "\n",
    "# geom = openmc.Geometry(awu_u)\n",
    "# geom.export_to_xml()\n",
    "# awu_u.plot(colors={water_cell5:'blue'},width=(3,3))"
   ]
  },
  {
   "cell_type": "code",
   "execution_count": 12,
   "metadata": {
    "id": "NV8O7-cZaiuX"
   },
   "outputs": [],
   "source": [
    "#geometry of go\n",
    "\n",
    "fuel_or6 = openmc.ZCylinder(surface_id=450, r=0.3765)\n",
    "clad_ir6 = openmc.ZCylinder(surface_id=451, r=0.4)\n",
    "clad_or6 = openmc.ZCylinder(surface_id=452, r=0.465)\n",
    "\n",
    "fuel_region6 = -fuel_or6 & -assembly_z1 & +assembly_z0\n",
    "gap_region6  = +fuel_or6 & -clad_ir6 & -assembly_z1 & +assembly_z0\n",
    "clad_region6 = +clad_ir6 & -clad_or6 & -assembly_z1 & +assembly_z0\n",
    "\n",
    "moderator_region6 = +clad_or6 & -assembly_z1 & +assembly_z0 \n",
    "\n",
    "fuel_cell6  = openmc.Cell(cell_id=450, fill=fuel_go, region=fuel_region6)\n",
    "gap_cell6   = openmc.Cell(cell_id=451, fill=helium,  region=gap_region6)\n",
    "cladcell6   = openmc.Cell(cell_id=452, fill=alloy,   region=clad_region6)\n",
    "water_cell6 = openmc.Cell(cell_id=453, fill=water,   region=moderator_region6)\n",
    "\n",
    "go_u = openmc.Universe(cells=[fuel_cell6,gap_cell6,cladcell6,water_cell6])\n",
    "\n",
    "# geom = openmc.Geometry(go_u)\n",
    "# geom.export_to_xml()\n",
    "# go_u.plot(colors={water_cell6:'blue'},width=(3,3))"
   ]
  },
  {
   "cell_type": "markdown",
   "metadata": {
    "id": "HeoI2kt_a-VA"
   },
   "source": [
    "Reactor core:/"
   ]
  },
  {
   "cell_type": "code",
   "execution_count": 13,
   "metadata": {
    "colab": {
     "base_uri": "https://localhost:8080/"
    },
    "id": "Lnnkq16Oaisk",
    "outputId": "676d78e5-ddf5-4fd9-b6b0-8e432a33a1da"
   },
   "outputs": [],
   "source": [
    "# we have 163 pincell, .... \n",
    "\"\"\"\n",
    " Number of assemblies\n",
    "13au 48\n",
    "22au 42 \n",
    "30av5 37 \n",
    "39awu 24 \n",
    "390go 12\n",
    "\"\"\"\n",
    "lat=openmc.HexLattice(name='assembly')\n",
    "lat.center = (0., 0.)\n",
    "lat.pitch = (1.275,)###\n",
    "lat.outer=all_water_out_u\n",
    "\n",
    "#lat.outer = u_monolith\n",
    "#lat.orientation='x'\n",
    "# print(lat.show_indices(7,orientation='x')) # with 7 cycles we would have 169 pincell, but we know that 6 pincell are removed according to graphs."
   ]
  },
  {
   "cell_type": "code",
   "execution_count": 14,
   "metadata": {
    "id": "0wD6nzv-aihX"
   },
   "outputs": [],
   "source": [
    "#ring8=[central_tube_u]*48\n",
    "#ring7=[awu_u, awu_u, go_u, centeral_tube_u, go_u, awu_u, awu_u]*6\n",
    "ring7=[awu_u, awu_u, go_u,awu_u, go_u, awu_u, awu_u]*6\n",
    "\n",
    "#ring7=[au22_u, au13_u, au22_u, av5_u, av5_u,au13_u, av5_u]*6\n",
    "ring6= [au22_u, av5_u, au22_u,\n",
    "        av5_u, au22_u, av5_u,\n",
    "        au13_u,av5_u, au22_u,\n",
    "        av5_u,au22_u,av5_u,\n",
    "        au22_u,av5_u,au22_u,\n",
    "        av5_u,au22_u,av5_u,\n",
    "        au22_u,av5_u,au22_u,\n",
    "        av5_u,au22_u,av5_u,\n",
    "        au13_u,av5_u,au22_u,\n",
    "        av5_u,au22_u,av5_u,\n",
    "        au13_u,av5_u,au22_u,\n",
    "        av5_u,au22_u,av5_u]\n",
    "ring5= [au13_u, au13_u, au22_u, au13_u, au13_u]*6\n",
    "ring4=[au22_u, av5_u, au13_u, av5_u]*6\n",
    "ring3=[au13_u, au22_u, au13_u]*6\n",
    "ring2=[au22_u, av5_u]*6\n",
    "ring1=[au13_u]*6\n",
    "ring0=[central_tube_u]\n",
    "lat.universes = [ring7, ring6, ring5, ring4, ring3, ring2, ring1, ring0]\n",
    "lat.orientation='y'"
   ]
  },
  {
   "cell_type": "code",
   "execution_count": 15,
   "metadata": {
    "colab": {
     "base_uri": "https://localhost:8080/",
     "height": 282
    },
    "id": "3qjNGajDaifZ",
    "outputId": "d5c8cad5-7430-4fb7-8bb1-7930f82841c0"
   },
   "outputs": [
    {
     "data": {
      "text/plain": [
       "<matplotlib.image.AxesImage at 0x131728f40>"
      ]
     },
     "execution_count": 15,
     "metadata": {},
     "output_type": "execute_result"
    },
    {
     "data": {
      "image/png": "[encoded data removed]",
      "text/plain": [
       "<Figure size 432x288 with 1 Axes>"
      ]
     },
     "metadata": {
      "needs_background": "light"
     },
     "output_type": "display_data"
    }
   ],
   "source": [
    "#outer_surface=openmc.model.hexagonal_prism(edge_length=18, orientation='y')\n",
    "#main_assembly = openmc.Cell(fill=lat, region=outer_surface)\n",
    "#main_u=openmc.Universe(cells=[main_assembly])\n",
    "\n",
    "assembly_cell.fill = lat\n",
    "\n",
    "u_root.add_cells([assembly_cell, reflect_cell, top_reflect_cell, bot_reflect_cell])\n",
    "geom=openmc.Geometry(u_root)\n",
    "geom.export_to_xml()\n",
    "\n",
    "u_root.plot(origin=(0,0,0),width=(25,25),color_by='material',colors={water:'blue'},pixels=[400,400])\n",
    "#u_root.plot(origin=(0,0,0),width=(25,25),color_by='material',pixels=[400,400])"
   ]
  },
  {
   "cell_type": "code",
   "execution_count": 24,
   "metadata": {
    "colab": {
     "base_uri": "https://localhost:8080/",
     "height": 282
    },
    "id": "j7GDiLQtBY1m",
    "outputId": "0e5753e6-eeda-43d1-c137-12d17b1b8c67"
   },
   "outputs": [
    {
     "data": {
      "text/plain": [
       "<matplotlib.image.AxesImage at 0x1230dcbe0>"
      ]
     },
     "execution_count": 24,
     "metadata": {},
     "output_type": "execute_result"
    },
    {
     "data": {
      "image/png": "[encoded data removed]",
      "text/plain": [
       "<Figure size 432x288 with 1 Axes>"
      ]
     },
     "metadata": {
      "needs_background": "light"
     },
     "output_type": "display_data"
    }
   ],
   "source": [
    "u_root.plot(basis='yz',origin=(0,0,0),width=(50,50),color_by='material',colors={water:'blue'},pixels=[200,200])"
   ]
  },
  {
   "cell_type": "code",
   "execution_count": 16,
   "metadata": {
    "id": "EzaW9J5l8vRP"
   },
   "outputs": [],
   "source": [
    "#######################\n",
    "# Run Settings\n",
    "######################\n",
    "\n",
    "uniform_dist = openmc.stats.Box([-24,-24,-75],[24,24,75],only_fissionable=True)\n",
    "\n",
    "settings = openmc.Settings()\n",
    "settings.seed = 1\n",
    "settings.batches = 200\n",
    "settings.inactive = 100\n",
    "settings.particles = 100\n",
    "settings.source = openmc.source.Source(space=uniform_dist)\n",
    "settings.export_to_xml()\n"
   ]
  },
  {
   "cell_type": "code",
   "execution_count": null,
   "metadata": {
    "colab": {
     "base_uri": "https://localhost:8080/"
    },
    "id": "M1srutOk9v2H",
    "outputId": "bf6f1cac-9f8b-438c-b5fe-fb6fd3fd6a8e"
   },
   "outputs": [],
   "source": [
    "\n",
    "#openmc.run()\n",
    "!cat materials.xml\n"
   ]
  },
  {
   "cell_type": "code",
   "execution_count": null,
   "metadata": {
    "id": "5lBbY0jiaibW"
   },
   "outputs": [],
   "source": [
    "# for control rodes \n",
    "#materials for rodes\n",
    "def insert_rode(pitch,rode_type)\n",
    "  "
   ]
  },
  {
   "cell_type": "code",
   "execution_count": 17,
   "metadata": {
    "colab": {
     "base_uri": "https://localhost:8080/",
     "height": 1000
    },
    "id": "mzhyBvEOaiR8",
    "outputId": "bb783e58-6ac3-4193-e64a-818bf9c0fa6d"
   },
   "outputs": [
    {
     "name": "stdout",
     "output_type": "stream",
     "text": [
      "                                %%%%%%%%%%%%%%%\n",
      "                           %%%%%%%%%%%%%%%%%%%%%%%%\n",
      "                        %%%%%%%%%%%%%%%%%%%%%%%%%%%%%%\n",
      "                      %%%%%%%%%%%%%%%%%%%%%%%%%%%%%%%%%%\n",
      "                    %%%%%%%%%%%%%%%%%%%%%%%%%%%%%%%%%%%%%%\n",
      "                   %%%%%%%%%%%%%%%%%%%%%%%%%%%%%%%%%%%%%%%%\n",
      "                                    %%%%%%%%%%%%%%%%%%%%%%%%\n",
      "                                     %%%%%%%%%%%%%%%%%%%%%%%%\n",
      "                 ###############      %%%%%%%%%%%%%%%%%%%%%%%%\n",
      "                ##################     %%%%%%%%%%%%%%%%%%%%%%%\n",
      "                ###################     %%%%%%%%%%%%%%%%%%%%%%%\n",
      "                ####################     %%%%%%%%%%%%%%%%%%%%%%\n",
      "                #####################     %%%%%%%%%%%%%%%%%%%%%\n",
      "                ######################     %%%%%%%%%%%%%%%%%%%%\n",
      "                #######################     %%%%%%%%%%%%%%%%%%\n",
      "                 #######################     %%%%%%%%%%%%%%%%%\n",
      "                 ######################     %%%%%%%%%%%%%%%%%\n",
      "                  ####################     %%%%%%%%%%%%%%%%%\n",
      "                    #################     %%%%%%%%%%%%%%%%%\n",
      "                     ###############     %%%%%%%%%%%%%%%%\n",
      "                       ############     %%%%%%%%%%%%%%%\n",
      "                          ########     %%%%%%%%%%%%%%\n",
      "                                      %%%%%%%%%%%\n",
      "\n",
      "                   | The OpenMC Monte Carlo Code\n",
      "         Copyright | 2011-2020 MIT and OpenMC contributors\n",
      "           License | https://docs.openmc.org/en/latest/license.html\n",
      "           Version | 0.12.1-dev\n",
      "          Git SHA1 | 8ba606c47a46ca75c82506bd5c1ad0660c23c7b6\n",
      "         Date/Time | 2020-12-11 17:02:45\n",
      "    OpenMP Threads | 8\n",
      "\n",
      " Reading settings XML file...\n",
      " Reading cross sections XML file...\n",
      " Reading materials XML file...\n",
      " Reading geometry XML file...\n",
      " Reading U234 from /Users/miriamrathbun/codes/nndc_hdf5/U234.h5\n",
      " Reading U235 from /Users/miriamrathbun/codes/nndc_hdf5/U235.h5\n",
      " Reading U238 from /Users/miriamrathbun/codes/nndc_hdf5/U238.h5\n",
      " Reading U236 from /Users/miriamrathbun/codes/nndc_hdf5/U236.h5\n",
      " Reading O16 from /Users/miriamrathbun/codes/nndc_hdf5/O16.h5\n",
      " Reading O17 from /Users/miriamrathbun/codes/nndc_hdf5/O17.h5\n",
      " Reading H1 from /Users/miriamrathbun/codes/nndc_hdf5/H1.h5\n",
      " Reading He3 from /Users/miriamrathbun/codes/nndc_hdf5/He3.h5\n",
      " Reading He4 from /Users/miriamrathbun/codes/nndc_hdf5/He4.h5\n",
      " Reading Nb93 from /Users/miriamrathbun/codes/nndc_hdf5/Nb93.h5\n",
      " Reading Zr90 from /Users/miriamrathbun/codes/nndc_hdf5/Zr90.h5\n",
      " Reading Zr91 from /Users/miriamrathbun/codes/nndc_hdf5/Zr91.h5\n",
      " Reading Zr92 from /Users/miriamrathbun/codes/nndc_hdf5/Zr92.h5\n",
      " Reading Zr94 from /Users/miriamrathbun/codes/nndc_hdf5/Zr94.h5\n",
      " Reading Zr96 from /Users/miriamrathbun/codes/nndc_hdf5/Zr96.h5\n",
      " Reading Be9 from /Users/miriamrathbun/codes/nndc_hdf5/Be9.h5\n",
      " Reading Gd152 from /Users/miriamrathbun/codes/nndc_hdf5/Gd152.h5\n",
      " Reading Gd154 from /Users/miriamrathbun/codes/nndc_hdf5/Gd154.h5\n",
      " Reading Gd155 from /Users/miriamrathbun/codes/nndc_hdf5/Gd155.h5\n",
      " Reading Gd156 from /Users/miriamrathbun/codes/nndc_hdf5/Gd156.h5\n",
      " Reading Gd157 from /Users/miriamrathbun/codes/nndc_hdf5/Gd157.h5\n",
      " Reading Gd158 from /Users/miriamrathbun/codes/nndc_hdf5/Gd158.h5\n",
      " Reading Gd160 from /Users/miriamrathbun/codes/nndc_hdf5/Gd160.h5\n",
      " Reading c_H_in_H2O from /Users/miriamrathbun/codes/nndc_hdf5/c_H_in_H2O.h5\n",
      " Minimum neutron data temperature: 294.0 K\n",
      " Maximum neutron data temperature: 294.0 K\n",
      " Preparing distributed cell instances...\n",
      " Writing summary.h5 file...\n",
      " Maximum neutron transport energy: 20000000.0 eV for U235\n",
      " Initializing source particles...\n",
      "\n",
      " ====================>     K EIGENVALUE SIMULATION     <====================\n",
      "\n",
      "  Bat./Gen.      k            Average k\n",
      "  =========   ========   ====================\n",
      "        1/1    0.21445\n",
      "        2/1    0.36936\n",
      "        3/1    0.37276\n",
      "        4/1    0.36267\n",
      "        5/1    0.31827\n",
      "        6/1    0.31956\n",
      "        7/1    0.35208\n",
      "        8/1    0.31216\n",
      "        9/1    0.48864\n",
      "       10/1    0.33243\n",
      "       11/1    0.23509\n",
      "       12/1    0.35395\n",
      "       13/1    0.34940\n",
      "       14/1    0.46019\n",
      "       15/1    0.23370\n",
      "       16/1    0.39705\n",
      "       17/1    0.31614\n",
      "       18/1    0.31842\n",
      "       19/1    0.46802\n",
      "       20/1    0.48042\n",
      "       21/1    0.27273\n",
      "       22/1    0.44031\n",
      "       23/1    0.34922\n",
      "       24/1    0.19428\n",
      "       25/1    0.32311\n",
      "       26/1    0.27317\n",
      "       27/1    0.51691\n",
      "       28/1    0.35325\n",
      "       29/1    0.29385\n",
      "       30/1    0.27901\n",
      "       31/1    0.30779\n",
      "       32/1    0.46524\n",
      "       33/1    0.31830\n",
      "       34/1    0.37364\n",
      "       35/1    0.41239\n",
      "       36/1    0.30849\n",
      "       37/1    0.29203\n",
      "       38/1    0.34531\n",
      "       39/1    0.33130\n",
      "       40/1    0.50812\n",
      "       41/1    0.32230\n",
      "       42/1    0.17135\n",
      "       43/1    0.33831\n",
      "       44/1    0.38301\n",
      "       45/1    0.36336\n",
      "       46/1    0.33445\n",
      "       47/1    0.34066\n",
      "       48/1    0.42896\n",
      "       49/1    0.31958\n",
      "       50/1    0.38593\n",
      "       51/1    0.35398\n",
      "       52/1    0.37155\n",
      "       53/1    0.40549\n",
      "       54/1    0.39496\n",
      "       55/1    0.34322\n",
      "       56/1    0.34297\n",
      "       57/1    0.39652\n",
      "       58/1    0.40363\n",
      "       59/1    0.28014\n",
      "       60/1    0.41789\n",
      "       61/1    0.36949\n",
      "       62/1    0.32310\n",
      "       63/1    0.30771\n",
      "       64/1    0.28723\n",
      "       65/1    0.35781\n",
      "       66/1    0.48572\n",
      "       67/1    0.27403\n",
      "       68/1    0.37352\n",
      "       69/1    0.31437\n",
      "       70/1    0.50883\n",
      "       71/1    0.37144\n",
      "       72/1    0.41698\n",
      "       73/1    0.42360\n",
      "       74/1    0.41486\n",
      "       75/1    0.35974\n",
      "       76/1    0.38221\n",
      "       77/1    0.38911\n",
      "       78/1    0.42260\n",
      "       79/1    0.34594\n",
      "       80/1    0.32952\n",
      "       81/1    0.48034\n",
      "       82/1    0.41460\n",
      "       83/1    0.56048\n",
      "       84/1    0.44597\n",
      "       85/1    0.38655\n",
      "       86/1    0.31532\n",
      "       87/1    0.38940\n",
      "       88/1    0.43493\n",
      "       89/1    0.37789\n",
      "       90/1    0.40964\n",
      "       91/1    0.34906\n",
      "       92/1    0.38218\n",
      "       93/1    0.39262\n",
      "       94/1    0.36392\n",
      "       95/1    0.45311\n",
      "       96/1    0.42971\n",
      "       97/1    0.41291\n",
      "       98/1    0.33674\n",
      "       99/1    0.36239\n",
      "      100/1    0.36501\n",
      "      101/1    0.31748\n",
      "      102/1    0.42867    0.37308 +/- 0.05559\n",
      "      103/1    0.33183    0.35933 +/- 0.03492\n",
      "      104/1    0.31609    0.34852 +/- 0.02695\n",
      "      105/1    0.48110    0.37504 +/- 0.03375\n",
      "      106/1    0.30235    0.36292 +/- 0.03010\n",
      "      107/1    0.38609    0.36623 +/- 0.02565\n",
      "      108/1    0.26073    0.35304 +/- 0.02584\n",
      "      109/1    0.29627    0.34674 +/- 0.02364\n",
      "      110/1    0.20139    0.33220 +/- 0.02566\n",
      "      111/1    0.42554    0.34069 +/- 0.02471\n",
      "      112/1    0.39842    0.34550 +/- 0.02307\n",
      "      113/1    0.33263    0.34451 +/- 0.02124\n",
      "      114/1    0.35798    0.34547 +/- 0.01969\n",
      "      115/1    0.40985    0.34976 +/- 0.01883\n",
      "      116/1    0.45330    0.35623 +/- 0.01876\n",
      "      117/1    0.35117    0.35594 +/- 0.01763\n",
      "      118/1    0.41710    0.35933 +/- 0.01696\n",
      "      119/1    0.39926    0.36143 +/- 0.01618\n",
      "      120/1    0.38237    0.36248 +/- 0.01539\n",
      "      121/1    0.24513    0.35689 +/- 0.01567\n",
      "      122/1    0.46510    0.36181 +/- 0.01573\n",
      "      123/1    0.33064    0.36046 +/- 0.01509\n",
      "      124/1    0.29669    0.35780 +/- 0.01469\n",
      "      125/1    0.45509    0.36169 +/- 0.01462\n",
      "      126/1    0.46500    0.36566 +/- 0.01459\n",
      "      127/1    0.41897    0.36764 +/- 0.01418\n",
      "      128/1    0.56134    0.37456 +/- 0.01532\n",
      "      129/1    0.46448    0.37766 +/- 0.01510\n",
      "      130/1    0.28032    0.37441 +/- 0.01494\n",
      "      131/1    0.34847    0.37358 +/- 0.01448\n",
      "      132/1    0.18858    0.36779 +/- 0.01516\n",
      "      133/1    0.32218    0.36641 +/- 0.01476\n",
      "      134/1    0.41413    0.36782 +/- 0.01439\n",
      "      135/1    0.39309    0.36854 +/- 0.01399\n",
      "      136/1    0.43313    0.37033 +/- 0.01372\n",
      "      137/1    0.27176    0.36767 +/- 0.01360\n",
      "      138/1    0.48146    0.37066 +/- 0.01357\n",
      "      139/1    0.26458    0.36794 +/- 0.01350\n",
      "      140/1    0.39027    0.36850 +/- 0.01317\n",
      "      141/1    0.46491    0.37085 +/- 0.01306\n",
      "      142/1    0.33179    0.36992 +/- 0.01278\n",
      "      143/1    0.25572    0.36727 +/- 0.01276\n",
      "      144/1    0.54359    0.37127 +/- 0.01309\n",
      "      145/1    0.28138    0.36928 +/- 0.01295\n",
      "      146/1    0.31416    0.36808 +/- 0.01272\n",
      "      147/1    0.39258    0.36860 +/- 0.01246\n",
      "      148/1    0.35834    0.36839 +/- 0.01220\n",
      "      149/1    0.29250    0.36684 +/- 0.01205\n",
      "      150/1    0.25440    0.36459 +/- 0.01202\n",
      "      151/1    0.29195    0.36316 +/- 0.01186\n",
      "      152/1    0.41731    0.36421 +/- 0.01168\n",
      "      153/1    0.25129    0.36207 +/- 0.01165\n",
      "      154/1    0.32544    0.36140 +/- 0.01146\n",
      "      155/1    0.33556    0.36093 +/- 0.01126\n",
      "      156/1    0.35568    0.36083 +/- 0.01105\n",
      "      157/1    0.45752    0.36253 +/- 0.01099\n",
      "      158/1    0.47139    0.36441 +/- 0.01096\n"
     ]
    },
    {
     "name": "stdout",
     "output_type": "stream",
     "text": [
      "      159/1    0.37579    0.36460 +/- 0.01078\n",
      "      160/1    0.34382    0.36425 +/- 0.01060\n",
      "      161/1    0.46415    0.36589 +/- 0.01055\n",
      "      162/1    0.38444    0.36619 +/- 0.01039\n",
      "      163/1    0.38400    0.36647 +/- 0.01022\n",
      "      164/1    0.33748    0.36602 +/- 0.01007\n",
      "      165/1    0.38155    0.36626 +/- 0.00992\n",
      "      166/1    0.27878    0.36493 +/- 0.00986\n",
      "      167/1    0.31949    0.36425 +/- 0.00973\n",
      "      168/1    0.24262    0.36247 +/- 0.00975\n",
      "      169/1    0.35539    0.36236 +/- 0.00961\n",
      "      170/1    0.33345    0.36195 +/- 0.00948\n",
      "      171/1    0.39638    0.36244 +/- 0.00936\n",
      "      172/1    0.43415    0.36343 +/- 0.00928\n",
      "      173/1    0.27590    0.36223 +/- 0.00923\n",
      "      174/1    0.38740    0.36257 +/- 0.00911\n",
      "      175/1    0.38717    0.36290 +/- 0.00900\n",
      "      176/1    0.49158    0.36459 +/- 0.00904\n",
      "      177/1    0.36227    0.36456 +/- 0.00892\n",
      "      178/1    0.35452    0.36443 +/- 0.00881\n",
      "      179/1    0.32555    0.36394 +/- 0.00871\n",
      "      180/1    0.38891    0.36425 +/- 0.00860\n",
      "      181/1    0.48169    0.36570 +/- 0.00862\n",
      "      182/1    0.28321    0.36470 +/- 0.00857\n",
      "      183/1    0.34635    0.36448 +/- 0.00847\n",
      "      184/1    0.48691    0.36593 +/- 0.00850\n",
      "      185/1    0.28803    0.36502 +/- 0.00845\n",
      "      186/1    0.44599    0.36596 +/- 0.00840\n",
      "      187/1    0.32246    0.36546 +/- 0.00832\n",
      "      188/1    0.34061    0.36518 +/- 0.00823\n",
      "      189/1    0.21729    0.36352 +/- 0.00830\n",
      "      190/1    0.46722    0.36467 +/- 0.00829\n",
      "      191/1    0.28485    0.36379 +/- 0.00825\n",
      "      192/1    0.38255    0.36399 +/- 0.00816\n",
      "      193/1    0.28373    0.36313 +/- 0.00812\n",
      "      194/1    0.27519    0.36220 +/- 0.00808\n",
      "      195/1    0.34825    0.36205 +/- 0.00800\n",
      "      196/1    0.38362    0.36227 +/- 0.00792\n",
      "      197/1    0.33426    0.36198 +/- 0.00784\n",
      "      198/1    0.38677    0.36224 +/- 0.00777\n",
      "      199/1    0.49361    0.36356 +/- 0.00780\n",
      "      200/1    0.19400    0.36187 +/- 0.00791\n",
      " Creating state point statepoint.200.h5...\n",
      "\n",
      " =======================>     TIMING STATISTICS     <=======================\n",
      "\n",
      " Total time for initialization     = 3.0758e+00 seconds\n",
      "   Reading cross sections          = 3.0333e+00 seconds\n",
      " Total time in simulation          = 4.8573e-01 seconds\n",
      "   Time in transport only          = 4.7259e-01 seconds\n",
      "   Time in inactive batches        = 2.4436e-01 seconds\n",
      "   Time in active batches          = 2.4137e-01 seconds\n",
      "   Time synchronizing fission bank = 1.2710e-03 seconds\n",
      "     Sampling source sites         = 1.0750e-03 seconds\n",
      "     SEND/RECV source sites        = 1.1700e-04 seconds\n",
      "   Time accumulating tallies       = 1.0700e-04 seconds\n",
      "   Time writing statepoints        = 7.9690e-03 seconds\n",
      " Total time for finalization       = 3.0000e-06 seconds\n",
      " Total time elapsed                = 3.5716e+00 seconds\n",
      " Calculation Rate (inactive)       = 40922.6 particles/second\n",
      " Calculation Rate (active)         = 41430.9 particles/second\n",
      "\n",
      " ============================>     RESULTS     <============================\n",
      "\n",
      " k-effective (Collision)     = 0.36425 +/- 0.00732\n",
      " k-effective (Track-length)  = 0.36187 +/- 0.00791\n",
      " k-effective (Absorption)    = 0.36469 +/- 0.00820\n",
      " Combined k-effective        = 0.36391 +/- 0.00690\n",
      " Leakage Fraction            = 0.26730 +/- 0.00438\n",
      "\n"
     ]
    }
   ],
   "source": [
    "openmc.run()"
   ]
  },
  {
   "cell_type": "code",
   "execution_count": null,
   "metadata": {
    "id": "oz-PubPpaiQX"
   },
   "outputs": [],
   "source": []
  },
  {
   "cell_type": "code",
   "execution_count": null,
   "metadata": {
    "id": "32_wPa0UaiO2"
   },
   "outputs": [],
   "source": []
  },
  {
   "cell_type": "code",
   "execution_count": null,
   "metadata": {
    "id": "z2ht9N6-aiF7"
   },
   "outputs": [],
   "source": []
  },
  {
   "cell_type": "code",
   "execution_count": null,
   "metadata": {
    "id": "cMUbwwxDaiEY"
   },
   "outputs": [],
   "source": []
  },
  {
   "cell_type": "code",
   "execution_count": null,
   "metadata": {
    "id": "fDmL0riPaiCz"
   },
   "outputs": [],
   "source": []
  },
  {
   "cell_type": "code",
   "execution_count": null,
   "metadata": {
    "id": "VBbq9debahsR"
   },
   "outputs": [],
   "source": []
  }
 ],
 "metadata": {
  "colab": {
   "name": "VVER.ipynb",
   "provenance": []
  },
  "kernelspec": {
   "display_name": "Python 3",
   "language": "python",
   "name": "python3"
  },
  "language_info": {
   "codemirror_mode": {
    "name": "ipython",
    "version": 3
   },
   "file_extension": ".py",
   "mimetype": "text/x-python",
   "name": "python",
   "nbconvert_exporter": "python",
   "pygments_lexer": "ipython3",
   "version": "3.9.0"
  }
 },
 "nbformat": 4,
 "nbformat_minor": 1
}
